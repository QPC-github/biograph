{
 "cells": [
  {
   "cell_type": "code",
   "execution_count": null,
   "metadata": {
    "collapsed": false,
    "scrolled": false
   },
   "outputs": [
    {
     "name": "stdout",
     "output_type": "stream",
     "text": [
      "Sample: NA12878_S1\n",
      "Query: ACTGACT\n",
      "Found 98747 entries\n",
      "\n",
      "Showing the first 20 matches\n",
      "ACTGACTAAAAAAAAAAAAAAAAAAAAAAAAAAAAAAAAAAAAACGGAAAA\n",
      "ACTGACTAAAAAAAAAAAAAAAAAAAAAAAAAAAAAAAATTTTCC\n",
      "ACTGACTAAAAAAAAAAAAAAAAAAAAAAAAAAAAAATAAATTTTTC\n",
      "ACTGACTAAAAAAAAAAAAAAAAAAAAAAAAAAAAAATAATTTTTCC\n",
      "ACTGACTAAAAAAAAAAAAAAAAAAAAAAAAAAAAACCCACGGG\n",
      "ACTGACTAAAAAAAAAAAAAAAAAAAAAAAAAAAAATAAATTT\n",
      "ACTGACTAAAAAAAAAAAAAAAAAAAAAAAAAACCAAAAGAATT\n",
      "ACTGACTAAAAAAAAAAAAAAAAAAAAAAAAACCAAAAAGAATT\n",
      "ACTGACTAAAAAAAAAAAAAAAAAAAAAAAAACCCC\n",
      "ACTGACTAAAAAAAAAAAAAAAAAAAAAAAACTATGAATCTGTGGTTCTTTCTGACACCAAATACACAGTGTCTTTTCCAGCAACACTTTCTCTGATGCCA\n",
      "ACTGACTAAAAAAAAAAAAAAAAAAAAAAAAGAAAAAGAAAAAGAAAGAAATTCTCCATTGTATTACTAGAAAACGGTTAACCAGTATCTAAAAGAAA\n",
      "ACTGACTAAAAAAAAAAAAAAAAAAAAAAAAGCCGGGCCAGGTGGCTCACGCCTGTAATCCTAGCACTTTGGGAGGCTGAGTGGGGGTGGATCGCCTGA\n",
      "ACTGACTAAAAAAAAAAAAAAAAAAAAAAGTCATGATTGTGAATATTAACTAAGGAAAATTGCATGATTACCTAAATCAATTAGCAACTTTCCTCCATT\n",
      "ACTGACTAAAAAAAAAAAAAAAAAAAAAATTAGGCCAGGTGCGGTGGTTCATACCTGAAATCCCAGCACTTTGGGAGGCTGAGGTGGGCAGATCACTT\n",
      "ACTGACTAAAAAAAAAAAAAAAAAAAAAT\n",
      "ACTGACTAAAAAAAAAAAAAAAAAAAATTTT\n",
      "ACTGACTAAAAAAAAAAAAAAAATATATATATGATATATATGATATGATTGTGTGTGTGTATATATATACATATATACATATATATACATATATATA\n",
      "ACTGACTAAAAAAAAAAAAAAATGTTAATACTTTAGTAGCCATTTCATTCATTTAGCACTTTGGATTTGGTGACTTTTTAAAAATAATTTTATTTCACTT\n",
      "ACTGACTAAAAAAAAAAAAAATCCCATCTGCAGGATGGATCTGACCCAGGCACTACCAGTGTGTGACCCCTATCCTGAAGGAG\n",
      "ACTGACTAAAAAAAAAAAAACAAAAAAAAAAAAAAA\n",
      "\n",
      "Query: ACTGACTAAAAAAAAAAAAACAAAAAAAAAAAAAAA\n",
      "Found 1 entries\n",
      "\n",
      "ACTGACTAAAAAAAAAAAAACAAAAAAAAAAAAAAA\n",
      "\n",
      "Query: ACTGACTAAAAAAAAAAAAAC\n",
      "Found 2 entries\n",
      "\n",
      "ACTGACTAAAAAAAAAAAAACAAAAAAAAAAAAAAA\n",
      "ACTGACTAAAAAAAAAAAAACAAAAAAAAAAAAACACAAGTTTCCCTTTAAAGACCTAAGACACAGATCAAGGG\n",
      "\n"
     ]
    }
   ],
   "source": [
    "from libspiral import seqset\n",
    "\n",
    "max_results = 20\n",
    "sample = raw_input('Sample: ')\n",
    "\n",
    "my_graph = seqset('/mnt/{0}.gbwt'.format(sample))\n",
    "\n",
    "while True:\n",
    "    sequence = raw_input('Query: ')\n",
    "    if sequence == '':\n",
    "        break\n",
    "    new_ctx = my_graph.find(sequence)\n",
    "    if(new_ctx.valid):\n",
    "        count = new_ctx.end - new_ctx.begin\n",
    "        print 'Found {0} entries\\n'.format(count)\n",
    "        if count > max_results:\n",
    "            print 'Showing the first {0} matches'.format(max_results)\n",
    "            count = max_results\n",
    "        for i in range(new_ctx.begin, new_ctx.begin + count):\n",
    "            print my_graph.entry(i).sequence\n",
    "        print\n",
    "    else:\n",
    "        print 'No entries found.'"
   ]
  },
  {
   "cell_type": "code",
   "execution_count": null,
   "metadata": {
    "collapsed": true
   },
   "outputs": [],
   "source": []
  }
 ],
 "metadata": {
  "kernelspec": {
   "display_name": "Python 2",
   "language": "python",
   "name": "python2"
  },
  "language_info": {
   "codemirror_mode": {
    "name": "ipython",
    "version": 2
   },
   "file_extension": ".py",
   "mimetype": "text/x-python",
   "name": "python",
   "nbconvert_exporter": "python",
   "pygments_lexer": "ipython2",
   "version": "2.7.6"
  }
 },
 "nbformat": 4,
 "nbformat_minor": 0
}
