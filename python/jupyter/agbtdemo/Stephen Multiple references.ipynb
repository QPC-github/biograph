{
 "cells": [
  {
   "cell_type": "code",
   "execution_count": 1,
   "metadata": {
    "collapsed": false,
    "scrolled": false
   },
   "outputs": [
    {
     "name": "stdout",
     "output_type": "stream",
     "text": [
      "                                .\n",
      "                                .\n",
      "                                .\n",
      "           1:245822860      44 T│ \n",
      "           1:245822861      45 A│ \n",
      "           1:245822862      45 C│ \n",
      "                             1  ├───╮  44\n",
      "           1:245822863       0 C│   │T 44\n",
      "                             0  ├───╯  44\n",
      "           1:245822864      44 G│ \n",
      "           1:245822865      44 G│ \n",
      "           1:245822866      43 G│ \n",
      "                                .\n",
      "                                .\n",
      "                                .\n",
      "           1:245823566      31 G│ \n",
      "           1:245823567      31 T│ \n",
      "           1:245823568      31 C│ \n",
      "                             0  ├───╮  31  CTGAGGATCTAAGTACAGGG...[3865]\n",
      "                                │   ╰──────────────────────────┄ 1:245823631 ╮\n",
      "           1:245823569       0 G│ \n",
      "           1:245823570       0 T│ \n",
      "           1:245823571       0 G│ \n",
      "                                .\n",
      "                                .\n",
      "                                .\n",
      "           1:245823627       0 G│ \n",
      "           1:245823628       0 T│ \n",
      "           1:245823629       0 T│ \n",
      "           1:245823630       0 C│ \n",
      "                                │   ╭──────────────────────────┄ 1:245823568 ╯\n",
      "                             1  ├───╯  29  CTGAGGATCTAAGTACAGGG...[3865]\n",
      "           1:245823631      30 T│ \n",
      "           1:245823632      30 T│ \n",
      "                                .\n",
      "                                .\n",
      "                                .\n",
      "           1:245824138      37 G│ \n",
      "           1:245824139      37 A│ \n",
      "           1:245824140      37 C│ \n",
      "                             0  ├───╮  37\n",
      "           1:245824141       0 G│   │A 37\n",
      "                             0  ├───╯  36\n",
      "           1:245824142      36 G│ \n",
      "           1:245824143      37 G│ \n",
      "           1:245824144      37 G│ \n",
      "                                .\n",
      "                                .\n",
      "                                .\n",
      "           1:245824425      31 A│ \n",
      "           1:245824426      31 T│ \n",
      "           1:245824427      30 T│ \n",
      "                             0  ├───╮  30\n",
      "           1:245824428       0 A│   │G 31\n",
      "                             1  ├───╯  31\n",
      "           1:245824429      32 T│ \n",
      "           1:245824430      32 T│ \n",
      "           1:245824431      32 T│ \n",
      "                                .\n",
      "                                .\n",
      "                                .\n"
     ]
    }
   ],
   "source": [
    "\"\"\"\n",
    "    Switch between multiple references.\n",
    "\"\"\"\n",
    "from biograph import new_graph, reference, find_variants, visualize\n",
    "\n",
    "# Import data\n",
    "bg = new_graph(\"/mnt/NA12878_S1.gbwt\")\n",
    "\n",
    "# Import two references\n",
    "grch37 = reference(\"/reference/human_g1k_v37/\")\n",
    "grch38 = reference(\"/reference/homo_sapiens_GCA_000001405.19_GRCh38.p4/\")\n",
    "\n",
    "# Find variants for both reference coordinate systems\n",
    "grch37_coords = find_variants(bg, grch37, \"1\", 245822567, 245824567)\n",
    "\n",
    "# The equivalent locus in GRCh38\n",
    "# http://www.ncbi.nlm.nih.gov/nuccore/KI270759.1\n",
    "grch38_coords = find_variants(bg, grch38, \"KI270759.1\", 356442, 360442)\n",
    "\n",
    "# Let's see GRCh37\n",
    "for v in grch37_coords:\n",
    "    visualize(v.variants, v.coverage, v.ref_range)"
   ]
  },
  {
   "cell_type": "code",
   "execution_count": 6,
   "metadata": {
    "collapsed": false,
    "scrolled": true
   },
   "outputs": [
    {
     "name": "stdout",
     "output_type": "stream",
     "text": [
      "No variants found.\n"
     ]
    }
   ],
   "source": [
    "# The variant was included in GRCh38, alternate locus KI270759.1\n",
    "\n",
    "# Nature. 2001 Feb 15;409(6822):860-921.\n",
    "# http://www.ncbi.nlm.nih.gov/pubmed/11237011\n",
    "    \n",
    "# We would not expect to see it called against GRCh38.\n",
    "for v in grch38_coords:\n",
    "    visualize(v.variants, v.coverage, v.ref_range)"
   ]
  }
 ],
 "metadata": {
  "kernelspec": {
   "display_name": "Python 2",
   "language": "python",
   "name": "python2"
  },
  "language_info": {
   "codemirror_mode": {
    "name": "ipython",
    "version": 2
   },
   "file_extension": ".py",
   "mimetype": "text/x-python",
   "name": "python",
   "nbconvert_exporter": "python",
   "pygments_lexer": "ipython2",
   "version": "2.7.6"
  }
 },
 "nbformat": 4,
 "nbformat_minor": 0
}
