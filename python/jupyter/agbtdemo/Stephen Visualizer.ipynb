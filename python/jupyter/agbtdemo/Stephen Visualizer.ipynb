{
 "cells": [
  {
   "cell_type": "code",
   "execution_count": 32,
   "metadata": {
    "collapsed": false,
    "scrolled": false
   },
   "outputs": [],
   "source": [
    "\"\"\"\n",
    "    Show a simple visualization of variants to reference.\n",
    "\"\"\"\n",
    "from biograph import new_graph, reference, find_variants, visualize"
   ]
  },
  {
   "cell_type": "code",
   "execution_count": 83,
   "metadata": {
    "collapsed": false
   },
   "outputs": [],
   "source": [
    "# Import the graph genome of the mother\n",
    "bg = new_graph(\"/mnt/NA12878_S1.gbwt\")"
   ]
  },
  {
   "cell_type": "code",
   "execution_count": 84,
   "metadata": {
    "collapsed": true
   },
   "outputs": [],
   "source": [
    "# Import a reference\n",
    "grch37 = reference(\"/reference/human_g1k_v37/\")"
   ]
  },
  {
   "cell_type": "code",
   "execution_count": 85,
   "metadata": {
    "collapsed": false,
    "scrolled": true
   },
   "outputs": [],
   "source": [
    "# Find variants in a range of 2kbases of Chromosome 1\n",
    "grch37_coords = find_variants(bg, grch37, \"1\", 245822567, 245824567)"
   ]
  },
  {
   "cell_type": "code",
   "execution_count": 86,
   "metadata": {
    "collapsed": false,
    "scrolled": false
   },
   "outputs": [
    {
     "name": "stdout",
     "output_type": "stream",
     "text": [
      "                                .\n",
      "                                .\n",
      "                                .\n"
     ]
    },
    {
     "ename": "UnicodeDecodeError",
     "evalue": "'ascii' codec can't decode byte 0xe2 in position 32: ordinal not in range(128)",
     "output_type": "error",
     "traceback": [
      "\u001b[1;31m---------------------------------------------------------------------------\u001b[0m",
      "\u001b[1;31mUnicodeDecodeError\u001b[0m                        Traceback (most recent call last)",
      "\u001b[1;32m<ipython-input-86-2313baf87e4d>\u001b[0m in \u001b[0;36m<module>\u001b[1;34m()\u001b[0m\n\u001b[0;32m      1\u001b[0m \u001b[1;31m# There is a 3.865 Kbase insertion in place of a deletion of 63 bases\u001b[0m\u001b[1;33m\u001b[0m\u001b[1;33m\u001b[0m\u001b[0m\n\u001b[0;32m      2\u001b[0m \u001b[1;32mfor\u001b[0m \u001b[0mv\u001b[0m \u001b[1;32min\u001b[0m \u001b[0mgrch37_coords\u001b[0m\u001b[1;33m:\u001b[0m\u001b[1;33m\u001b[0m\u001b[0m\n\u001b[1;32m----> 3\u001b[1;33m     \u001b[0mvisualize\u001b[0m\u001b[1;33m(\u001b[0m\u001b[0mv\u001b[0m\u001b[1;33m.\u001b[0m\u001b[0mvariants\u001b[0m\u001b[1;33m,\u001b[0m \u001b[0mv\u001b[0m\u001b[1;33m.\u001b[0m\u001b[0mcoverage\u001b[0m\u001b[1;33m,\u001b[0m \u001b[0mv\u001b[0m\u001b[1;33m.\u001b[0m\u001b[0mref_range\u001b[0m\u001b[1;33m)\u001b[0m\u001b[1;33m\u001b[0m\u001b[0m\n\u001b[0m",
      "\u001b[1;32m/home/spiral/demo/biograph.pyc\u001b[0m in \u001b[0;36mvisualize\u001b[1;34m(variants, coverage, ref_range, min_size, ascii)\u001b[0m\n\u001b[0;32m    295\u001b[0m                 \u001b[0mref_seq\u001b[0m\u001b[1;33m[\u001b[0m\u001b[0mref_loc\u001b[0m\u001b[1;33m]\u001b[0m\u001b[1;33m,\u001b[0m\u001b[1;33m\u001b[0m\u001b[0m\n\u001b[0;32m    296\u001b[0m                 \u001b[0mp_vert\u001b[0m\u001b[1;33m,\u001b[0m\u001b[1;33m\u001b[0m\u001b[0m\n\u001b[1;32m--> 297\u001b[1;33m                 more)\n\u001b[0m\u001b[0;32m    298\u001b[0m         \u001b[1;32melif\u001b[0m \u001b[0mref_loc\u001b[0m \u001b[1;33m==\u001b[0m \u001b[1;33m-\u001b[0m\u001b[1;36m1\u001b[0m\u001b[1;33m:\u001b[0m\u001b[1;33m\u001b[0m\u001b[0m\n\u001b[0;32m    299\u001b[0m             \u001b[1;32mprint\u001b[0m \u001b[1;34m\"                                %c %s\"\u001b[0m \u001b[1;33m%\u001b[0m \u001b[1;33m(\u001b[0m\u001b[0mp_vert\u001b[0m\u001b[1;33m,\u001b[0m \u001b[0mmore\u001b[0m\u001b[1;33m)\u001b[0m\u001b[1;33m\u001b[0m\u001b[0m\n",
      "\u001b[1;32m/usr/lib/python2.7/codecs.pyc\u001b[0m in \u001b[0;36mwrite\u001b[1;34m(self, object)\u001b[0m\n\u001b[0;32m    350\u001b[0m         \"\"\"\n\u001b[0;32m    351\u001b[0m         \u001b[0mdata\u001b[0m\u001b[1;33m,\u001b[0m \u001b[0mconsumed\u001b[0m \u001b[1;33m=\u001b[0m \u001b[0mself\u001b[0m\u001b[1;33m.\u001b[0m\u001b[0mencode\u001b[0m\u001b[1;33m(\u001b[0m\u001b[0mobject\u001b[0m\u001b[1;33m,\u001b[0m \u001b[0mself\u001b[0m\u001b[1;33m.\u001b[0m\u001b[0merrors\u001b[0m\u001b[1;33m)\u001b[0m\u001b[1;33m\u001b[0m\u001b[0m\n\u001b[1;32m--> 352\u001b[1;33m         \u001b[0mself\u001b[0m\u001b[1;33m.\u001b[0m\u001b[0mstream\u001b[0m\u001b[1;33m.\u001b[0m\u001b[0mwrite\u001b[0m\u001b[1;33m(\u001b[0m\u001b[0mdata\u001b[0m\u001b[1;33m)\u001b[0m\u001b[1;33m\u001b[0m\u001b[0m\n\u001b[0m\u001b[0;32m    353\u001b[0m \u001b[1;33m\u001b[0m\u001b[0m\n\u001b[0;32m    354\u001b[0m     \u001b[1;32mdef\u001b[0m \u001b[0mwritelines\u001b[0m\u001b[1;33m(\u001b[0m\u001b[0mself\u001b[0m\u001b[1;33m,\u001b[0m \u001b[0mlist\u001b[0m\u001b[1;33m)\u001b[0m\u001b[1;33m:\u001b[0m\u001b[1;33m\u001b[0m\u001b[0m\n",
      "\u001b[1;32m/usr/lib/python2.7/codecs.pyc\u001b[0m in \u001b[0;36mwrite\u001b[1;34m(self, object)\u001b[0m\n\u001b[0;32m    349\u001b[0m         \"\"\" Writes the object's contents encoded to self.stream.\n\u001b[0;32m    350\u001b[0m         \"\"\"\n\u001b[1;32m--> 351\u001b[1;33m         \u001b[0mdata\u001b[0m\u001b[1;33m,\u001b[0m \u001b[0mconsumed\u001b[0m \u001b[1;33m=\u001b[0m \u001b[0mself\u001b[0m\u001b[1;33m.\u001b[0m\u001b[0mencode\u001b[0m\u001b[1;33m(\u001b[0m\u001b[0mobject\u001b[0m\u001b[1;33m,\u001b[0m \u001b[0mself\u001b[0m\u001b[1;33m.\u001b[0m\u001b[0merrors\u001b[0m\u001b[1;33m)\u001b[0m\u001b[1;33m\u001b[0m\u001b[0m\n\u001b[0m\u001b[0;32m    352\u001b[0m         \u001b[0mself\u001b[0m\u001b[1;33m.\u001b[0m\u001b[0mstream\u001b[0m\u001b[1;33m.\u001b[0m\u001b[0mwrite\u001b[0m\u001b[1;33m(\u001b[0m\u001b[0mdata\u001b[0m\u001b[1;33m)\u001b[0m\u001b[1;33m\u001b[0m\u001b[0m\n\u001b[0;32m    353\u001b[0m \u001b[1;33m\u001b[0m\u001b[0m\n",
      "\u001b[1;31mUnicodeDecodeError\u001b[0m: 'ascii' codec can't decode byte 0xe2 in position 32: ordinal not in range(128)"
     ]
    }
   ],
   "source": [
    "# There is a 3.865 Kbase insertion in place of a deletion of 63 bases\n",
    "for v in grch37_coords:\n",
    "    visualize(v.variants, v.coverage, v.ref_range)"
   ]
  },
  {
   "cell_type": "code",
   "execution_count": 87,
   "metadata": {
    "collapsed": false
   },
   "outputs": [
    {
     "data": {
      "text/plain": [
       "[<libspiral.variant 1:245822863_1:1>,\n",
       " <libspiral.variant 1:245824141_1:1>,\n",
       " <libspiral.variant 1:245823631-_3865_1:245823568->,\n",
       " <libspiral.variant 1:245824428_1:1>]"
      ]
     },
     "execution_count": 87,
     "metadata": {},
     "output_type": "execute_result"
    }
   ],
   "source": [
    "# List all of the variants\n",
    "grch37_coords[0].variants"
   ]
  },
  {
   "cell_type": "code",
   "execution_count": 8,
   "metadata": {
    "collapsed": false,
    "scrolled": true
   },
   "outputs": [
    {
     "name": "stdout",
     "output_type": "stream",
     "text": [
      "True False False\n"
     ]
    }
   ],
   "source": [
    "# The deletion is a structural variant, - -\n",
    "sv = grch37_coords[0].variants[2]\n",
    "print sv.is_structural, sv.left_forward, sv.right_forward"
   ]
  },
  {
   "cell_type": "code",
   "execution_count": 54,
   "metadata": {
    "collapsed": false,
    "scrolled": true
   },
   "outputs": [
    {
     "name": "stdout",
     "output_type": "stream",
     "text": [
      "CTGAGGATCTAAGTACAGGGGAGTTCTGGGCATGCATTAGTGCTCTAAGGAGAGGCCTTCGCTGGTTAATGTCCCCAGGTTTGGGTTGGTAGCCTACCATTTGGTATCATACTGAGCTCCCTAATTTTGAGCTACATCTAGAAGACCACGTGCCTGGTGCCAAGAAGGACACTTAGACTATGTGTGGATGGAGCTTCATCAGCTGTTCTAATGAACGTTTTGCAAAAGACCATTGTGAGTGAGATGGGAGTTTCTCTGTTTTCAAGCCCAGGGCCCTGCCTGCTGGTGTGTCCCTCTTCTGAGTCATTCAGCCTTGACCCACTCTAGGGAACCGGAGGAATCCACAGCCCAGAGCTCTCCCATGGTGGCCTGTTTGACAGTCACATTCTGAAAAAGCAAACCTCTTGGCTTGATTTCTTGCTGGAATAATGAAACCCAGCTCGGCCCCTGCTTGATAATTGCCTTTGGGAAAAAGGTAATAGCCACCTTGAAACACCATTCAGTTGGACCTTTCCAAAAGCCACGGGTTTTTCTTCACCAAAGTCCTTCATTTGAGCCTATAATCTGTGAATGGAAAGAAGCGATGATGCCTCTAAAAGCCTTTTGGTTGGAGTCAGAGTCACCCTTTGAGCACTGAGTTCTCTTTCCAGGGACCTCTCCCATGTGGTCTTGGAGCCATGGGTGTTGTACAAAAGCAACAGGCCTAGCAGAGCTACCAGTGTGTGAGCGTTTGCTGTGTGAGCCCAGGCTTTCCACAGGACGAAGATTCTCTCACCAGAGTGTGAGCATTTGCAGTGTGAGCCCAGGCTCTCTACAGGACGAAGATTCTCTTACCAGCATGTGAACATTTGCAGTGTGAGCCCAGGCTCTCTACAGGACGAAGATTCTCTCACCAGAGTGTGAGCATTTGCTAGTGTGAGCCCAGGCTCTCTACAGGACGAAGATTCTCTTACCAGCATGTGAGCATTTGCAGTGTGAGCCCAGGCTCTCCACAGGACAAAGATTCTCTTTTCACCCTCACGTCAACCTCACGTCAAGATGGGAGATAAAGAATAGCAAAATAGGGCTGGGTGTAAGCTCTGGATAGCTTCTTCGGGTATCCAGGGATAGATGCTGTGATTACTCCTATTTTATAGATGAAGAAACAGATGAAAGGAGCCCACGTCCCATGCACGATACTGGCAAGCTAGGATTCAAACACAGTGGGGCTCCAGCACCTTCCCTTTCAGTCCCCACATTAGCCTCTGGCTGAGGTGTGGGGAAAAGCTCACAGATCAGACTGGGGGGACCTGAGTTCCAGCCCCAGCTCCTCGCGGGCTGCCTGTGTGACCTGAGAGCCCCGAGGCTCCATCTGTGAAATGCAGAGGGGGTGGCAGACAGCTCGTCACGAGGAGTGAATGAGATCCTGCAGATGAAGGTATTTGGTATACTGAAGAGCTCTGAGAATGATGAAAATGATGTGCAAGTCTCTTCCAGGACTTTTTGTGTGCCTTTCGTAGTGTAATACAGACCCCGGCACATGGGTGTTCACACTTAGGGTATGACCAGCCTCACAGCTAAGTTGCTTAGCATATGGTACCAGCGAACCCAAGTTTGTAAACCAGAACTTCCCATTGCTTTCTTGATTGTCAAGTTTGACCCTGGCCAGCATCCTCTGATACACTGAAAATACACTCTGTGTGTCCAGAAGCAGCTGAGCTTTTGTCTCAGGCCAACCTCACATTCAACCCACTATCCTCCGTCTTGTTCCTCCACGAGGAAAGGGACGTGAATGCCTATAGGCCATCAGAGATGCAGGTGAAACAAACCTCAGTGCATCATTGCACGGGGCCAGATGGGGGGGCCGGTGTTTCCCTGCGGAATCCGGAGGACAGCTGTGCCAGCCACGTGTCCAGGCCCAGGATCCACAATAGGAAAGGGGTTGCTGATGCATTTCAAACTATCTCTAAAGTTGTGAGTGTATATGGCAAAATCCCATCCTACCAAGCCTTCTTGCTATATACATTTGAGTAGAAAATGACATGAGCCAGAAGCTCCAAAGCCTGAGATCCAGAGCATAAACTCCTGCTGTCATGTTGAGGCTGGGGCAGTCCAGTCGCAAGCAGTGCTCCAAAGGAATGCAGTAGGCTGTTCTCATCTTGCCGTAAAGAAATACCCGAGGCTGGGTAATTTCTAAGGAGAAAGGTTTATTTTTGGCTCACAGTTCCACAGGCTGTACGGGAAGCATGGTGCCGGCATCTGCTTCTGGTGAGGCCTCAGGAAGCTTATAATCAAGATGGAAGGTGAAGGGGGAGCAGGTGTGTTACATGGCAACAGAGGGTGCAAGAGAGAGAGAAGGGGGAGGTCCCAGACTCTTTGAAATAGCTGGATCTCATGTGAACTAATAGAGCGAGAACTCACTCATCAACAGGGGATGGCTCTAAGCCATTCAGGAGGGATCTTCCCCCAGGATCCAGCCACCTCCCGCCAGGCCCCCCCTCCAACACTGGGAATCACATTTCAACCTGAGCTTTGGAGGGTATGAACATCCAAACCATATTGGGCTCTATCGTTTTTGAGATTTTACTCACTGGGCGACAACGTAGAGCACCCACCGCTGGGCTGATATGATTTGTTCCCGTTTCCTGGGCAACCAGGTGCGCAGGGCCACGAGATGAGCCTCTTGTGACAACTAAGCCACCTTGATGATGGCTTTAACTCGGGGCCTGGAAGTCAGACTCCCATGCTTTGAGGATATTTTTTGTGGTGGTGTCATTTGTTATGAGGGTTATTCTTTTTTCTCTTGGTACTTCCCAGCCTCATTACTTCTCTGTGCCAAACTGTGCCAGGAAATCACTGACTTTATCATCATGATCATCATCATCATCACCATCACTCAAACTTTGGTAGTGCAGTGCAGTGCCTGCTAGCGCCAAGCTCTAGACTCGGTTCTTTATATATACTCAGTCATCGCATGTTCATGGCAGTCTCATGGGACCAGCACTACAAATGTGTCTAAGGAGGTTTCCTCGAAATCTCCTTTGTCACAGTGGCCTGGAGCATGCAGAAGCAGGTAACAGAAATACCAGCAGCCACTCCTGACTCATCACTGATAGTGGAACTGGTAAGGGACAAACTTGTAAATGAGCAAAGTTAGATTTCTGGGCCTCCTCACCACCTCCCCACTTAGTGCTGTGTCCCCACCCCACAGGTACCCGGTACCTTTGTGCTCTCCAAGAATGCCCCATACTGCCACTTTCCACCCCCATCCTCCTGCCTGTACCTTGTTGCAAATCCCCAACGCCCTGGGCCTCAGTTGACTCTGTACCTACCCCAAAAGGCATCTTTCCTGCAGGTGCTCCTTCCCACGAAGCCCTGTGGTAAGGTCATGTGCTGTCTTCGGTCAAATCAAAACTCCAGTATCTGATAAGAGTCTAAAGATATATGAGAGTTCCCACTATTCCCAACCTTGTCAATATTTGTATTGTTTGATTTTTAAAGTTTTTGGCCATTAGGTGAATATTTAATGGTATGTCATTGTAATTTTAATTTGCAATTTTCCTGATGACTGCTAAGGTTGAGTATCTTTTCATGTTTATTATTCTCTGTATAGTTCTTGTTCATGTCTTTTGCCTGCTTTTCTGTACAGTTGCTTAGCTTTTTGTTAATTGATTCATAGGAATTCTTTGTAAACTCTGGATACCTTCTGCAGGCACCACTCATTGAGACCCCACTGACCAGGAACGATCTTTCAGTCATTTAAGTGACTCTGTGTGGAGTTGTCTCTGGGTTCTCTAGCCCTGCGCTGTTACCACAGTCTTAATAACATTGCCCTTTGCTAATTTTCTTTACGGCATGTTCATTTGCCATTTATTAATTTCTGTTG\n"
     ]
    }
   ],
   "source": [
    "# Show the reverse complement of the sequence\n",
    "print str(sv.flip().sequence)"
   ]
  },
  {
   "cell_type": "code",
   "execution_count": 10,
   "metadata": {
    "collapsed": false,
    "scrolled": true
   },
   "outputs": [],
   "source": [
    "# Insertion in NA12878 (mother) validated by Eichler\n",
    "grch37_coords = find_variants(bg, grch37, \"8\", 88268339, 88269142)"
   ]
  },
  {
   "cell_type": "code",
   "execution_count": 82,
   "metadata": {
    "collapsed": false
   },
   "outputs": [
    {
     "name": "stdout",
     "output_type": "stream",
     "text": [
      "                                .\n",
      "                                .\n",
      "                                .\n"
     ]
    },
    {
     "ename": "UnicodeDecodeError",
     "evalue": "'ascii' codec can't decode byte 0xe2 in position 32: ordinal not in range(128)",
     "output_type": "error",
     "traceback": [
      "\u001b[1;31m---------------------------------------------------------------------------\u001b[0m",
      "\u001b[1;31mUnicodeDecodeError\u001b[0m                        Traceback (most recent call last)",
      "\u001b[1;32m<ipython-input-82-b692dde56776>\u001b[0m in \u001b[0;36m<module>\u001b[1;34m()\u001b[0m\n\u001b[0;32m      1\u001b[0m \u001b[1;31m# Let's see it -- there is a 2.457 Kbase insertion in place of a deletion of 64 bases\u001b[0m\u001b[1;33m\u001b[0m\u001b[1;33m\u001b[0m\u001b[0m\n\u001b[0;32m      2\u001b[0m \u001b[1;32mfor\u001b[0m \u001b[0mv\u001b[0m \u001b[1;32min\u001b[0m \u001b[0mgrch37_coords\u001b[0m\u001b[1;33m:\u001b[0m\u001b[1;33m\u001b[0m\u001b[0m\n\u001b[1;32m----> 3\u001b[1;33m     \u001b[0mvisualize\u001b[0m\u001b[1;33m(\u001b[0m\u001b[0mv\u001b[0m\u001b[1;33m.\u001b[0m\u001b[0mvariants\u001b[0m\u001b[1;33m,\u001b[0m \u001b[0mv\u001b[0m\u001b[1;33m.\u001b[0m\u001b[0mcoverage\u001b[0m\u001b[1;33m,\u001b[0m \u001b[0mv\u001b[0m\u001b[1;33m.\u001b[0m\u001b[0mref_range\u001b[0m\u001b[1;33m)\u001b[0m\u001b[1;33m\u001b[0m\u001b[0m\n\u001b[0m",
      "\u001b[1;32m/home/spiral/demo/biograph.pyc\u001b[0m in \u001b[0;36mvisualize\u001b[1;34m(variants, coverage, ref_range, min_size, ascii)\u001b[0m\n\u001b[0;32m    295\u001b[0m                 \u001b[0mref_seq\u001b[0m\u001b[1;33m[\u001b[0m\u001b[0mref_loc\u001b[0m\u001b[1;33m]\u001b[0m\u001b[1;33m,\u001b[0m\u001b[1;33m\u001b[0m\u001b[0m\n\u001b[0;32m    296\u001b[0m                 \u001b[0mp_vert\u001b[0m\u001b[1;33m,\u001b[0m\u001b[1;33m\u001b[0m\u001b[0m\n\u001b[1;32m--> 297\u001b[1;33m                 more)\n\u001b[0m\u001b[0;32m    298\u001b[0m         \u001b[1;32melif\u001b[0m \u001b[0mref_loc\u001b[0m \u001b[1;33m==\u001b[0m \u001b[1;33m-\u001b[0m\u001b[1;36m1\u001b[0m\u001b[1;33m:\u001b[0m\u001b[1;33m\u001b[0m\u001b[0m\n\u001b[0;32m    299\u001b[0m             \u001b[1;32mprint\u001b[0m \u001b[1;34m\"                                %c %s\"\u001b[0m \u001b[1;33m%\u001b[0m \u001b[1;33m(\u001b[0m\u001b[0mp_vert\u001b[0m\u001b[1;33m,\u001b[0m \u001b[0mmore\u001b[0m\u001b[1;33m)\u001b[0m\u001b[1;33m\u001b[0m\u001b[0m\n",
      "\u001b[1;32m/usr/lib/python2.7/codecs.pyc\u001b[0m in \u001b[0;36mwrite\u001b[1;34m(self, object)\u001b[0m\n\u001b[0;32m    350\u001b[0m         \"\"\"\n\u001b[0;32m    351\u001b[0m         \u001b[0mdata\u001b[0m\u001b[1;33m,\u001b[0m \u001b[0mconsumed\u001b[0m \u001b[1;33m=\u001b[0m \u001b[0mself\u001b[0m\u001b[1;33m.\u001b[0m\u001b[0mencode\u001b[0m\u001b[1;33m(\u001b[0m\u001b[0mobject\u001b[0m\u001b[1;33m,\u001b[0m \u001b[0mself\u001b[0m\u001b[1;33m.\u001b[0m\u001b[0merrors\u001b[0m\u001b[1;33m)\u001b[0m\u001b[1;33m\u001b[0m\u001b[0m\n\u001b[1;32m--> 352\u001b[1;33m         \u001b[0mself\u001b[0m\u001b[1;33m.\u001b[0m\u001b[0mstream\u001b[0m\u001b[1;33m.\u001b[0m\u001b[0mwrite\u001b[0m\u001b[1;33m(\u001b[0m\u001b[0mdata\u001b[0m\u001b[1;33m)\u001b[0m\u001b[1;33m\u001b[0m\u001b[0m\n\u001b[0m\u001b[0;32m    353\u001b[0m \u001b[1;33m\u001b[0m\u001b[0m\n\u001b[0;32m    354\u001b[0m     \u001b[1;32mdef\u001b[0m \u001b[0mwritelines\u001b[0m\u001b[1;33m(\u001b[0m\u001b[0mself\u001b[0m\u001b[1;33m,\u001b[0m \u001b[0mlist\u001b[0m\u001b[1;33m)\u001b[0m\u001b[1;33m:\u001b[0m\u001b[1;33m\u001b[0m\u001b[0m\n",
      "\u001b[1;32m/usr/lib/python2.7/codecs.pyc\u001b[0m in \u001b[0;36mwrite\u001b[1;34m(self, object)\u001b[0m\n\u001b[0;32m    349\u001b[0m         \"\"\" Writes the object's contents encoded to self.stream.\n\u001b[0;32m    350\u001b[0m         \"\"\"\n\u001b[1;32m--> 351\u001b[1;33m         \u001b[0mdata\u001b[0m\u001b[1;33m,\u001b[0m \u001b[0mconsumed\u001b[0m \u001b[1;33m=\u001b[0m \u001b[0mself\u001b[0m\u001b[1;33m.\u001b[0m\u001b[0mencode\u001b[0m\u001b[1;33m(\u001b[0m\u001b[0mobject\u001b[0m\u001b[1;33m,\u001b[0m \u001b[0mself\u001b[0m\u001b[1;33m.\u001b[0m\u001b[0merrors\u001b[0m\u001b[1;33m)\u001b[0m\u001b[1;33m\u001b[0m\u001b[0m\n\u001b[0m\u001b[0;32m    352\u001b[0m         \u001b[0mself\u001b[0m\u001b[1;33m.\u001b[0m\u001b[0mstream\u001b[0m\u001b[1;33m.\u001b[0m\u001b[0mwrite\u001b[0m\u001b[1;33m(\u001b[0m\u001b[0mdata\u001b[0m\u001b[1;33m)\u001b[0m\u001b[1;33m\u001b[0m\u001b[0m\n\u001b[0;32m    353\u001b[0m \u001b[1;33m\u001b[0m\u001b[0m\n",
      "\u001b[1;31mUnicodeDecodeError\u001b[0m: 'ascii' codec can't decode byte 0xe2 in position 32: ordinal not in range(128)"
     ]
    }
   ],
   "source": [
    "# Let's see it -- there is a 2.457 Kbase insertion in place of a deletion of 64 bases\n",
    "for v in grch37_coords:\n",
    "    visualize(v.variants, v.coverage, v.ref_range)"
   ]
  },
  {
   "cell_type": "code",
   "execution_count": 14,
   "metadata": {
    "collapsed": false
   },
   "outputs": [],
   "source": [
    "# Import the graph genome of the gfather\n",
    "bg = new_graph(\"/mnt/NA12891_S1.gbwt\")"
   ]
  },
  {
   "cell_type": "code",
   "execution_count": 15,
   "metadata": {
    "collapsed": false,
    "scrolled": true
   },
   "outputs": [],
   "source": [
    "# Insertion in NA12891 (gfather) validated by Eichler\n",
    "grch37_coords = find_variants(bg, grch37, \"8\", 88268339, 88269142)"
   ]
  },
  {
   "cell_type": "code",
   "execution_count": 16,
   "metadata": {
    "collapsed": false
   },
   "outputs": [
    {
     "name": "stdout",
     "output_type": "stream",
     "text": [
      "                                .\n",
      "                                .\n",
      "                                .\n",
      "           8:88268934       39 T│ \n",
      "           8:88268935       40 T│ \n",
      "           8:88268936       41 G│ \n",
      "                            25  ├───╮  16  CTAGTGCCATAAATATTTAA...[2457]\n",
      "                                │   ╰──────────────────────────┄ 8:88269000 ╮\n",
      "           8:88268937       24 G│ \n",
      "           8:88268938       25 G│ \n",
      "           8:88268939       25 A│ \n",
      "                                .\n",
      "                                .\n",
      "                                .\n",
      "           8:88268996       22 T│ \n",
      "           8:88268997       21 T│ \n",
      "           8:88268998       20 T│ \n",
      "           8:88268999       20 C│ \n",
      "                                │   ╭──────────────────────────┄ 8:88268936 ╯\n",
      "                            20  ├───╯  15  CTAGTGCCATAAATATTTAA...[2457]\n",
      "           8:88269000       35 C│ \n",
      "           8:88269001       36 C│ \n",
      "                                .\n",
      "                                .\n",
      "                                .\n"
     ]
    }
   ],
   "source": [
    "# Let's see it -- in the gfather the deletion has identical location and sequence, but it is heterozygous\n",
    "for v in grch37_coords:\n",
    "    visualize(v.variants, v.coverage, v.ref_range)"
   ]
  },
  {
   "cell_type": "code",
   "execution_count": 17,
   "metadata": {
    "collapsed": false
   },
   "outputs": [],
   "source": [
    "# Import the graph genome of the gmother\n",
    "bg = new_graph(\"/mnt/NA12892_S1.gbwt\")"
   ]
  },
  {
   "cell_type": "code",
   "execution_count": 18,
   "metadata": {
    "collapsed": false,
    "scrolled": true
   },
   "outputs": [],
   "source": [
    "# Insertion in NA12892 (gmother) validated by Eichler\n",
    "grch37_coords = find_variants(bg, grch37, \"8\", 88268339, 88269142)"
   ]
  },
  {
   "cell_type": "code",
   "execution_count": 19,
   "metadata": {
    "collapsed": false
   },
   "outputs": [
    {
     "name": "stdout",
     "output_type": "stream",
     "text": [
      "                                .\n",
      "                                .\n",
      "                                .\n",
      "           8:88268934       38 T│ \n",
      "           8:88268935       39 T│ \n",
      "           8:88268936       38 G│ \n",
      "                            17  ├───╮  21  CTAGTGCCATAAATATTTAA...[2457]\n",
      "                                │   ╰──────────────────────────┄ 8:88269000 ╮\n",
      "           8:88268937       17 G│ \n",
      "           8:88268938       17 G│ \n",
      "           8:88268939       17 A│ \n",
      "                                .\n",
      "                                .\n",
      "                                .\n",
      "           8:88268996       19 T│ \n",
      "           8:88268997       20 T│ \n",
      "           8:88268998       19 T│ \n",
      "           8:88268999       19 C│ \n",
      "                                │   ╭──────────────────────────┄ 8:88268936 ╯\n",
      "                            19  ├───╯  36  CTAGTGCCATAAATATTTAA...[2457]\n",
      "           8:88269000       55 C│ \n",
      "           8:88269001       55 C│ \n",
      "                                .\n",
      "                                .\n",
      "                                .\n"
     ]
    }
   ],
   "source": [
    "# Let's see it -- in the gmother the deletion has identical location and sequence, but it is heterozygous\n",
    "for v in grch37_coords:\n",
    "    visualize(v.variants, v.coverage, v.ref_range)"
   ]
  },
  {
   "cell_type": "code",
   "execution_count": 37,
   "metadata": {
    "collapsed": false
   },
   "outputs": [],
   "source": [
    "# Import the graph genome of the mother\n",
    "bg = new_graph(\"/mnt/NA12878_S1.gbwt\")"
   ]
  },
  {
   "cell_type": "code",
   "execution_count": 38,
   "metadata": {
    "collapsed": false,
    "scrolled": true
   },
   "outputs": [],
   "source": [
    "# Deletion in NA12878 (mother) validated by Eichler\n",
    "grch37_coords = find_variants(bg, grch37, \"5\", 12810916, 12820623)"
   ]
  },
  {
   "cell_type": "code",
   "execution_count": 39,
   "metadata": {
    "collapsed": false
   },
   "outputs": [
    {
     "name": "stdout",
     "output_type": "stream",
     "text": [
      "                                .\n",
      "                                .\n",
      "                                .\n",
      "           5:12811015       45 A│ \n",
      "           5:12811016       45 A│ \n",
      "           5:12811017       45 A│ \n",
      "                            23  ├───╮  22  \n",
      "                                │   ╰──────┄ 5:12820524 ╮\n",
      "           5:12811018       23 T│ \n",
      "           5:12811019       23 G│ \n",
      "           5:12811020       22 A│ \n",
      "                                .\n",
      "                                .\n",
      "                                .\n",
      "           5:12814976       20 G│ \n",
      "           5:12814977       19 T│ \n",
      "           5:12814978       20 A│ \n",
      "                             0  ├───╮  20\n",
      "           5:12814979        0 G│   │C 20\n",
      "                             0  ├───╯  20\n",
      "           5:12814980       20 T│ \n",
      "           5:12814981       20 C│ \n",
      "           5:12814982       21 A│ \n",
      "                                .\n",
      "                                .\n",
      "                                .\n",
      "           5:12819195       22 T│ \n",
      "           5:12819196       22 T│ \n",
      "           5:12819197       22 G│ \n",
      "                             0  ├───╮  22\n",
      "           5:12819198        0 C│   │T 22\n",
      "                             0  ├───╯  22\n",
      "           5:12819199       22 A│ \n",
      "           5:12819200       23 T│ \n",
      "           5:12819201       22 T│ \n",
      "                                .\n",
      "                                .\n",
      "                                .\n",
      "           5:12820520       18 T│ \n",
      "           5:12820521       19 T│ \n",
      "           5:12820522       19 T│ \n",
      "           5:12820523       18 T│ \n",
      "                                │   ╭──────┄ 5:12811017 ╯\n",
      "                            18  ├───╯  22  \n",
      "           5:12820524       40 T│ \n",
      "           5:12820525       41 G│ \n",
      "                                .\n",
      "                                .\n",
      "                                .\n",
      "           5:12820532       42 T│ \n",
      "           5:12820533       42 A│ \n",
      "           5:12820534       41 G│ \n",
      "                            20  ├───╮  21\n",
      "           5:12820535       20 T│   │G 20\n",
      "                            20  ├───╯  19\n",
      "           5:12820536       39 A│ \n",
      "           5:12820537       39 G│ \n",
      "           5:12820538       38 A│ \n",
      "                                .\n",
      "                                .\n",
      "                                .\n"
     ]
    }
   ],
   "source": [
    "# Let's see it -- there is about a 9.5 Kbase deletion in one strand, and two SNPs in the other\n",
    "for v in grch37_coords:\n",
    "    visualize(v.variants, v.coverage, v.ref_range)"
   ]
  },
  {
   "cell_type": "code",
   "execution_count": 22,
   "metadata": {
    "collapsed": false
   },
   "outputs": [],
   "source": [
    "# Import the graph genome of the gfather\n",
    "bg = new_graph(\"/mnt/NA12891_S1.gbwt\")"
   ]
  },
  {
   "cell_type": "code",
   "execution_count": 23,
   "metadata": {
    "collapsed": false,
    "scrolled": true
   },
   "outputs": [],
   "source": [
    "# Deletion in NA12891 (gfather) validated by Eichler\n",
    "grch37_coords = find_variants(bg, grch37, \"5\", 12810916, 12820623)"
   ]
  },
  {
   "cell_type": "code",
   "execution_count": 24,
   "metadata": {
    "collapsed": false
   },
   "outputs": [
    {
     "name": "stdout",
     "output_type": "stream",
     "text": [
      "                                .\n",
      "                                .\n",
      "                                .\n",
      "           5:12811015       31 A│ \n",
      "           5:12811016       31 A│ \n",
      "           5:12811017       31 A│ \n",
      "                             0  ├───╮  31  \n",
      "                                │   ╰──────┄ 5:12820524 ╮\n",
      "           5:12811018        0 T│ \n",
      "           5:12811019        0 G│ \n",
      "           5:12811020        0 A│ \n",
      "                                .\n",
      "                                .\n",
      "                                .\n",
      "           5:12820520        0 T│ \n",
      "           5:12820521        0 T│ \n",
      "           5:12820522        0 T│ \n",
      "           5:12820523        0 T│ \n",
      "                                │   ╭──────┄ 5:12811017 ╯\n",
      "                             0  ├───╯  31  \n",
      "           5:12820524       31 T│ \n",
      "           5:12820525       31 G│ \n",
      "                                .\n",
      "                                .\n",
      "                                .\n",
      "           5:12820532       28 T│ \n",
      "           5:12820533       27 A│ \n",
      "           5:12820534       27 G│ \n",
      "                             0  ├───╮  27\n",
      "           5:12820535        0 T│   │G 27\n",
      "                             0  ├───╯  27\n",
      "           5:12820536       27 A│ \n",
      "           5:12820537       27 G│ \n",
      "           5:12820538       27 A│ \n",
      "                                .\n",
      "                                .\n",
      "                                .\n"
     ]
    }
   ],
   "source": [
    "# Let's see it -- in the gfather the deletion has identical location and sequence, but it is homozygous\n",
    "for v in grch37_coords:\n",
    "    visualize(v.variants, v.coverage, v.ref_range)"
   ]
  },
  {
   "cell_type": "code",
   "execution_count": 43,
   "metadata": {
    "collapsed": false
   },
   "outputs": [
    {
     "name": "stdout",
     "output_type": "stream",
     "text": [
      "ACTTTGGGAGGCCGAGGTGGGTGGGTCACCTGAGGTCAGAAGTTTGAGACCTGTCTGGCCAATATGGTGAAACCCCATCTCTCCTAAATATACATTTAACTCAAAAAAAGTTAAAATTATAGTCAAACACTAACACTACCCTGTAGAATATAATTAATTACTGAAATAAGCACTATGAAAACATTGTCC\n"
     ]
    }
   ],
   "source": [
    "print v.variants[1].assembly_sequence"
   ]
  },
  {
   "cell_type": "code",
   "execution_count": 25,
   "metadata": {
    "collapsed": false
   },
   "outputs": [],
   "source": [
    "# Import the graph genome of the gmother\n",
    "bg = new_graph(\"/mnt/NA12892_S1.gbwt\")"
   ]
  },
  {
   "cell_type": "code",
   "execution_count": 26,
   "metadata": {
    "collapsed": false,
    "scrolled": true
   },
   "outputs": [],
   "source": [
    "# SNPs in NA12892 (gmother) validated by Eichler\n",
    "grch37_coords = find_variants(bg, grch37, \"5\", 12810916, 12820623)"
   ]
  },
  {
   "cell_type": "code",
   "execution_count": 27,
   "metadata": {
    "collapsed": false
   },
   "outputs": [
    {
     "name": "stdout",
     "output_type": "stream",
     "text": [
      "                                .\n",
      "                                .\n",
      "                                .\n",
      "           5:12814976       41 G│ \n",
      "           5:12814977       41 T│ \n",
      "           5:12814978       41 A│ \n",
      "                             1  ├───╮  40\n",
      "           5:12814979        0 G│   │C 40\n",
      "                             1  ├───╯  40\n",
      "           5:12814980       41 T│ \n",
      "           5:12814981       42 C│ \n",
      "           5:12814982       42 A│ \n",
      "                                .\n",
      "                                .\n",
      "                                .\n",
      "           5:12819195       34 T│ \n",
      "           5:12819196       34 T│ \n",
      "           5:12819197       34 G│ \n",
      "                             0  ├───╮  34\n",
      "           5:12819198        0 C│   │T 35\n",
      "                             1  ├───╯  35\n",
      "           5:12819199       36 A│ \n",
      "           5:12819200       35 T│ \n",
      "           5:12819201       35 T│ \n",
      "                                .\n",
      "                                .\n",
      "                                .\n"
     ]
    }
   ],
   "source": [
    "# Let's see it -- the gmother is homozygous in the SNPs\n",
    "for v in grch37_coords:\n",
    "    visualize(v.variants, v.coverage, v.ref_range)"
   ]
  },
  {
   "cell_type": "code",
   "execution_count": null,
   "metadata": {
    "collapsed": true
   },
   "outputs": [],
   "source": []
  }
 ],
 "metadata": {
  "celltoolbar": "Raw Cell Format",
  "kernelspec": {
   "display_name": "Python 2",
   "language": "python",
   "name": "python2"
  },
  "language_info": {
   "codemirror_mode": {
    "name": "ipython",
    "version": 2
   },
   "file_extension": ".py",
   "mimetype": "text/x-python",
   "name": "python",
   "nbconvert_exporter": "python",
   "pygments_lexer": "ipython2",
   "version": "2.7.6"
  }
 },
 "nbformat": 4,
 "nbformat_minor": 0
}
