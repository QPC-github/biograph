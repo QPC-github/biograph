{
 "cells": [
  {
   "cell_type": "code",
   "execution_count": 4,
   "metadata": {
    "collapsed": false,
    "scrolled": false
   },
   "outputs": [],
   "source": [
    "\"\"\"\n",
    "    Visualize variants using the BioGraph Suite\n",
    "\"\"\"\n",
    "from biograph import new_graph, reference, find_variants, visualize"
   ]
  },
  {
   "cell_type": "code",
   "execution_count": 2,
   "metadata": {
    "collapsed": false
   },
   "outputs": [
    {
     "data": {
      "image/png": "[encoded data removed]",
      "text/plain": [
       "<IPython.core.display.Image object>"
      ]
     },
     "execution_count": 2,
     "metadata": {},
     "output_type": "execute_result"
    }
   ],
   "source": [
    "# The examples are based on the CEPH 1463 Pedigree (Utah family, Northern European Ancestry)\n",
    "# from the Cornell Institute for Medical Research, http://bit.ly/1Kc2q9m\n",
    "\n",
    "from IPython.display import Image\n",
    "Image(filename='ceph1463.png')"
   ]
  },
  {
   "cell_type": "code",
   "execution_count": 40,
   "metadata": {
    "collapsed": false
   },
   "outputs": [],
   "source": [
    "# Import the graph genome of the mother\n",
    "bg = new_graph(\"/mnt/NA12878_S1.gbwt\")"
   ]
  },
  {
   "cell_type": "code",
   "execution_count": 41,
   "metadata": {
    "collapsed": false
   },
   "outputs": [],
   "source": [
    "# Import a human reference\n",
    "grch37 = reference(\"/reference/human_g1k_v37/\")"
   ]
  },
  {
   "cell_type": "code",
   "execution_count": 42,
   "metadata": {
    "collapsed": false,
    "scrolled": true
   },
   "outputs": [],
   "source": [
    "# Find variants in a range of 2kbases of Chromosome 1\n",
    "grch37_coords = find_variants(bg, grch37, \"1\", 245822567, 245824567)"
   ]
  },
  {
   "cell_type": "code",
   "execution_count": 43,
   "metadata": {
    "collapsed": false,
    "scrolled": false
   },
   "outputs": [
    {
     "name": "stdout",
     "output_type": "stream",
     "text": [
      "                                .\n",
      "                                .\n",
      "                                .\n",
      "           1:245822860      44 T│ \n",
      "           1:245822861      45 A│ \n",
      "           1:245822862      45 C│ \n",
      "                             1  ├───╮  44\n",
      "           1:245822863       0 C│   │T 44\n",
      "                             0  ├───╯  44\n",
      "           1:245822864      44 G│ \n",
      "           1:245822865      44 G│ \n",
      "           1:245822866      43 G│ \n",
      "                                .\n",
      "                                .\n",
      "                                .\n",
      "           1:245823566      31 G│ \n",
      "           1:245823567      31 T│ \n",
      "           1:245823568      31 C│ \n",
      "                             0  ├───╮  31  CTGAGGATCTAAGTACAGGG...[3865]\n",
      "                                │   ╰──────────────────────────┄ 1:245823631 ╮\n",
      "           1:245823569       0 G│ \n",
      "           1:245823570       0 T│ \n",
      "           1:245823571       0 G│ \n",
      "                                .\n",
      "                                .\n",
      "                                .\n",
      "           1:245823627       0 G│ \n",
      "           1:245823628       0 T│ \n",
      "           1:245823629       0 T│ \n",
      "           1:245823630       0 C│ \n",
      "                                │   ╭──────────────────────────┄ 1:245823568 ╯\n",
      "                             1  ├───╯  29  CTGAGGATCTAAGTACAGGG...[3865]\n",
      "           1:245823631      30 T│ \n",
      "           1:245823632      30 T│ \n",
      "                                .\n",
      "                                .\n",
      "                                .\n",
      "           1:245824138      37 G│ \n",
      "           1:245824139      37 A│ \n",
      "           1:245824140      37 C│ \n",
      "                             0  ├───╮  37\n",
      "           1:245824141       0 G│   │A 37\n",
      "                             0  ├───╯  36\n",
      "           1:245824142      36 G│ \n",
      "           1:245824143      37 G│ \n",
      "           1:245824144      37 G│ \n",
      "                                .\n",
      "                                .\n",
      "                                .\n",
      "           1:245824425      31 A│ \n",
      "           1:245824426      31 T│ \n",
      "           1:245824427      30 T│ \n",
      "                             0  ├───╮  30\n",
      "           1:245824428       0 A│   │G 31\n",
      "                             1  ├───╯  31\n",
      "           1:245824429      32 T│ \n",
      "           1:245824430      32 T│ \n",
      "           1:245824431      32 T│ \n",
      "                                .\n",
      "                                .\n",
      "                                .\n"
     ]
    }
   ],
   "source": [
    "# There is a 3.865 Kbase insertion in place of a deletion of 63 bases\n",
    "for v in grch37_coords:\n",
    "    visualize(v.variants, v.coverage, v.ref_range)"
   ]
  },
  {
   "cell_type": "code",
   "execution_count": 31,
   "metadata": {
    "collapsed": false
   },
   "outputs": [
    {
     "data": {
      "text/plain": [
       "[<libspiral.variant 1:245822863_1:1>,\n",
       " <libspiral.variant 1:245824141_1:1>,\n",
       " <libspiral.variant 1:245823631-_3865_1:245823568->,\n",
       " <libspiral.variant 1:245824428_1:1>]"
      ]
     },
     "execution_count": 31,
     "metadata": {},
     "output_type": "execute_result"
    }
   ],
   "source": [
    "# List all of the variants\n",
    "grch37_coords[0].variants"
   ]
  },
  {
   "cell_type": "code",
   "execution_count": 32,
   "metadata": {
    "collapsed": false,
    "scrolled": true
   },
   "outputs": [
    {
     "name": "stdout",
     "output_type": "stream",
     "text": [
      "True False False\n"
     ]
    }
   ],
   "source": [
    "# The deletion is a structural variant, - -\n",
    "sv = grch37_coords[0].variants[2]\n",
    "print sv.is_structural, sv.left_forward, sv.right_forward"
   ]
  },
  {
   "cell_type": "code",
   "execution_count": 36,
   "metadata": {
    "collapsed": false,
    "scrolled": true
   },
   "outputs": [
    {
     "name": "stdout",
     "output_type": "stream",
     "text": [
      "CTGAGGATCTAAGTACAGGGGAGTTCTGGGCATGCATTAGTGCTCTAAGGAGAGGCCTTCGCTGGTTAATGTCCCCAGGTTTGGGTTGGTAGCCTACCATTTGGTATCATACTGAGCTCCCTAATTTTGAGCTACATCTAGAAGACCACGTGCCTGGTGCCAAGAAGGACACTTAGACTATGTGTGGATGGAGCTTCATCAGCTGTTCTAATGAACGTTTTGCAAAAGACCATTGTGAGTGAGATGGGAGTTTCTCTGTTTTCAAGCCCAGGGCCCTGCCTGCTGGTGTGTCCCTCTTCTGAGTCATTCAGCCTTGACCCACTCTAGGGAACCGGAGGAATCCACAGCCCAGAGCTCTCCCATGGTGGCCTGTTTGACAGTCACATTCTGAAAAAGCAAACCTCTTGGCTTGATTTCTTGCTGGAATAATGAAACCCAGCTCGGCCCCTGCTTGATAATTGCCTTTGGGAAAAAGGTAATAGCCACCTTGAAACACCATTCAGTTGGACCTTTCCAAAAGCCACGGGTTTTTCTTCACCAAAGTCCTTCATTTGAGCCTATAATCTGTGAATGGAAAGAAGCGATGATGCCTCTAAAAGCCTTTTGGTTGGAGTCAGAGTCACCCTTTGAGCACTGAGTTCTCTTTCCAGGGACCTCTCCCATGTGGTCTTGGAGCCATGGGTGTTGTACAAAAGCAACAGGCCTAGCAGAGCTACCAGTGTGTGAGCGTTTGCTGTGTGAGCCCAGGCTTTCCACAGGACGAAGATTCTCTCACCAGAGTGTGAGCATTTGCAGTGTGAGCCCAGGCTCTCTACAGGACGAAGATTCTCTTACCAGCATGTGAACATTTGCAGTGTGAGCCCAGGCTCTCTACAGGACGAAGATTCTCTCACCAGAGTGTGAGCATTTGCTAGTGTGAGCCCAGGCTCTCTACAGGACGAAGATTCTCTTACCAGCATGTGAGCATTTGCAGTGTGAGCCCAGGCTCTCCACAGGACAAAGATTCTCTTTTCACCCTCACGTCAACCTCACGTCAAGATGGGAGATAAAGAATAGCAAAATAGGGCTGGGTGTAAGCTCTGGATAGCTTCTTCGGGTATCCAGGGATAGATGCTGTGATTACTCCTATTTTATAGATGAAGAAACAGATGAAAGGAGCCCACGTCCCATGCACGATACTGGCAAGCTAGGATTCAAACACAGTGGGGCTCCAGCACCTTCCCTTTCAGTCCCCACATTAGCCTCTGGCTGAGGTGTGGGGAAAAGCTCACAGATCAGACTGGGGGGACCTGAGTTCCAGCCCCAGCTCCTCGCGGGCTGCCTGTGTGACCTGAGAGCCCCGAGGCTCCATCTGTGAAATGCAGAGGGGGTGGCAGACAGCTCGTCACGAGGAGTGAATGAGATCCTGCAGATGAAGGTATTTGGTATACTGAAGAGCTCTGAGAATGATGAAAATGATGTGCAAGTCTCTTCCAGGACTTTTTGTGTGCCTTTCGTAGTGTAATACAGACCCCGGCACATGGGTGTTCACACTTAGGGTATGACCAGCCTCACAGCTAAGTTGCTTAGCATATGGTACCAGCGAACCCAAGTTTGTAAACCAGAACTTCCCATTGCTTTCTTGATTGTCAAGTTTGACCCTGGCCAGCATCCTCTGATACACTGAAAATACACTCTGTGTGTCCAGAAGCAGCTGAGCTTTTGTCTCAGGCCAACCTCACATTCAACCCACTATCCTCCGTCTTGTTCCTCCACGAGGAAAGGGACGTGAATGCCTATAGGCCATCAGAGATGCAGGTGAAACAAACCTCAGTGCATCATTGCACGGGGCCAGATGGGGGGGCCGGTGTTTCCCTGCGGAATCCGGAGGACAGCTGTGCCAGCCACGTGTCCAGGCCCAGGATCCACAATAGGAAAGGGGTTGCTGATGCATTTCAAACTATCTCTAAAGTTGTGAGTGTATATGGCAAAATCCCATCCTACCAAGCCTTCTTGCTATATACATTTGAGTAGAAAATGACATGAGCCAGAAGCTCCAAAGCCTGAGATCCAGAGCATAAACTCCTGCTGTCATGTTGAGGCTGGGGCAGTCCAGTCGCAAGCAGTGCTCCAAAGGAATGCAGTAGGCTGTTCTCATCTTGCCGTAAAGAAATACCCGAGGCTGGGTAATTTCTAAGGAGAAAGGTTTATTTTTGGCTCACAGTTCCACAGGCTGTACGGGAAGCATGGTGCCGGCATCTGCTTCTGGTGAGGCCTCAGGAAGCTTATAATCAAGATGGAAGGTGAAGGGGGAGCAGGTGTGTTACATGGCAACAGAGGGTGCAAGAGAGAGAGAAGGGGGAGGTCCCAGACTCTTTGAAATAGCTGGATCTCATGTGAACTAATAGAGCGAGAACTCACTCATCAACAGGGGATGGCTCTAAGCCATTCAGGAGGGATCTTCCCCCAGGATCCAGCCACCTCCCGCCAGGCCCCCCCTCCAACACTGGGAATCACATTTCAACCTGAGCTTTGGAGGGTATGAACATCCAAACCATATTGGGCTCTATCGTTTTTGAGATTTTACTCACTGGGCGACAACGTAGAGCACCCACCGCTGGGCTGATATGATTTGTTCCCGTTTCCTGGGCAACCAGGTGCGCAGGGCCACGAGATGAGCCTCTTGTGACAACTAAGCCACCTTGATGATGGCTTTAACTCGGGGCCTGGAAGTCAGACTCCCATGCTTTGAGGATATTTTTTGTGGTGGTGTCATTTGTTATGAGGGTTATTCTTTTTTCTCTTGGTACTTCCCAGCCTCATTACTTCTCTGTGCCAAACTGTGCCAGGAAATCACTGACTTTATCATCATGATCATCATCATCATCACCATCACTCAAACTTTGGTAGTGCAGTGCAGTGCCTGCTAGCGCCAAGCTCTAGACTCGGTTCTTTATATATACTCAGTCATCGCATGTTCATGGCAGTCTCATGGGACCAGCACTACAAATGTGTCTAAGGAGGTTTCCTCGAAATCTCCTTTGTCACAGTGGCCTGGAGCATGCAGAAGCAGGTAACAGAAATACCAGCAGCCACTCCTGACTCATCACTGATAGTGGAACTGGTAAGGGACAAACTTGTAAATGAGCAAAGTTAGATTTCTGGGCCTCCTCACCACCTCCCCACTTAGTGCTGTGTCCCCACCCCACAGGTACCCGGTACCTTTGTGCTCTCCAAGAATGCCCCATACTGCCACTTTCCACCCCCATCCTCCTGCCTGTACCTTGTTGCAAATCCCCAACGCCCTGGGCCTCAGTTGACTCTGTACCTACCCCAAAAGGCATCTTTCCTGCAGGTGCTCCTTCCCACGAAGCCCTGTGGTAAGGTCATGTGCTGTCTTCGGTCAAATCAAAACTCCAGTATCTGATAAGAGTCTAAAGATATATGAGAGTTCCCACTATTCCCAACCTTGTCAATATTTGTATTGTTTGATTTTTAAAGTTTTTGGCCATTAGGTGAATATTTAATGGTATGTCATTGTAATTTTAATTTGCAATTTTCCTGATGACTGCTAAGGTTGAGTATCTTTTCATGTTTATTATTCTCTGTATAGTTCTTGTTCATGTCTTTTGCCTGCTTTTCTGTACAGTTGCTTAGCTTTTTGTTAATTGATTCATAGGAATTCTTTGTAAACTCTGGATACCTTCTGCAGGCACCACTCATTGAGACCCCACTGACCAGGAACGATCTTTCAGTCATTTAAGTGACTCTGTGTGGAGTTGTCTCTGGGTTCTCTAGCCCTGCGCTGTTACCACAGTCTTAATAACATTGCCCTTTGCTAATTTTCTTTACGGCATGTTCATTTGCCATTTATTAATTTCTGTTG\n"
     ]
    }
   ],
   "source": [
    "# Show the reverse complement of the sequence\n",
    "print str(sv.flip().sequence)"
   ]
  },
  {
   "cell_type": "code",
   "execution_count": 34,
   "metadata": {
    "collapsed": false,
    "scrolled": true
   },
   "outputs": [],
   "source": [
    "# Here is a insertion in NA12878 (mother) validated by Evan Eichler of U of W\n",
    "grch37_coords = find_variants(bg, grch37, \"8\", 88268339, 88269142)"
   ]
  },
  {
   "cell_type": "code",
   "execution_count": 38,
   "metadata": {
    "collapsed": false
   },
   "outputs": [
    {
     "ename": "IndentationError",
     "evalue": "unexpected indent (<ipython-input-38-b88d7d4315cd>, line 2)",
     "output_type": "error",
     "traceback": [
      "\u001b[1;36m  File \u001b[1;32m\"<ipython-input-38-b88d7d4315cd>\"\u001b[1;36m, line \u001b[1;32m2\u001b[0m\n\u001b[1;33m    visualize(v.variants, v.coverage, v.ref_range)\u001b[0m\n\u001b[1;37m    ^\u001b[0m\n\u001b[1;31mIndentationError\u001b[0m\u001b[1;31m:\u001b[0m unexpected indent\n"
     ]
    }
   ],
   "source": [
    "# This is a 2.457 Kbase insertion in place of a 63 bp deleteion for v in grch37_coords:\n",
    "    visualize(v.variants, v.coverage, v.ref_range)"
   ]
  },
  {
   "cell_type": "code",
   "execution_count": 14,
   "metadata": {
    "collapsed": false
   },
   "outputs": [],
   "source": [
    "# Now let's look at the grandfather\n",
    "# Import the graph genome\n",
    "bg = new_graph(\"/mnt/NA12891_S1.gbwt\")"
   ]
  },
  {
   "cell_type": "code",
   "execution_count": 15,
   "metadata": {
    "collapsed": false,
    "scrolled": true
   },
   "outputs": [],
   "source": [
    "# We examine the variants in an 800bp part of Chromosome 8\n",
    "grch37_coords = find_variants(bg, grch37, \"8\", 88268339, 88269142)"
   ]
  },
  {
   "cell_type": "code",
   "execution_count": 16,
   "metadata": {
    "collapsed": false
   },
   "outputs": [
    {
     "name": "stdout",
     "output_type": "stream",
     "text": [
      "                                .\n",
      "                                .\n",
      "                                .\n",
      "           8:88268934       39 T│ \n",
      "           8:88268935       40 T│ \n",
      "           8:88268936       41 G│ \n",
      "                            25  ├───╮  16  CTAGTGCCATAAATATTTAA...[2457]\n",
      "                                │   ╰──────────────────────────┄ 8:88269000 ╮\n",
      "           8:88268937       24 G│ \n",
      "           8:88268938       25 G│ \n",
      "           8:88268939       25 A│ \n",
      "                                .\n",
      "                                .\n",
      "                                .\n",
      "           8:88268996       22 T│ \n",
      "           8:88268997       21 T│ \n",
      "           8:88268998       20 T│ \n",
      "           8:88268999       20 C│ \n",
      "                                │   ╭──────────────────────────┄ 8:88268936 ╯\n",
      "                            20  ├───╯  15  CTAGTGCCATAAATATTTAA...[2457]\n",
      "           8:88269000       35 C│ \n",
      "           8:88269001       36 C│ \n",
      "                                .\n",
      "                                .\n",
      "                                .\n"
     ]
    }
   ],
   "source": [
    "# In the grandfather the deletion has identical location and sequence, but it is heterozygous\n",
    "for v in grch37_coords:\n",
    "    visualize(v.variants, v.coverage, v.ref_range)"
   ]
  },
  {
   "cell_type": "code",
   "execution_count": 17,
   "metadata": {
    "collapsed": false
   },
   "outputs": [],
   "source": [
    "# Import the graph genome of the gmother\n",
    "bg = new_graph(\"/mnt/NA12892_S1.gbwt\")"
   ]
  },
  {
   "cell_type": "code",
   "execution_count": 18,
   "metadata": {
    "collapsed": false,
    "scrolled": true
   },
   "outputs": [],
   "source": [
    "# Insertion in NA12892 (gmother) validated by Eichler\n",
    "grch37_coords = find_variants(bg, grch37, \"8\", 88268339, 88269142)"
   ]
  },
  {
   "cell_type": "code",
   "execution_count": 19,
   "metadata": {
    "collapsed": false
   },
   "outputs": [
    {
     "name": "stdout",
     "output_type": "stream",
     "text": [
      "                                .\n",
      "                                .\n",
      "                                .\n",
      "           8:88268934       38 T│ \n",
      "           8:88268935       39 T│ \n",
      "           8:88268936       38 G│ \n",
      "                            17  ├───╮  21  CTAGTGCCATAAATATTTAA...[2457]\n",
      "                                │   ╰──────────────────────────┄ 8:88269000 ╮\n",
      "           8:88268937       17 G│ \n",
      "           8:88268938       17 G│ \n",
      "           8:88268939       17 A│ \n",
      "                                .\n",
      "                                .\n",
      "                                .\n",
      "           8:88268996       19 T│ \n",
      "           8:88268997       20 T│ \n",
      "           8:88268998       19 T│ \n",
      "           8:88268999       19 C│ \n",
      "                                │   ╭──────────────────────────┄ 8:88268936 ╯\n",
      "                            19  ├───╯  36  CTAGTGCCATAAATATTTAA...[2457]\n",
      "           8:88269000       55 C│ \n",
      "           8:88269001       55 C│ \n",
      "                                .\n",
      "                                .\n",
      "                                .\n"
     ]
    }
   ],
   "source": [
    "# Let's see it -- in the gmother the deletion has identical location and sequence, but it is heterozygous\n",
    "for v in grch37_coords:\n",
    "    visualize(v.variants, v.coverage, v.ref_range)"
   ]
  },
  {
   "cell_type": "code",
   "execution_count": 37,
   "metadata": {
    "collapsed": false
   },
   "outputs": [],
   "source": [
    "# Import the graph genome of the mother\n",
    "bg = new_graph(\"/mnt/NA12878_S1.gbwt\")"
   ]
  },
  {
   "cell_type": "code",
   "execution_count": 38,
   "metadata": {
    "collapsed": false,
    "scrolled": true
   },
   "outputs": [],
   "source": [
    "# Deletion in NA12878 (mother) validated by Eichler\n",
    "grch37_coords = find_variants(bg, grch37, \"5\", 12810916, 12820623)"
   ]
  },
  {
   "cell_type": "code",
   "execution_count": 39,
   "metadata": {
    "collapsed": false
   },
   "outputs": [
    {
     "name": "stdout",
     "output_type": "stream",
     "text": [
      "                                .\n",
      "                                .\n",
      "                                .\n",
      "           5:12811015       45 A│ \n",
      "           5:12811016       45 A│ \n",
      "           5:12811017       45 A│ \n",
      "                            23  ├───╮  22  \n",
      "                                │   ╰──────┄ 5:12820524 ╮\n",
      "           5:12811018       23 T│ \n",
      "           5:12811019       23 G│ \n",
      "           5:12811020       22 A│ \n",
      "                                .\n",
      "                                .\n",
      "                                .\n",
      "           5:12814976       20 G│ \n",
      "           5:12814977       19 T│ \n",
      "           5:12814978       20 A│ \n",
      "                             0  ├───╮  20\n",
      "           5:12814979        0 G│   │C 20\n",
      "                             0  ├───╯  20\n",
      "           5:12814980       20 T│ \n",
      "           5:12814981       20 C│ \n",
      "           5:12814982       21 A│ \n",
      "                                .\n",
      "                                .\n",
      "                                .\n",
      "           5:12819195       22 T│ \n",
      "           5:12819196       22 T│ \n",
      "           5:12819197       22 G│ \n",
      "                             0  ├───╮  22\n",
      "           5:12819198        0 C│   │T 22\n",
      "                             0  ├───╯  22\n",
      "           5:12819199       22 A│ \n",
      "           5:12819200       23 T│ \n",
      "           5:12819201       22 T│ \n",
      "                                .\n",
      "                                .\n",
      "                                .\n",
      "           5:12820520       18 T│ \n",
      "           5:12820521       19 T│ \n",
      "           5:12820522       19 T│ \n",
      "           5:12820523       18 T│ \n",
      "                                │   ╭──────┄ 5:12811017 ╯\n",
      "                            18  ├───╯  22  \n",
      "           5:12820524       40 T│ \n",
      "           5:12820525       41 G│ \n",
      "                                .\n",
      "                                .\n",
      "                                .\n",
      "           5:12820532       42 T│ \n",
      "           5:12820533       42 A│ \n",
      "           5:12820534       41 G│ \n",
      "                            20  ├───╮  21\n",
      "           5:12820535       20 T│   │G 20\n",
      "                            20  ├───╯  19\n",
      "           5:12820536       39 A│ \n",
      "           5:12820537       39 G│ \n",
      "           5:12820538       38 A│ \n",
      "                                .\n",
      "                                .\n",
      "                                .\n"
     ]
    }
   ],
   "source": [
    "# Let's see it -- there is about a 9.5 Kbase deletion in one strand, and two SNPs in the other\n",
    "for v in grch37_coords:\n",
    "    visualize(v.variants, v.coverage, v.ref_range)"
   ]
  },
  {
   "cell_type": "code",
   "execution_count": 22,
   "metadata": {
    "collapsed": false
   },
   "outputs": [],
   "source": [
    "# Import the graph genome of the gfather\n",
    "bg = new_graph(\"/mnt/NA12891_S1.gbwt\")"
   ]
  },
  {
   "cell_type": "code",
   "execution_count": 23,
   "metadata": {
    "collapsed": false,
    "scrolled": true
   },
   "outputs": [],
   "source": [
    "# Deletion in NA12891 (gfather) validated by Eichler\n",
    "grch37_coords = find_variants(bg, grch37, \"5\", 12810916, 12820623)"
   ]
  },
  {
   "cell_type": "code",
   "execution_count": 24,
   "metadata": {
    "collapsed": false
   },
   "outputs": [
    {
     "name": "stdout",
     "output_type": "stream",
     "text": [
      "                                .\n",
      "                                .\n",
      "                                .\n",
      "           5:12811015       31 A│ \n",
      "           5:12811016       31 A│ \n",
      "           5:12811017       31 A│ \n",
      "                             0  ├───╮  31  \n",
      "                                │   ╰──────┄ 5:12820524 ╮\n",
      "           5:12811018        0 T│ \n",
      "           5:12811019        0 G│ \n",
      "           5:12811020        0 A│ \n",
      "                                .\n",
      "                                .\n",
      "                                .\n",
      "           5:12820520        0 T│ \n",
      "           5:12820521        0 T│ \n",
      "           5:12820522        0 T│ \n",
      "           5:12820523        0 T│ \n",
      "                                │   ╭──────┄ 5:12811017 ╯\n",
      "                             0  ├───╯  31  \n",
      "           5:12820524       31 T│ \n",
      "           5:12820525       31 G│ \n",
      "                                .\n",
      "                                .\n",
      "                                .\n",
      "           5:12820532       28 T│ \n",
      "           5:12820533       27 A│ \n",
      "           5:12820534       27 G│ \n",
      "                             0  ├───╮  27\n",
      "           5:12820535        0 T│   │G 27\n",
      "                             0  ├───╯  27\n",
      "           5:12820536       27 A│ \n",
      "           5:12820537       27 G│ \n",
      "           5:12820538       27 A│ \n",
      "                                .\n",
      "                                .\n",
      "                                .\n"
     ]
    }
   ],
   "source": [
    "# Let's see it -- in the gfather the deletion has identical location and sequence, but it is homozygous\n",
    "for v in grch37_coords:\n",
    "    visualize(v.variants, v.coverage, v.ref_range)"
   ]
  },
  {
   "cell_type": "code",
   "execution_count": 43,
   "metadata": {
    "collapsed": false
   },
   "outputs": [
    {
     "name": "stdout",
     "output_type": "stream",
     "text": [
      "ACTTTGGGAGGCCGAGGTGGGTGGGTCACCTGAGGTCAGAAGTTTGAGACCTGTCTGGCCAATATGGTGAAACCCCATCTCTCCTAAATATACATTTAACTCAAAAAAAGTTAAAATTATAGTCAAACACTAACACTACCCTGTAGAATATAATTAATTACTGAAATAAGCACTATGAAAACATTGTCC\n"
     ]
    }
   ],
   "source": [
    "print v.variants[1].assembly_sequence"
   ]
  },
  {
   "cell_type": "code",
   "execution_count": 25,
   "metadata": {
    "collapsed": false
   },
   "outputs": [],
   "source": [
    "# Import the graph genome of the gmother\n",
    "bg = new_graph(\"/mnt/NA12892_S1.gbwt\")"
   ]
  },
  {
   "cell_type": "code",
   "execution_count": 26,
   "metadata": {
    "collapsed": false,
    "scrolled": true
   },
   "outputs": [],
   "source": [
    "# SNPs in NA12892 (gmother) validated by Eichler\n",
    "grch37_coords = find_variants(bg, grch37, \"5\", 12810916, 12820623)"
   ]
  },
  {
   "cell_type": "code",
   "execution_count": 27,
   "metadata": {
    "collapsed": false
   },
   "outputs": [
    {
     "name": "stdout",
     "output_type": "stream",
     "text": [
      "                                .\n",
      "                                .\n",
      "                                .\n",
      "           5:12814976       41 G│ \n",
      "           5:12814977       41 T│ \n",
      "           5:12814978       41 A│ \n",
      "                             1  ├───╮  40\n",
      "           5:12814979        0 G│   │C 40\n",
      "                             1  ├───╯  40\n",
      "           5:12814980       41 T│ \n",
      "           5:12814981       42 C│ \n",
      "           5:12814982       42 A│ \n",
      "                                .\n",
      "                                .\n",
      "                                .\n",
      "           5:12819195       34 T│ \n",
      "           5:12819196       34 T│ \n",
      "           5:12819197       34 G│ \n",
      "                             0  ├───╮  34\n",
      "           5:12819198        0 C│   │T 35\n",
      "                             1  ├───╯  35\n",
      "           5:12819199       36 A│ \n",
      "           5:12819200       35 T│ \n",
      "           5:12819201       35 T│ \n",
      "                                .\n",
      "                                .\n",
      "                                .\n"
     ]
    }
   ],
   "source": [
    "# Let's see it -- the gmother is homozygous in the SNPs\n",
    "for v in grch37_coords:\n",
    "    visualize(v.variants, v.coverage, v.ref_range)"
   ]
  },
  {
   "cell_type": "code",
   "execution_count": null,
   "metadata": {
    "collapsed": true
   },
   "outputs": [],
   "source": []
  }
 ],
 "metadata": {
  "celltoolbar": "Raw Cell Format",
  "kernelspec": {
   "display_name": "Python 2",
   "language": "python",
   "name": "python2"
  },
  "language_info": {
   "codemirror_mode": {
    "name": "ipython",
    "version": 2
   },
   "file_extension": ".py",
   "mimetype": "text/x-python",
   "name": "python",
   "nbconvert_exporter": "python",
   "pygments_lexer": "ipython2",
   "version": "2.7.6"
  }
 },
 "nbformat": 4,
 "nbformat_minor": 0
}
