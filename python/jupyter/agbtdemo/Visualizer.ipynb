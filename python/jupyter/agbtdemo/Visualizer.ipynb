{
 "cells": [
  {
   "cell_type": "code",
   "execution_count": 2,
   "metadata": {
    "collapsed": false,
    "scrolled": false
   },
   "outputs": [
    {
     "ename": "ImportError",
     "evalue": "No module named visualize",
     "output_type": "error",
     "traceback": [
      "\u001b[1;31m---------------------------------------------------------------------------\u001b[0m",
      "\u001b[1;31mImportError\u001b[0m                               Traceback (most recent call last)",
      "\u001b[1;32m<ipython-input-2-413fb12c2f5d>\u001b[0m in \u001b[0;36m<module>\u001b[1;34m()\u001b[0m\n\u001b[0;32m      2\u001b[0m     \u001b[0mShow\u001b[0m \u001b[0ma\u001b[0m \u001b[0msimple\u001b[0m \u001b[0mvisualization\u001b[0m \u001b[0mof\u001b[0m \u001b[0mvariants\u001b[0m \u001b[0mto\u001b[0m \u001b[0mreference\u001b[0m\u001b[1;33m.\u001b[0m\u001b[1;33m\u001b[0m\u001b[0m\n\u001b[0;32m      3\u001b[0m \"\"\"\n\u001b[1;32m----> 4\u001b[1;33m \u001b[1;32mfrom\u001b[0m \u001b[0mbiograph\u001b[0m \u001b[1;32mimport\u001b[0m \u001b[0mreference\u001b[0m\u001b[1;33m,\u001b[0m \u001b[0mfind_variants\u001b[0m\u001b[1;33m,\u001b[0m \u001b[0mvisualize\u001b[0m\u001b[1;33m,\u001b[0m \u001b[0mseqset\u001b[0m\u001b[1;33m\u001b[0m\u001b[0m\n\u001b[0m",
      "\u001b[1;32m/home/rob/jupyter/demo/biograph.py\u001b[0m in \u001b[0;36m<module>\u001b[1;34m()\u001b[0m\n\u001b[0;32m     14\u001b[0m )\n\u001b[0;32m     15\u001b[0m \u001b[1;33m\u001b[0m\u001b[0m\n\u001b[1;32m---> 16\u001b[1;33m \u001b[1;32mfrom\u001b[0m \u001b[0mvisualize\u001b[0m \u001b[1;32mimport\u001b[0m \u001b[0mvisualize\u001b[0m\u001b[1;33m\u001b[0m\u001b[0m\n\u001b[0m\u001b[0;32m     17\u001b[0m \u001b[1;33m\u001b[0m\u001b[0m\n\u001b[0;32m     18\u001b[0m \u001b[0m__all__\u001b[0m \u001b[1;33m=\u001b[0m \u001b[1;33m[\u001b[0m\u001b[1;34m'seqset'\u001b[0m\u001b[1;33m,\u001b[0m \u001b[1;34m'reference'\u001b[0m\u001b[1;33m,\u001b[0m \u001b[1;34m'reference_range'\u001b[0m\u001b[1;33m,\u001b[0m \u001b[1;34m'sequence'\u001b[0m\u001b[1;33m,\u001b[0m \u001b[1;34m'variant'\u001b[0m\u001b[1;33m,\u001b[0m \u001b[1;34m'anchor'\u001b[0m\u001b[1;33m,\u001b[0m \u001b[1;34m'version'\u001b[0m\u001b[1;33m,\u001b[0m \u001b[1;34m'find_variants'\u001b[0m\u001b[1;33m,\u001b[0m \u001b[1;34m'visualize'\u001b[0m\u001b[1;33m,\u001b[0m \u001b[1;34m'find_ranges'\u001b[0m\u001b[1;33m]\u001b[0m\u001b[1;33m\u001b[0m\u001b[0m\n",
      "\u001b[1;31mImportError\u001b[0m: No module named visualize"
     ]
    }
   ],
   "source": [
    "\"\"\"\n",
    "    Show a simple visualization of variants to reference.\n",
    "\"\"\"\n",
    "from biograph import reference, find_variants, visualize, seqset"
   ]
  },
  {
   "cell_type": "code",
   "execution_count": 2,
   "metadata": {
    "collapsed": false,
    "scrolled": true
   },
   "outputs": [],
   "source": [
    "# Import the graph\n",
    "bg = seqset(\"/share/seqset/NA12878_S1.gbwt\")"
   ]
  },
  {
   "cell_type": "code",
   "execution_count": 3,
   "metadata": {
    "collapsed": true
   },
   "outputs": [],
   "source": [
    "# Import a reference\n",
    "grch37 = reference(\"/reference/human_g1k_v37/\")"
   ]
  },
  {
   "cell_type": "code",
   "execution_count": 7,
   "metadata": {
    "collapsed": false,
    "scrolled": true
   },
   "outputs": [],
   "source": [
    "# Find variants\n",
    "grch37_coords = find_variants(bg, grch37, \"1\", 245822567, 245824567)"
   ]
  },
  {
   "cell_type": "code",
   "execution_count": 8,
   "metadata": {
    "collapsed": false,
    "scrolled": false
   },
   "outputs": [
    {
     "name": "stdout",
     "output_type": "stream",
     "text": [
      "                                .\n",
      "                                .\n",
      "                                .\n",
      "           1:245822860      44 T│ \n",
      "           1:245822861      45 A│ \n",
      "           1:245822862      45 C│ \n",
      "                             1  ├───╮  44\n",
      "           1:245822863       0 C│   │T 44\n",
      "                             0  ├───╯  44\n",
      "           1:245822864      44 G│ \n",
      "           1:245822865      44 G│ \n",
      "           1:245822866      43 G│ \n",
      "                                .\n",
      "                                .\n",
      "                                .\n",
      "           1:245823566      31 G│ \n",
      "           1:245823567      31 T│ \n",
      "           1:245823568      31 C│ \n",
      "                             0  ├───╮  31  CTGAGGATCTAAGTACAGGG...[3865]\n",
      "                                │   ╰──────────────────────────┄ 1:245823631 ╮\n",
      "           1:245823569       0 G│ \n",
      "           1:245823570       0 T│ \n",
      "           1:245823571       0 G│ \n",
      "                                .\n",
      "                                .\n",
      "                                .\n",
      "           1:245823627       0 G│ \n",
      "           1:245823628       0 T│ \n",
      "           1:245823629       0 T│ \n",
      "           1:245823630       0 C│ \n",
      "                                │   ╭──────────────────────────┄ 1:245823568 ╯\n",
      "                             1  ├───╯  29  CTGAGGATCTAAGTACAGGG...[3865]\n",
      "           1:245823631      30 T│ \n",
      "           1:245823632      30 T│ \n",
      "                                .\n",
      "                                .\n",
      "                                .\n",
      "           1:245824138      37 G│ \n",
      "           1:245824139      37 A│ \n",
      "           1:245824140      37 C│ \n",
      "                             0  ├───╮  37\n",
      "           1:245824141       0 G│   │A 37\n",
      "                             0  ├───╯  36\n",
      "           1:245824142      36 G│ \n",
      "           1:245824143      37 G│ \n",
      "           1:245824144      37 G│ \n",
      "                                .\n",
      "                                .\n",
      "                                .\n",
      "           1:245824425      31 A│ \n",
      "           1:245824426      31 T│ \n",
      "           1:245824427      30 T│ \n",
      "                             0  ├───╮  30\n",
      "           1:245824428       0 A│   │G 31\n",
      "                             1  ├───╯  31\n",
      "           1:245824429      32 T│ \n",
      "           1:245824430      32 T│ \n",
      "           1:245824431      32 T│ \n",
      "                                .\n",
      "                                .\n",
      "                                .\n"
     ]
    }
   ],
   "source": [
    "# Let's see them\n",
    "for v in grch37_coords:\n",
    "    visualize(v.variants, v.coverage, v.ref_range)"
   ]
  },
  {
   "cell_type": "code",
   "execution_count": 6,
   "metadata": {
    "collapsed": false
   },
   "outputs": [
    {
     "ename": "IndexError",
     "evalue": "list index out of range",
     "output_type": "error",
     "traceback": [
      "\u001b[1;31m---------------------------------------------------------------------------\u001b[0m",
      "\u001b[1;31mIndexError\u001b[0m                                Traceback (most recent call last)",
      "\u001b[1;32m<ipython-input-6-dfa59d28d096>\u001b[0m in \u001b[0;36m<module>\u001b[1;34m()\u001b[0m\n\u001b[0;32m      1\u001b[0m \u001b[1;31m# List all of the variants\u001b[0m\u001b[1;33m\u001b[0m\u001b[1;33m\u001b[0m\u001b[0m\n\u001b[1;32m----> 2\u001b[1;33m \u001b[0mgrch37_coords\u001b[0m\u001b[1;33m[\u001b[0m\u001b[1;36m0\u001b[0m\u001b[1;33m]\u001b[0m\u001b[1;33m.\u001b[0m\u001b[0mvariants\u001b[0m\u001b[1;33m\u001b[0m\u001b[0m\n\u001b[0m",
      "\u001b[1;31mIndexError\u001b[0m: list index out of range"
     ]
    }
   ],
   "source": [
    "# List all of the variants\n",
    "grch37_coords[0].variants"
   ]
  },
  {
   "cell_type": "code",
   "execution_count": 35,
   "metadata": {
    "collapsed": false,
    "scrolled": true
   },
   "outputs": [
    {
     "name": "stdout",
     "output_type": "stream",
     "text": [
      "True False False\n"
     ]
    }
   ],
   "source": [
    "# The large deletion is a structural variant, - -\n",
    "sv = grch37_coords[0].variants[2]\n",
    "print sv.is_structural, sv.left_forward, sv.right_forward"
   ]
  },
  {
   "cell_type": "code",
   "execution_count": 36,
   "metadata": {
    "collapsed": false,
    "scrolled": false
   },
   "outputs": [
    {
     "name": "stdout",
     "output_type": "stream",
     "text": [
      "CTGAGGATCTAAGTACAGGGGAGTTCTGGGCATGCATTAGTGCTCTAAGGAGAGGCCTTCGCTGGTTAATGTCCCCAGGTTTGGGTTGGTAGCCTACCATTTGGTATCATACTGAGCTCCCTAATTTTGAGCTACATCTAGAAGACCACGTGCCTGGTGCCAAGAAGGACACTTAGACTATGTGTGGATGGAGCTTCATCAGCTGTTCTAATGAACGTTTTGCAAAAGACCATTGTGAGTGAGATGGGAGTTTCTCTGTTTTCAAGCCCAGGGCCCTGCCTGCTGGTGTGTCCCTCTTCTGAGTCATTCAGCCTTGACCCACTCTAGGGAACCGGAGGAATCCACAGCCCAGAGCTCTCCCATGGTGGCCTGTTTGACAGTCACATTCTGAAAAAGCAAACCTCTTGGCTTGATTTCTTGCTGGAATAATGAAACCCAGCTCGGCCCCTGCTTGATAATTGCCTTTGGGAAAAAGGTAATAGCCACCTTGAAACACCATTCAGTTGGACCTTTCCAAAAGCCACGGGTTTTTCTTCACCAAAGTCCTTCATTTGAGCCTATAATCTGTGAATGGAAAGAAGCGATGATGCCTCTAAAAGCCTTTTGGTTGGAGTCAGAGTCACCCTTTGAGCACTGAGTTCTCTTTCCAGGGACCTCTCCCATGTGGTCTTGGAGCCATGGGTGTTGTACAAAAGCAACAGGCCTAGCAGAGCTACCAGTGTGTGAGCGTTTGCTGTGTGAGCCCAGGCTTTCCACAGGACGAAGATTCTCTCACCAGAGTGTGAGCATTTGCAGTGTGAGCCCAGGCTCTCTACAGGACGAAGATTCTCTTACCAGCATGTGAACATTTGCAGTGTGAGCCCAGGCTCTCTACAGGACGAAGATTCTCTCACCAGAGTGTGAGCATTTGCTAGTGTGAGCCCAGGCTCTCTACAGGACGAAGATTCTCTTACCAGCATGTGAGCATTTGCAGTGTGAGCCCAGGCTCTCCACAGGACAAAGATTCTCTTTTCACCCTCACGTCAACCTCACGTCAAGATGGGAGATAAAGAATAGCAAAATAGGGCTGGGTGTAAGCTCTGGATAGCTTCTTCGGGTATCCAGGGATAGATGCTGTGATTACTCCTATTTTATAGATGAAGAAACAGATGAAAGGAGCCCACGTCCCATGCACGATACTGGCAAGCTAGGATTCAAACACAGTGGGGCTCCAGCACCTTCCCTTTCAGTCCCCACATTAGCCTCTGGCTGAGGTGTGGGGAAAAGCTCACAGATCAGACTGGGGGGACCTGAGTTCCAGCCCCAGCTCCTCGCGGGCTGCCTGTGTGACCTGAGAGCCCCGAGGCTCCATCTGTGAAATGCAGAGGGGGTGGCAGACAGCTCGTCACGAGGAGTGAATGAGATCCTGCAGATGAAGGTATTTGGTATACTGAAGAGCTCTGAGAATGATGAAAATGATGTGCAAGTCTCTTCCAGGACTTTTTGTGTGCCTTTCGTAGTGTAATACAGACCCCGGCACATGGGTGTTCACACTTAGGGTATGACCAGCCTCACAGCTAAGTTGCTTAGCATATGGTACCAGCGAACCCAAGTTTGTAAACCAGAACTTCCCATTGCTTTCTTGATTGTCAAGTTTGACCCTGGCCAGCATCCTCTGATACACTGAAAATACACTCTGTGTGTCCAGAAGCAGCTGAGCTTTTGTCTCAGGCCAACCTCACATTCAACCCACTATCCTCCGTCTTGTTCCTCCACGAGGAAAGGGACGTGAATGCCTATAGGCCATCAGAGATGCAGGTGAAACAAACCTCAGTGCATCATTGCACGGGGCCAGATGGGGGGGCCGGTGTTTCCCTGCGGAATCCGGAGGACAGCTGTGCCAGCCACGTGTCCAGGCCCAGGATCCACAATAGGAAAGGGGTTGCTGATGCATTTCAAACTATCTCTAAAGTTGTGAGTGTATATGGCAAAATCCCATCCTACCAAGCCTTCTTGCTATATACATTTGAGTAGAAAATGACATGAGCCAGAAGCTCCAAAGCCTGAGATCCAGAGCATAAACTCCTGCTGTCATGTTGAGGCTGGGGCAGTCCAGTCGCAAGCAGTGCTCCAAAGGAATGCAGTAGGCTGTTCTCATCTTGCCGTAAAGAAATACCCGAGGCTGGGTAATTTCTAAGGAGAAAGGTTTATTTTTGGCTCACAGTTCCACAGGCTGTACGGGAAGCATGGTGCCGGCATCTGCTTCTGGTGAGGCCTCAGGAAGCTTATAATCAAGATGGAAGGTGAAGGGGGAGCAGGTGTGTTACATGGCAACAGAGGGTGCAAGAGAGAGAGAAGGGGGAGGTCCCAGACTCTTTGAAATAGCTGGATCTCATGTGAACTAATAGAGCGAGAACTCACTCATCAACAGGGGATGGCTCTAAGCCATTCAGGAGGGATCTTCCCCCAGGATCCAGCCACCTCCCGCCAGGCCCCCCCTCCAACACTGGGAATCACATTTCAACCTGAGCTTTGGAGGGTATGAACATCCAAACCATATTGGGCTCTATCGTTTTTGAGATTTTACTCACTGGGCGACAACGTAGAGCACCCACCGCTGGGCTGATATGATTTGTTCCCGTTTCCTGGGCAACCAGGTGCGCAGGGCCACGAGATGAGCCTCTTGTGACAACTAAGCCACCTTGATGATGGCTTTAACTCGGGGCCTGGAAGTCAGACTCCCATGCTTTGAGGATATTTTTTGTGGTGGTGTCATTTGTTATGAGGGTTATTCTTTTTTCTCTTGGTACTTCCCAGCCTCATTACTTCTCTGTGCCAAACTGTGCCAGGAAATCACTGACTTTATCATCATGATCATCATCATCATCACCATCACTCAAACTTTGGTAGTGCAGTGCAGTGCCTGCTAGCGCCAAGCTCTAGACTCGGTTCTTTATATATACTCAGTCATCGCATGTTCATGGCAGTCTCATGGGACCAGCACTACAAATGTGTCTAAGGAGGTTTCCTCGAAATCTCCTTTGTCACAGTGGCCTGGAGCATGCAGAAGCAGGTAACAGAAATACCAGCAGCCACTCCTGACTCATCACTGATAGTGGAACTGGTAAGGGACAAACTTGTAAATGAGCAAAGTTAGATTTCTGGGCCTCCTCACCACCTCCCCACTTAGTGCTGTGTCCCCACCCCACAGGTACCCGGTACCTTTGTGCTCTCCAAGAATGCCCCATACTGCCACTTTCCACCCCCATCCTCCTGCCTGTACCTTGTTGCAAATCCCCAACGCCCTGGGCCTCAGTTGACTCTGTACCTACCCCAAAAGGCATCTTTCCTGCAGGTGCTCCTTCCCACGAAGCCCTGTGGTAAGGTCATGTGCTGTCTTCGGTCAAATCAAAACTCCAGTATCTGATAAGAGTCTAAAGATATATGAGAGTTCCCACTATTCCCAACCTTGTCAATATTTGTATTGTTTGATTTTTAAAGTTTTTGGCCATTAGGTGAATATTTAATGGTATGTCATTGTAATTTTAATTTGCAATTTTCCTGATGACTGCTAAGGTTGAGTATCTTTTCATGTTTATTATTCTCTGTATAGTTCTTGTTCATGTCTTTTGCCTGCTTTTCTGTACAGTTGCTTAGCTTTTTGTTAATTGATTCATAGGAATTCTTTGTAAACTCTGGATACCTTCTGCAGGCACCACTCATTGAGACCCCACTGACCAGGAACGATCTTTCAGTCATTTAAGTGACTCTGTGTGGAGTTGTCTCTGGGTTCTCTAGCCCTGCGCTGTTACCACAGTCTTAATAACATTGCCCTTTGCTAATTTTCTTTACGGCATGTTCATTTGCCATTTATTAATTTCTGTTG\n"
     ]
    }
   ],
   "source": [
    "# Show the reverse complement of the sequence\n",
    "print str(sv.flip().sequence)"
   ]
  },
  {
   "cell_type": "code",
   "execution_count": 23,
   "metadata": {
    "collapsed": false
   },
   "outputs": [
    {
     "data": {
      "text/html": [
       "\n",
       "<p>\n",
       "What is this sequence? We can \n",
       "<a href='http://blast.ncbi.nlm.nih.gov/Blast.cgi?CMD=Get&RID=BW6UV2BR015'>BLAST it</a>.\n",
       "</p>\n",
       "<p>\n",
       "Or see the <a href='Multiple%20references.ipynb'>Multiple references</a> demonstration.\n",
       "</p>\n"
      ],
      "text/plain": [
       "<IPython.core.display.HTML object>"
      ]
     },
     "execution_count": 23,
     "metadata": {},
     "output_type": "execute_result"
    }
   ],
   "source": [
    "from IPython.display import HTML\n",
    "HTML(\"\"\"\n",
    "<p>\n",
    "What is this sequence? We can \n",
    "<a href='http://blast.ncbi.nlm.nih.gov/Blast.cgi?CMD=Get&RID=BW6UV2BR015'>BLAST it</a>.\n",
    "</p>\n",
    "<p>\n",
    "Or see the <a href='Multiple%20references.ipynb'>Multiple references</a> demonstration.\n",
    "</p>\n",
    "\"\"\")"
   ]
  },
  {
   "cell_type": "code",
   "execution_count": null,
   "metadata": {
    "collapsed": true
   },
   "outputs": [],
   "source": []
  }
 ],
 "metadata": {
  "celltoolbar": "Raw Cell Format",
  "kernelspec": {
   "display_name": "Python 2",
   "language": "python",
   "name": "python2"
  },
  "language_info": {
   "codemirror_mode": {
    "name": "ipython",
    "version": 2
   },
   "file_extension": ".py",
   "mimetype": "text/x-python",
   "name": "python",
   "nbconvert_exporter": "python",
   "pygments_lexer": "ipython2",
   "version": "2.7.6"
  }
 },
 "nbformat": 4,
 "nbformat_minor": 0
}
