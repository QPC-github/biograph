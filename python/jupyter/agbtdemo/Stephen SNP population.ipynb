{
 "cells": [
  {
   "cell_type": "code",
   "execution_count": 1,
   "metadata": {
    "collapsed": true
   },
   "outputs": [],
   "source": [
    "\"\"\"\n",
    "    Search a population for a set of 75 SNPs associated with drug response\n",
    "\"\"\"\n",
    "import libspiral\n",
    "from biograph import *\n",
    "import glob"
   ]
  },
  {
   "cell_type": "code",
   "execution_count": 55,
   "metadata": {
    "collapsed": true
   },
   "outputs": [],
   "source": [
    "# Load the cohort biograph, two references, and all the sample ID's\n",
    "bg = new_graph(\"/mnt/cohort_125.gbwt\")\n",
    "\n",
    "ref37 = reference(\"/reference/human_g1k_v37\")\n",
    "ref38 = reference(\"/reference/homo_sapiens_GCA_000001405.19_GRCh38.p4\")"
   ]
  },
  {
   "cell_type": "code",
   "execution_count": 56,
   "metadata": {
    "collapsed": true
   },
   "outputs": [],
   "source": [
    "# The biograph files are named for the sample they contain \n",
    "# [this involves loading 125 files and takes quite a while]\n",
    "sample_names = [('.'.join(x.split('/')[2].split('.')[:-1])) for x in glob.glob(\"/mnt/*.bitmap\")]\n",
    "samples = {}\n",
    "for sn in sample_names:\n",
    "    samples[sn] = bg.load_readset(\"/mnt/\" + sn + \".bitmap\")"
   ]
  },
  {
   "cell_type": "code",
   "execution_count": 57,
   "metadata": {
    "collapsed": false
   },
   "outputs": [],
   "source": [
    "# Load SNPs that affect drug response and put into lists\n",
    "with open(\"drug_response_snps\", \"rb\") as f:\n",
    "    data = f.read()\n",
    "snps = [x.split('\\t') for x in data.split('\\n')[:-1]]"
   ]
  },
  {
   "cell_type": "code",
   "execution_count": 58,
   "metadata": {
    "collapsed": true
   },
   "outputs": [],
   "source": [
    "# Define a function to compute coverage of snp for a sample\n",
    "def coverage(bg, ref, readset, snp, base, rlen = 100):\n",
    "    seq = ref.make_range(snp[0], int(snp[2])-rlen, int(snp[2])+rlen+1, True).sequence\n",
    "    seq[rlen] = base\n",
    "    return bg.seq_coverage(seq, readset)[rlen]"
   ]
  },
  {
   "cell_type": "code",
   "execution_count": 59,
   "metadata": {
    "collapsed": false
   },
   "outputs": [
    {
     "data": {
      "text/plain": [
       "24"
      ]
     },
     "execution_count": 59,
     "metadata": {},
     "output_type": "execute_result"
    }
   ],
   "source": [
    "# Compute single allele coverage for one individual -- NA12878\n",
    "coverage(bg, ref38, samples['NA12878_S1'], snps[0], 'C')"
   ]
  },
  {
   "cell_type": "code",
   "execution_count": 62,
   "metadata": {
    "collapsed": false,
    "scrolled": false
   },
   "outputs": [
    {
     "name": "stdout",
     "output_type": "stream",
     "text": [
      "      rs5219: C=24 T=16 \n",
      "      rs6165: A= 0 C=36 G= 0 \n",
      "      rs6166: A= 0 G= 0 \n",
      "     rs16947: A=36 G= 0 \n",
      "     rs16947: A= 0 G= 0 \n",
      "     rs16947: A= 0 G= 0 \n",
      "     rs16947: A=40 G= 0 \n",
      "     rs37973: A=43 G= 0 \n",
      "    rs713598: C=17 G=20 \n",
      "   rs1057910: A=35 C= 0 \n",
      "   rs1065852: C= 0 T= 0 \n",
      "   rs1065852: C= 0 T= 0 \n",
      "   rs1065852: C= 0 T= 0 \n",
      "   rs1065852: C=42 T= 0 \n",
      "   rs1135840: C= 0 G=38 \n",
      "   rs1135840: C= 0 G=48 \n",
      "   rs1135840: C=38 G= 0 \n",
      "   rs1135840: C= 0 G=36 \n",
      "   rs1726866: C= 0 T= 0 \n",
      "   rs1799853: C=32 T=15 \n",
      "   rs1799930: A= 0 G=38 \n",
      "   rs1799931: A= 0 G=26 \n",
      "   rs1800462: C=46 G= 0 \n",
      "   rs1800888: C=25 T= 0 \n",
      "   rs1801253: C=28 G= 0 \n",
      "   rs1801279: A= 0 G=25 \n",
      "   rs1801280: C=22 T=22 \n",
      "   rs2279343: A=30 G=15 \n",
      "   rs3745274: A= 0 G=26 T= 0 \n",
      "   rs3892097: A= 0 G= 0 \n",
      "   rs3892097: A= 0 G=41 \n",
      "   rs3892097: A= 0 G= 0 \n",
      "   rs3892097: A= 0 G= 0 \n",
      "   rs4244285: A=30 C= 0 G=25 \n",
      "   rs4986893: A= 0 G=37 \n",
      "   rs5030865: A= 0 C=28 T= 0 \n",
      "   rs5030865: A= 0 C= 0 T= 0 \n",
      "   rs5030865: A=26 C= 0 T= 0 \n",
      "   rs5030865: A= 0 C= 0 T= 0 \n",
      "   rs9923231: A= 0 C=22 G= 0 T=20 \n",
      "   rs9934438: A=12 G=15 \n",
      "  rs10246939: C=11 T=24 \n",
      "  rs28399504: A=46 G= 0 T= 0 \n",
      "  rs34097093: C=26 T= 0 \n",
      "  rs36079186: C= 0 T=31 \n",
      "  rs52815063: A=30 T= 0 \n",
      "  rs56019966: C=34 T= 0 \n",
      "  rs56337013: C=31 T= 0 \n",
      " rs119457968: A= 0 C=24 G= 0 T= 0 \n",
      " rs121434568: G= 0 T=36 \n",
      " rs121913434: C=40 G= 0 T= 0 \n",
      " rs121913444: A= 0 G= 0 T=36 \n",
      " rs139801276: C= 0 T=33 \n",
      " rs186335453: G=25 T= 0 \n",
      " rs267608319: C=37 T= 0 \n",
      " rs267608319: C= 0 T= 0 \n",
      " rs267608319: C= 0 T=42 \n",
      " rs267608319: C= 0 T= 0 \n",
      " rs281864907: A= 0 T=52 \n",
      " rs371424910: C= 0 T=35 \n",
      " rs373000587: A= 0 C= 0 T=38 \n",
      " rs373000587: A= 0 C= 0 T= 0 \n",
      " rs373000587: A= 0 C= 0 T= 0 \n",
      " rs373000587: A=44 C= 0 T= 0 \n",
      " rs373489637: G= 0 T=30 \n",
      " rs397517085: A=28 C= 0 G= 0 T= 0 \n",
      " rs483352805: A= 0 G=39 \n",
      " rs483352806: A= 0 G=19 \n",
      " rs483352807: A= 0 T=27 \n",
      " rs483352808: A= 0 G=41 \n",
      " rs727503020: A=24 G= 0 \n",
      " rs727504256: A= 0 G=28 \n",
      " rs727504316: C=40 T= 0 \n",
      " rs786205678: C=37 T= 0 \n",
      " rs796065050: C= 0 T= 0 \n"
     ]
    }
   ],
   "source": [
    "# Now let's look at the allele breakdown for all SNPS for that single individual -- NA12878\n",
    "for snp in snps:\n",
    "    out = \"%12s: \" % (snp[3],)\n",
    "    for allele in snp[4].split('/'):\n",
    "        out += \"%s=%2d \" % (\n",
    "            allele, \n",
    "            coverage(bg, ref38, samples['NA12878_S1'], snp, allele)\n",
    "        )\n",
    "    print out"
   ]
  },
  {
   "cell_type": "code",
   "execution_count": 63,
   "metadata": {
    "collapsed": false,
    "scrolled": false
   },
   "outputs": [
    {
     "name": "stdout",
     "output_type": "stream",
     "text": [
      "  NA12879_S1: C=31 T= 0 \n",
      "  NA12882_S1: C=14 T=13 \n",
      "  SRR2098255: C=20 T= 0 \n",
      "  SRR2098254: C=16 T=14 \n",
      "  SRR2098257: C=13 T=15 \n",
      "  SRR2098256: C=21 T= 0 \n",
      "  SRR2098251: C=31 T= 0 \n",
      "  SRR2098250: C=18 T= 0 \n",
      "  SRR2098253: C=31 T= 0 \n",
      "  SRR2098252: C=10 T=10 \n",
      "  SRR2098259: C= 0 T=28 \n",
      "  SRR2098258: C=27 T= 0 \n",
      "  SRR2098268: C=24 T= 0 \n",
      "  SRR2098269: C=25 T= 0 \n",
      "  SRR2098260: C=20 T= 0 \n",
      "  SRR2098261: C=29 T= 0 \n",
      "  SRR2098262: C=25 T= 0 \n",
      "  SRR2098263: C= 7 T=19 \n",
      "  SRR2098264: C=16 T= 0 \n",
      "  SRR2098265: C=27 T= 0 \n",
      "  SRR2098266: C=15 T= 0 \n",
      "  SRR2098267: C=28 T= 0 \n",
      "  NA12881_S1: C=25 T= 0 \n",
      "  SRR2098181: C=14 T=11 \n",
      "  SRR2098180: C=18 T= 0 \n",
      "  SRR2098183: C=28 T= 0 \n",
      "  SRR2098182: C=30 T= 0 \n",
      "  SRR2098177: C=22 T= 0 \n",
      "  SRR2098178: C= 7 T=12 \n",
      "  SRR2098179: C=20 T= 0 \n",
      "  SRR2098221: C=14 T= 0 \n",
      "  SRR2098222: C=21 T= 0 \n",
      "  SRR2098279: C=16 T=11 \n",
      "  SRR2098278: C=20 T= 0 \n",
      "  SRR2098277: C=19 T= 0 \n",
      "  SRR2098276: C=15 T= 0 \n",
      "  SRR2098275: C=25 T= 0 \n",
      "  SRR2098274: C=19 T= 0 \n",
      "  SRR2098273: C=20 T= 0 \n",
      "  SRR2098272: C=27 T= 0 \n",
      "  SRR2098271: C=26 T= 0 \n",
      "  SRR2098270: C=10 T= 8 \n",
      "  NA12890_S1: C=36 T= 0 \n",
      "  NA12886_S1: C=19 T=15 \n",
      "  SRR2098220: C=18 T= 0 \n",
      "  SRR2098282: C=18 T= 0 \n",
      "  SRR2098283: C=18 T= 0 \n",
      "  SRR2098280: C=20 T= 0 \n",
      "  SRR2098199: C= 7 T=10 \n",
      "  SRR2098284: C=13 T=11 \n",
      "  SRR2098208: C=21 T= 0 \n",
      "  SRR2098209: C=19 T=15 \n",
      "  SRR2098202: C=12 T=13 \n",
      "  SRR2098203: C=28 T= 0 \n",
      "  SRR2098200: C=24 T= 0 \n",
      "  SRR2098201: C=22 T= 0 \n",
      "  SRR2098206: C=13 T= 9 \n",
      "  SRR2098207: C=21 T= 0 \n",
      "  SRR2098204: C=20 T= 0 \n",
      "  SRR2098205: C=16 T= 0 \n",
      "  SRR2098192: C=14 T=10 \n",
      "  SRR2098281: C=18 T= 0 \n",
      "  SRR2098210: C=16 T=16 \n",
      "  SRR2098213: C=21 T= 0 \n",
      "  NA12887_S1: C=13 T=20 \n",
      "  SRR2098191: C=10 T=12 \n",
      "  SRR2098215: C=19 T=13 \n",
      "  SRR2098197: C=22 T= 0 \n",
      "  NA12892_S1: C=23 T=24 \n",
      "  SRR2098217: C=14 T=12 \n",
      "  NA12885_S1: C=21 T= 0 \n",
      "  NA12893_S1: C=33 T= 0 \n",
      "  SRR2098219: C=25 T= 0 \n",
      "  SRR2098218: C=28 T= 0 \n",
      "  SRR2098198: C=17 T= 0 \n",
      "  SRR2098223: C= 9 T=17 \n",
      "  SRR2098211: C= 0 T=26 \n",
      "  SRR2098193: C=24 T= 0 \n",
      "  SRR2098190: C=16 T=15 \n",
      "  SRR2098212: C=24 T= 0 \n",
      "  SRR2098196: C=13 T=13 \n",
      "  SRR2098214: C=16 T=18 \n",
      "  SRR2098194: C=17 T=11 \n",
      "  SRR2098195: C=26 T= 0 \n",
      "  SRR2098186: C=21 T= 0 \n",
      "  NA12877_S1: C=33 T= 0 \n",
      "  NA12884_S1: C=25 T= 0 \n",
      "  SRR2098244: C=11 T=18 \n",
      "  SRR2098189: C=27 T= 0 \n",
      "  SRR2098188: C=29 T= 0 \n",
      "  SRR2098228: C=11 T= 8 \n",
      "  SRR2098229: C=19 T= 0 \n",
      "  SRR2098224: C=22 T= 0 \n",
      "  SRR2098225: C=21 T= 0 \n",
      "  SRR2098226: C=24 T= 0 \n",
      "  SRR2098227: C=22 T= 0 \n",
      "  SRR2098185: C=20 T= 9 \n",
      "  SRR2098184: C= 9 T=12 \n",
      "  SRR2098187: C=25 T= 0 \n",
      "  NA12888_S1: C=32 T= 0 \n",
      "  NA12880_S1: C=33 T= 0 \n",
      "  SRR2098216: C= 9 T= 9 \n",
      "  SRR2098233: C=20 T= 0 \n",
      "  SRR2098232: C=30 T= 0 \n",
      "  SRR2098231: C=16 T=14 \n",
      "  SRR2098230: C=17 T=18 \n",
      "  SRR2098237: C=17 T=22 \n",
      "  SRR2098236: C=15 T= 0 \n",
      "  SRR2098235: C=11 T= 9 \n",
      "  SRR2098234: C=13 T=22 \n",
      "  SRR2098239: C=20 T= 0 \n",
      "  SRR2098238: C=32 T= 0 \n",
      "  NA12889_S1: C=11 T=15 \n",
      "  SRR2098246: C=20 T= 0 \n",
      "  SRR2098247: C=24 T= 0 \n",
      "  NA12883_S1: C=24 T= 0 \n",
      "  SRR2098245: C=10 T=20 \n",
      "  SRR2098242: C=16 T=11 \n",
      "  SRR2098243: C=31 T= 0 \n",
      "  SRR2098240: C=14 T=10 \n",
      "  SRR2098241: C=12 T=17 \n",
      "  NA12878_S1: C=24 T=16 \n",
      "  SRR2098248: C=11 T=15 \n",
      "  SRR2098249: C=20 T=13 \n",
      "  NA12891_S1: C=12 T=21 \n"
     ]
    }
   ],
   "source": [
    "# Now, for a single SNP, let's examine the allele breakdown for all individuals in the cohort\n",
    "snp = snps[0]\n",
    "for name, sample in samples.iteritems():\n",
    "    if name[0].islower():\n",
    "        continue # Skip references\n",
    "    out = \"%12s: \" % (name,)\n",
    "    for allele in snp[4].split('/'):\n",
    "        out += \"%s=%2d \" % (\n",
    "            allele, \n",
    "            coverage(bg, ref38, sample, snp, allele)\n",
    "        )\n",
    "    print out"
   ]
  },
  {
   "cell_type": "code",
   "execution_count": 11,
   "metadata": {
    "collapsed": false
   },
   "outputs": [],
   "source": [
    "# All SNPS for all individuals (generating 6750 entries) -- observe long it takes to compute this -- 50x faster in C++\n",
    "results = {}\n",
    "for snp in snps:\n",
    "    for name, sample in samples.iteritems():\n",
    "        if name[0].islower():\n",
    "            continue # Skip references\n",
    "        out = \"\"\n",
    "        for allele in snp[4].split('/'):\n",
    "            out += \"%s=%2d \" % (\n",
    "                allele, \n",
    "                coverage(bg, ref38, sample, snp, allele)\n",
    "            )\n",
    "        results[(snp[3], name)] = out"
   ]
  },
  {
   "cell_type": "code",
   "execution_count": 34,
   "metadata": {
    "collapsed": false,
    "scrolled": true
   },
   "outputs": [
    {
     "data": {
      "image/png": "[encoded data removed]",
      "text/plain": [
       "<IPython.core.display.Image object>"
      ]
     },
     "execution_count": 34,
     "metadata": {},
     "output_type": "execute_result"
    }
   ],
   "source": [
    "# Let's look at the CEPH 1463 Pedigree\n",
    "# From the Cornell Institute for Medical Research, http://bit.ly/1Kc2q9m\n",
    "\n",
    "from IPython.display import Image\n",
    "Image(filename='ceph1463.png')"
   ]
  },
  {
   "cell_type": "code",
   "execution_count": 12,
   "metadata": {
    "collapsed": true
   },
   "outputs": [],
   "source": [
    "parents = ('NA12877_S1', 'NA12878_S1')\n",
    "children = ('NA12879_S1', 'NA12880_S1', 'NA12881_S1', 'NA12882_S1', \n",
    "            'NA12883_S1', 'NA12884_S1', 'NA12885_S1', 'NA12886_S1', \n",
    "            'NA12887_S1', 'NA12888_S1', 'NA12893_S1')"
   ]
  },
  {
   "cell_type": "code",
   "execution_count": 13,
   "metadata": {
    "collapsed": false
   },
   "outputs": [
    {
     "name": "stdout",
     "output_type": "stream",
     "text": [
      "rs1801253\n",
      "\n",
      "NA12877_S1: C= 0 G=24 \n",
      "NA12878_S1: C=28 G= 0 \n",
      "\n",
      "NA12879_S1: C=14 G=12 \n",
      "NA12880_S1: C=16 G=13 \n",
      "NA12881_S1: C=15 G=16 \n",
      "NA12882_S1: C=18 G=19 \n",
      "NA12883_S1: C=13 G=16 \n",
      "NA12884_S1: C=16 G=14 \n",
      "NA12885_S1: C= 6 G=11 \n",
      "NA12886_S1: C=12 G=16 \n",
      "NA12887_S1: C=17 G=17 \n",
      "NA12888_S1: C=13 G=17 \n",
      "NA12893_S1: C=15 G=17 \n"
     ]
    }
   ],
   "source": [
    "# http://snpedia.com/index.php/Rs1801253\n",
    "# For this SNP, lets see which alleles are present in each of the parents and children\n",
    "#The father is homozygous with the \"G\" SNP / the mother is heterozygous with the \"C\" SNP / the children are all heterozygous\n",
    "gene = 'rs1801253'\n",
    "\n",
    "print gene + '\\n'\n",
    "\n",
    "for i in parents:\n",
    "    print i + ': ' + results[(gene, i)]\n",
    "\n",
    "print\n",
    "\n",
    "for i in children:\n",
    "    print i + ': ' + results[(gene, i)]"
   ]
  },
  {
   "cell_type": "code",
   "execution_count": 50,
   "metadata": {
    "collapsed": false
   },
   "outputs": [],
   "source": [
    "SV =\"ACTTTGGGAGGCCGAGGTGGGTGGGTCACCTGAGGTCAGAAGTTTGAGACCTGTCTGGCCAATATGGTGAAACCCCATCTCTCCTAAATATACATTTAACTCAAAAAAAGTTAAAATTATAGTCAAACACTAACACTACCCTGTAGAATATAATTAATTACTGAAATAAGCACTATGAAAACATTGTCC\""
   ]
  },
  {
   "cell_type": "code",
   "execution_count": 64,
   "metadata": {
    "collapsed": false
   },
   "outputs": [
    {
     "name": "stdout",
     "output_type": "stream",
     "text": [
      "  NA12877_S1: 15\n",
      "  NA12878_S1: 22\n",
      "  NA12879_S1: 17\n",
      "  NA12880_S1: 34\n",
      "  NA12881_S1: 20\n",
      "  NA12882_S1: 23\n",
      "  NA12883_S1: 15\n",
      "  NA12884_S1: 0\n",
      "  NA12885_S1: 35\n",
      "  NA12886_S1: 19\n",
      "  NA12887_S1: 37\n",
      "  NA12888_S1: 23\n",
      "  NA12889_S1: 18\n",
      "  NA12890_S1: 14\n",
      "  NA12891_S1: 29\n",
      "  NA12892_S1: 0\n",
      "  NA12893_S1: 0\n",
      "  SRR2098177: 0\n",
      "  SRR2098178: 0\n",
      "  SRR2098179: 9\n",
      "  SRR2098180: 8\n",
      "  SRR2098181: 0\n",
      "  SRR2098182: 26\n",
      "  SRR2098183: 31\n",
      "  SRR2098184: 27\n",
      "  SRR2098185: 12\n",
      "  SRR2098186: 9\n",
      "  SRR2098187: 26\n",
      "  SRR2098188: 37\n",
      "  SRR2098189: 15\n",
      "  SRR2098190: 0\n",
      "  SRR2098191: 29\n",
      "  SRR2098192: 17\n",
      "  SRR2098193: 25\n",
      "  SRR2098194: 15\n",
      "  SRR2098195: 14\n",
      "  SRR2098196: 24\n",
      "  SRR2098197: 28\n",
      "  SRR2098198: 0\n",
      "  SRR2098199: 14\n",
      "  SRR2098200: 14\n",
      "  SRR2098201: 17\n",
      "  SRR2098202: 27\n",
      "  SRR2098203: 15\n",
      "  SRR2098204: 16\n",
      "  SRR2098205: 13\n",
      "  SRR2098206: 14\n",
      "  SRR2098207: 11\n",
      "  SRR2098208: 25\n",
      "  SRR2098209: 32\n",
      "  SRR2098210: 30\n",
      "  SRR2098211: 30\n",
      "  SRR2098212: 0\n",
      "  SRR2098213: 0\n",
      "  SRR2098214: 10\n",
      "  SRR2098215: 16\n",
      "  SRR2098216: 19\n",
      "  SRR2098217: 21\n",
      "  SRR2098218: 31\n",
      "  SRR2098219: 19\n",
      "  SRR2098220: 27\n",
      "  SRR2098221: 15\n",
      "  SRR2098222: 15\n",
      "  SRR2098223: 13\n",
      "  SRR2098224: 27\n",
      "  SRR2098225: 29\n",
      "  SRR2098226: 0\n",
      "  SRR2098227: 20\n",
      "  SRR2098228: 9\n",
      "  SRR2098229: 0\n",
      "  SRR2098230: 0\n",
      "  SRR2098231: 18\n",
      "  SRR2098232: 13\n",
      "  SRR2098233: 0\n",
      "  SRR2098234: 14\n",
      "  SRR2098235: 13\n",
      "  SRR2098236: 27\n",
      "  SRR2098237: 23\n",
      "  SRR2098238: 31\n",
      "  SRR2098239: 17\n",
      "  SRR2098240: 33\n",
      "  SRR2098241: 19\n",
      "  SRR2098242: 22\n",
      "  SRR2098243: 16\n",
      "  SRR2098244: 18\n",
      "  SRR2098245: 13\n",
      "  SRR2098246: 0\n",
      "  SRR2098247: 8\n",
      "  SRR2098248: 0\n",
      "  SRR2098249: 0\n",
      "  SRR2098250: 0\n",
      "  SRR2098251: 0\n",
      "  SRR2098252: 12\n",
      "  SRR2098253: 12\n",
      "  SRR2098254: 30\n",
      "  SRR2098255: 15\n",
      "  SRR2098256: 18\n",
      "  SRR2098257: 31\n",
      "  SRR2098258: 18\n",
      "  SRR2098259: 0\n",
      "  SRR2098260: 16\n",
      "  SRR2098261: 24\n",
      "  SRR2098262: 26\n",
      "  SRR2098263: 14\n",
      "  SRR2098264: 11\n",
      "  SRR2098265: 13\n",
      "  SRR2098266: 0\n",
      "  SRR2098267: 0\n",
      "  SRR2098268: 0\n",
      "  SRR2098269: 33\n",
      "  SRR2098270: 0\n",
      "  SRR2098271: 0\n",
      "  SRR2098272: 0\n",
      "  SRR2098273: 10\n",
      "  SRR2098274: 11\n",
      "  SRR2098275: 0\n",
      "  SRR2098276: 0\n",
      "  SRR2098277: 0\n",
      "  SRR2098278: 0\n",
      "  SRR2098279: 0\n",
      "  SRR2098280: 0\n",
      "  SRR2098281: 0\n",
      "  SRR2098282: 0\n",
      "  SRR2098283: 0\n",
      "  SRR2098284: 21\n"
     ]
    }
   ],
   "source": [
    "# Compute the average coverage of a deletion breakpoint\n",
    "out = []\n",
    "for name, sample in samples.iteritems():\n",
    "    if name[0].islower():\n",
    "        continue # Skip references\n",
    "    cov_map = bg.seq_coverage(libspiral.sequence(SV), sample)\n",
    "    out += [\"%12s: %d\" % (name, cov_map[100])]\n",
    "for l in sorted(out):\n",
    "    print l"
   ]
  },
  {
   "cell_type": "code",
   "execution_count": 32,
   "metadata": {
    "collapsed": false
   },
   "outputs": [
    {
     "data": {
      "text/plain": [
       "22"
      ]
     },
     "execution_count": 32,
     "metadata": {},
     "output_type": "execute_result"
    }
   ],
   "source": [
    "bg.seq_coverage(libspiral.sequence(SV), samples['NA12878_S1'])[100]"
   ]
  },
  {
   "cell_type": "code",
   "execution_count": null,
   "metadata": {
    "collapsed": true
   },
   "outputs": [],
   "source": []
  }
 ],
 "metadata": {
  "kernelspec": {
   "display_name": "Python 2",
   "language": "python",
   "name": "python2"
  },
  "language_info": {
   "codemirror_mode": {
    "name": "ipython",
    "version": 2
   },
   "file_extension": ".py",
   "mimetype": "text/x-python",
   "name": "python",
   "nbconvert_exporter": "python",
   "pygments_lexer": "ipython2",
   "version": "2.7.6"
  }
 },
 "nbformat": 4,
 "nbformat_minor": 0
}
