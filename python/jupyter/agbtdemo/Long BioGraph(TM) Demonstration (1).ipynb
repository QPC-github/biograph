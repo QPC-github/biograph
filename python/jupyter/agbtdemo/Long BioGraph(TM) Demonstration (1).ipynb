{
 "cells": [
  {
   "cell_type": "markdown",
   "metadata": {},
   "source": [
    "<img src=\"Demo1Slide1.JPG\">"
   ]
  },
  {
   "cell_type": "markdown",
   "metadata": {},
   "source": [
    "<img src=\"Demo1Slide2.JPG\">"
   ]
  },
  {
   "cell_type": "markdown",
   "metadata": {},
   "source": [
    "<img src=\"Demo1Slide3.JPG\">"
   ]
  },
  {
   "cell_type": "markdown",
   "metadata": {},
   "source": [
    "<img src=\"Demo1Slide4.JPG\">"
   ]
  },
  {
   "cell_type": "markdown",
   "metadata": {
    "collapsed": false
   },
   "source": [
    "<img src=\"Demo1Slide5.JPG\">"
   ]
  },
  {
   "cell_type": "markdown",
   "metadata": {},
   "source": [
    "<img src=\"Demo1Slide6.JPG\">"
   ]
  },
  {
   "cell_type": "markdown",
   "metadata": {},
   "source": [
    "<img src=\"Demo1Insert2.JPG\">"
   ]
  },
  {
   "cell_type": "markdown",
   "metadata": {},
   "source": [
    "<img src=\"Demo1Slide7.JPG\">"
   ]
  },
  {
   "cell_type": "markdown",
   "metadata": {},
   "source": [
    "## Here is an excerpt from the demonstration file directory. "
   ]
  },
  {
   "cell_type": "markdown",
   "metadata": {
    "collapsed": false
   },
   "source": [
    "<img src=\"Demo1Insert3.JPG\">"
   ]
  },
  {
   "cell_type": "markdown",
   "metadata": {},
   "source": [
    "cohort_125.seqset includes all of the sequence data from 17 \"platinum\" genomes taken from the CEPH/Utah family and 108 publicly available genomes of Qataris from the Sequence Read Archive (SRA). \n",
    "\n",
    "In the form of BAM files this would require around 13 terabytes of storage, but as a \n",
    "\"Biograph Database\" it only requires about 0.3 TB of storage. The \".seqset\" file which holds the \"merged graph\" for 125 genomes requires 114GB of storage. The \".readset\" file which holds the individual index for each genome requires about 2GB per genome.\n",
    "**Biograph databases reduce genome storage requirements by a factor of over 30!**  \n",
    "The precise level of storage compression possible depends on the number of genomes stored together in \n",
    "one database and their heterogeneity. This extremely high level of compression is possible because the \n",
    "database uses a \"merged graph structure,\" conceptually illustrated in Slides 6 and 7. \n",
    "\n",
    "The merged graph contains every sequence that occurs in at least one of the merged genomes. When a genome is added to a merged graph, all that needs to be recorded are the new, unique sequences it contains. Each individual genome can then be reconstructed from an \"individual index\" that enumerates the exact series of sequences from the merged graph that makes up the individual. \n",
    "\n",
    "The very high level of compression is possible because there is enormous redundancy in a group of human genomes. The sequence information in an isolated human genome is almost as unpredictable as a random sequence of A's, T's, C's, and G's, and, therefore, does not lend itself to high lossless compression. However, the sequence information in multiple human genomes is 99.9% redundant, permitting much higher compression. The larger the set of genomes combined in a graph, the higher the compression, since only a limited number (estimated between 20 and 40 million) \n",
    "of de novo or inherited variations exist in the entire human population.\n",
    "\n",
    "Very high speed query is enabled by the compact search structure, which enables it to be fully loaded into high speed RAM memory."
   ]
  },
  {
   "cell_type": "markdown",
   "metadata": {},
   "source": [
    "## Demonstration of BioGraph query speed"
   ]
  },
  {
   "cell_type": "code",
   "execution_count": null,
   "metadata": {
    "collapsed": true
   },
   "outputs": [],
   "source": [
    "# ROB HELP!\n",
    "# Load the BioGraph python API and software libraries\n",
    "from biograph import new_graph, reference, find_variants, visualize\n",
    "\n",
    "# Illustrate the speed with which the BioGraph Tools can find all the reads associated with a sequence\n",
    "#while True:\n",
    "#    whichSEQSET = rawinput(\"Which graph file?\")\n",
    "#    if whichSEQSET == '':\n",
    "#        break\n",
    "#    demoReadQuery(''/mnt/' + whichSEQSET)\n",
    "\n",
    "# TBD: create demoReadQuery(seqset) = query seqset based on our existing demo wrapped in a Python API."
   ]
  },
  {
   "cell_type": "markdown",
   "metadata": {},
   "source": [
    "## The examples that follow make much of use of the CEPH 1463 Pedigree, a Utah family of Northern European Ancestry from the Cornell Institute for Medical Research, http://bit.ly/1Kc2q9m"
   ]
  },
  {
   "cell_type": "markdown",
   "metadata": {},
   "source": [
    "<img src=\"Demo1Insert1.JPG\">"
   ]
  },
  {
   "cell_type": "code",
   "execution_count": 23,
   "metadata": {
    "collapsed": false,
    "scrolled": false
   },
   "outputs": [
    {
     "name": "stdout",
     "output_type": "stream",
     "text": [
      "                                .\n",
      "                                .\n",
      "                                .\n",
      "           1:245822860      44 T│ \n",
      "           1:245822861      45 A│ \n",
      "           1:245822862      45 C│ \n",
      "                             1  ├───╮  44\n",
      "           1:245822863       0 C│   │T 44\n",
      "                             0  ├───╯  44\n",
      "           1:245822864      44 G│ \n",
      "           1:245822865      44 G│ \n",
      "           1:245822866      43 G│ \n",
      "                                .\n",
      "                                .\n",
      "                                .\n",
      "           1:245823566      31 G│ \n",
      "           1:245823567      31 T│ \n",
      "           1:245823568      31 C│ \n",
      "                             0  ├───╮  31  CTGAGGATCTAAGTACAGGG...[3865]\n",
      "                                │   ╰──────────────────────────┄ 1:245823631 ╮\n",
      "           1:245823569       0 G│ \n",
      "           1:245823570       0 T│ \n",
      "           1:245823571       0 G│ \n",
      "                                .\n",
      "                                .\n",
      "                                .\n",
      "           1:245823627       0 G│ \n",
      "           1:245823628       0 T│ \n",
      "           1:245823629       0 T│ \n",
      "           1:245823630       0 C│ \n",
      "                                │   ╭──────────────────────────┄ 1:245823568 ╯\n",
      "                             1  ├───╯  29  CTGAGGATCTAAGTACAGGG...[3865]\n",
      "           1:245823631      30 T│ \n",
      "           1:245823632      30 T│ \n",
      "                                .\n",
      "                                .\n",
      "                                .\n",
      "           1:245824138      37 G│ \n",
      "           1:245824139      37 A│ \n",
      "           1:245824140      37 C│ \n",
      "                             0  ├───╮  37\n",
      "           1:245824141       0 G│   │A 37\n",
      "                             0  ├───╯  36\n",
      "           1:245824142      36 G│ \n",
      "           1:245824143      37 G│ \n",
      "           1:245824144      37 G│ \n",
      "                                .\n",
      "                                .\n",
      "                                .\n",
      "           1:245824425      31 A│ \n",
      "           1:245824426      31 T│ \n",
      "           1:245824427      30 T│ \n",
      "                             0  ├───╮  30\n",
      "           1:245824428       0 A│   │G 31\n",
      "                             1  ├───╯  31\n",
      "           1:245824429      32 T│ \n",
      "           1:245824430      32 T│ \n",
      "           1:245824431      32 T│ \n",
      "                                .\n",
      "                                .\n",
      "                                .\n"
     ]
    }
   ],
   "source": [
    "# ELIMINATE THIS CODE\n",
    "\n",
    "# Import the graph genome of Mother\n",
    "# bg = new_graph(\"/mnt/NA12878_S1.gbwt\")\n",
    "\n",
    "# Import a human reference\n",
    "# grch37 = reference(\"/reference/human_g1k_v37/\")\n",
    "\n",
    "# Assemble the genome in real-time and find variants in a range of 2kbases of Chromosome 1\n",
    "# grch37_coords = find_variants(bg, grch37, \"1\", 245822567, 245824567)\n",
    "# There is a 3.865 Kbase insertion in place of a deletion of 63 bases\n",
    "\n",
    "# Now we assemble and visualize that range in real-time\n",
    "# for v in grch37_coords:\n",
    "#    visualize(v.variants, v.coverage, v.ref_range)"
   ]
  },
  {
   "cell_type": "markdown",
   "metadata": {},
   "source": [
    "## Demonstration 1 of Real-Time Assembly and Visualization of A Structural Variant  -- an insertion in NA12878 and how it was inherited (validated by Evan Eichler at U of W) "
   ]
  },
  {
   "cell_type": "code",
   "execution_count": 5,
   "metadata": {
    "collapsed": false,
    "scrolled": true
   },
   "outputs": [
    {
     "ename": "ImportError",
     "evalue": "No module named libspiral",
     "output_type": "error",
     "traceback": [
      "\u001b[1;31m---------------------------------------------------------------------------\u001b[0m",
      "\u001b[1;31mImportError\u001b[0m                               Traceback (most recent call last)",
      "\u001b[1;32m<ipython-input-5-97a8f0605282>\u001b[0m in \u001b[0;36m<module>\u001b[1;34m()\u001b[0m\n\u001b[0;32m      1\u001b[0m \u001b[1;31m# Import the Biograph library and API\u001b[0m\u001b[1;33m\u001b[0m\u001b[1;33m\u001b[0m\u001b[0m\n\u001b[1;32m----> 2\u001b[1;33m \u001b[1;32mfrom\u001b[0m \u001b[0mbiograph\u001b[0m \u001b[1;32mimport\u001b[0m \u001b[0mnew_graph\u001b[0m\u001b[1;33m,\u001b[0m \u001b[0mreference\u001b[0m\u001b[1;33m,\u001b[0m \u001b[0mfind_variants\u001b[0m\u001b[1;33m,\u001b[0m \u001b[0mvisualize\u001b[0m\u001b[1;33m\u001b[0m\u001b[0m\n\u001b[0m\u001b[0;32m      3\u001b[0m \u001b[1;33m\u001b[0m\u001b[0m\n\u001b[0;32m      4\u001b[0m \u001b[1;31m# Import the graph genome of Mother\u001b[0m\u001b[1;33m\u001b[0m\u001b[1;33m\u001b[0m\u001b[0m\n\u001b[0;32m      5\u001b[0m \u001b[0mbg\u001b[0m \u001b[1;33m=\u001b[0m \u001b[0mnew_graph\u001b[0m\u001b[1;33m(\u001b[0m\u001b[1;34m\"/mnt/NA12878_S1.gbwt\"\u001b[0m\u001b[1;33m)\u001b[0m\u001b[1;33m\u001b[0m\u001b[0m\n",
      "\u001b[1;32m/home/spiral/demo/Demonstration Folder/biograph.py\u001b[0m in \u001b[0;36m<module>\u001b[1;34m()\u001b[0m\n\u001b[0;32m      2\u001b[0m \u001b[1;31m#pylint: disable=mixed-indentation\u001b[0m\u001b[1;33m\u001b[0m\u001b[1;33m\u001b[0m\u001b[0m\n\u001b[0;32m      3\u001b[0m \u001b[1;33m\u001b[0m\u001b[0m\n\u001b[1;32m----> 4\u001b[1;33m from libspiral import (\n\u001b[0m\u001b[0;32m      5\u001b[0m     \u001b[0massemble\u001b[0m\u001b[1;33m,\u001b[0m\u001b[1;33m\u001b[0m\u001b[0m\n\u001b[0;32m      6\u001b[0m     \u001b[0mfind_anchors\u001b[0m\u001b[1;33m,\u001b[0m\u001b[1;33m\u001b[0m\u001b[0m\n",
      "\u001b[1;31mImportError\u001b[0m: No module named libspiral"
     ]
    }
   ],
   "source": [
    "# Import the Biograph library and API\n",
    "from biograph import new_graph, reference, find_variants, visualize\n",
    "\n",
    "# Import the graph genome of Mother\n",
    "bg = new_graph(\"/mnt/NA12878_S1.gbwt\")\n",
    "\n",
    "# Import a human reference\n",
    "grch37 = reference(\"/reference/human_g1k_v37/\")\n",
    "\n",
    "# Now let's examine an insertion in NA12878 (Mother) validated by Evan Eichler of U of W\n",
    "grch37_coords = find_variants(bg, grch37, \"8\", 88268339, 88269142)\n",
    "\n",
    "# This is a homozygous(??) 2.457 Kbase insertion in place of a 63 bp deleteion in grch37_coords:\n",
    "for v in grch37_coords:\n",
    "    visualize(v.variants, v.coverage, v.ref_range)"
   ]
  },
  {
   "cell_type": "code",
   "execution_count": 7,
   "metadata": {
    "collapsed": false
   },
   "outputs": [
    {
     "data": {
      "text/plain": [
       "[<libspiral.variant 1:245822863_1:1>,\n",
       " <libspiral.variant 1:245824141_1:1>,\n",
       " <libspiral.variant 1:245823631-_3865_1:245823568->,\n",
       " <libspiral.variant 1:245824428_1:1>]"
      ]
     },
     "execution_count": 7,
     "metadata": {},
     "output_type": "execute_result"
    }
   ],
   "source": [
    "# Here are examples of Python operations we can perform on it\n",
    "\n",
    "# List all of the variants\n",
    "grch37_coords[0].variants"
   ]
  },
  {
   "cell_type": "code",
   "execution_count": 8,
   "metadata": {
    "collapsed": false,
    "scrolled": true
   },
   "outputs": [
    {
     "name": "stdout",
     "output_type": "stream",
     "text": [
      "True False False\n"
     ]
    }
   ],
   "source": [
    "# Identify that the insertion is a structural variant, - -\n",
    "sv = grch37_coords[0].variants[2]  # which variant index should we use?\n",
    "print sv.is_structural, sv.left_forward, sv.right_forward"
   ]
  },
  {
   "cell_type": "code",
   "execution_count": 9,
   "metadata": {
    "collapsed": false,
    "scrolled": true
   },
   "outputs": [
    {
     "name": "stdout",
     "output_type": "stream",
     "text": [
      "CTGAGGATCTAAGTACAGGGGAGTTCTGGGCATGCATTAGTGCTCTAAGGAGAGGCCTTCGCTGGTTAATGTCCCCAGGTTTGGGTTGGTAGCCTACCATTTGGTATCATACTGAGCTCCCTAATTTTGAGCTACATCTAGAAGACCACGTGCCTGGTGCCAAGAAGGACACTTAGACTATGTGTGGATGGAGCTTCATCAGCTGTTCTAATGAACGTTTTGCAAAAGACCATTGTGAGTGAGATGGGAGTTTCTCTGTTTTCAAGCCCAGGGCCCTGCCTGCTGGTGTGTCCCTCTTCTGAGTCATTCAGCCTTGACCCACTCTAGGGAACCGGAGGAATCCACAGCCCAGAGCTCTCCCATGGTGGCCTGTTTGACAGTCACATTCTGAAAAAGCAAACCTCTTGGCTTGATTTCTTGCTGGAATAATGAAACCCAGCTCGGCCCCTGCTTGATAATTGCCTTTGGGAAAAAGGTAATAGCCACCTTGAAACACCATTCAGTTGGACCTTTCCAAAAGCCACGGGTTTTTCTTCACCAAAGTCCTTCATTTGAGCCTATAATCTGTGAATGGAAAGAAGCGATGATGCCTCTAAAAGCCTTTTGGTTGGAGTCAGAGTCACCCTTTGAGCACTGAGTTCTCTTTCCAGGGACCTCTCCCATGTGGTCTTGGAGCCATGGGTGTTGTACAAAAGCAACAGGCCTAGCAGAGCTACCAGTGTGTGAGCGTTTGCTGTGTGAGCCCAGGCTTTCCACAGGACGAAGATTCTCTCACCAGAGTGTGAGCATTTGCAGTGTGAGCCCAGGCTCTCTACAGGACGAAGATTCTCTTACCAGCATGTGAACATTTGCAGTGTGAGCCCAGGCTCTCTACAGGACGAAGATTCTCTCACCAGAGTGTGAGCATTTGCTAGTGTGAGCCCAGGCTCTCTACAGGACGAAGATTCTCTTACCAGCATGTGAGCATTTGCAGTGTGAGCCCAGGCTCTCCACAGGACAAAGATTCTCTTTTCACCCTCACGTCAACCTCACGTCAAGATGGGAGATAAAGAATAGCAAAATAGGGCTGGGTGTAAGCTCTGGATAGCTTCTTCGGGTATCCAGGGATAGATGCTGTGATTACTCCTATTTTATAGATGAAGAAACAGATGAAAGGAGCCCACGTCCCATGCACGATACTGGCAAGCTAGGATTCAAACACAGTGGGGCTCCAGCACCTTCCCTTTCAGTCCCCACATTAGCCTCTGGCTGAGGTGTGGGGAAAAGCTCACAGATCAGACTGGGGGGACCTGAGTTCCAGCCCCAGCTCCTCGCGGGCTGCCTGTGTGACCTGAGAGCCCCGAGGCTCCATCTGTGAAATGCAGAGGGGGTGGCAGACAGCTCGTCACGAGGAGTGAATGAGATCCTGCAGATGAAGGTATTTGGTATACTGAAGAGCTCTGAGAATGATGAAAATGATGTGCAAGTCTCTTCCAGGACTTTTTGTGTGCCTTTCGTAGTGTAATACAGACCCCGGCACATGGGTGTTCACACTTAGGGTATGACCAGCCTCACAGCTAAGTTGCTTAGCATATGGTACCAGCGAACCCAAGTTTGTAAACCAGAACTTCCCATTGCTTTCTTGATTGTCAAGTTTGACCCTGGCCAGCATCCTCTGATACACTGAAAATACACTCTGTGTGTCCAGAAGCAGCTGAGCTTTTGTCTCAGGCCAACCTCACATTCAACCCACTATCCTCCGTCTTGTTCCTCCACGAGGAAAGGGACGTGAATGCCTATAGGCCATCAGAGATGCAGGTGAAACAAACCTCAGTGCATCATTGCACGGGGCCAGATGGGGGGGCCGGTGTTTCCCTGCGGAATCCGGAGGACAGCTGTGCCAGCCACGTGTCCAGGCCCAGGATCCACAATAGGAAAGGGGTTGCTGATGCATTTCAAACTATCTCTAAAGTTGTGAGTGTATATGGCAAAATCCCATCCTACCAAGCCTTCTTGCTATATACATTTGAGTAGAAAATGACATGAGCCAGAAGCTCCAAAGCCTGAGATCCAGAGCATAAACTCCTGCTGTCATGTTGAGGCTGGGGCAGTCCAGTCGCAAGCAGTGCTCCAAAGGAATGCAGTAGGCTGTTCTCATCTTGCCGTAAAGAAATACCCGAGGCTGGGTAATTTCTAAGGAGAAAGGTTTATTTTTGGCTCACAGTTCCACAGGCTGTACGGGAAGCATGGTGCCGGCATCTGCTTCTGGTGAGGCCTCAGGAAGCTTATAATCAAGATGGAAGGTGAAGGGGGAGCAGGTGTGTTACATGGCAACAGAGGGTGCAAGAGAGAGAGAAGGGGGAGGTCCCAGACTCTTTGAAATAGCTGGATCTCATGTGAACTAATAGAGCGAGAACTCACTCATCAACAGGGGATGGCTCTAAGCCATTCAGGAGGGATCTTCCCCCAGGATCCAGCCACCTCCCGCCAGGCCCCCCCTCCAACACTGGGAATCACATTTCAACCTGAGCTTTGGAGGGTATGAACATCCAAACCATATTGGGCTCTATCGTTTTTGAGATTTTACTCACTGGGCGACAACGTAGAGCACCCACCGCTGGGCTGATATGATTTGTTCCCGTTTCCTGGGCAACCAGGTGCGCAGGGCCACGAGATGAGCCTCTTGTGACAACTAAGCCACCTTGATGATGGCTTTAACTCGGGGCCTGGAAGTCAGACTCCCATGCTTTGAGGATATTTTTTGTGGTGGTGTCATTTGTTATGAGGGTTATTCTTTTTTCTCTTGGTACTTCCCAGCCTCATTACTTCTCTGTGCCAAACTGTGCCAGGAAATCACTGACTTTATCATCATGATCATCATCATCATCACCATCACTCAAACTTTGGTAGTGCAGTGCAGTGCCTGCTAGCGCCAAGCTCTAGACTCGGTTCTTTATATATACTCAGTCATCGCATGTTCATGGCAGTCTCATGGGACCAGCACTACAAATGTGTCTAAGGAGGTTTCCTCGAAATCTCCTTTGTCACAGTGGCCTGGAGCATGCAGAAGCAGGTAACAGAAATACCAGCAGCCACTCCTGACTCATCACTGATAGTGGAACTGGTAAGGGACAAACTTGTAAATGAGCAAAGTTAGATTTCTGGGCCTCCTCACCACCTCCCCACTTAGTGCTGTGTCCCCACCCCACAGGTACCCGGTACCTTTGTGCTCTCCAAGAATGCCCCATACTGCCACTTTCCACCCCCATCCTCCTGCCTGTACCTTGTTGCAAATCCCCAACGCCCTGGGCCTCAGTTGACTCTGTACCTACCCCAAAAGGCATCTTTCCTGCAGGTGCTCCTTCCCACGAAGCCCTGTGGTAAGGTCATGTGCTGTCTTCGGTCAAATCAAAACTCCAGTATCTGATAAGAGTCTAAAGATATATGAGAGTTCCCACTATTCCCAACCTTGTCAATATTTGTATTGTTTGATTTTTAAAGTTTTTGGCCATTAGGTGAATATTTAATGGTATGTCATTGTAATTTTAATTTGCAATTTTCCTGATGACTGCTAAGGTTGAGTATCTTTTCATGTTTATTATTCTCTGTATAGTTCTTGTTCATGTCTTTTGCCTGCTTTTCTGTACAGTTGCTTAGCTTTTTGTTAATTGATTCATAGGAATTCTTTGTAAACTCTGGATACCTTCTGCAGGCACCACTCATTGAGACCCCACTGACCAGGAACGATCTTTCAGTCATTTAAGTGACTCTGTGTGGAGTTGTCTCTGGGTTCTCTAGCCCTGCGCTGTTACCACAGTCTTAATAACATTGCCCTTTGCTAATTTTCTTTACGGCATGTTCATTTGCCATTTATTAATTTCTGTTG\n"
     ]
    }
   ],
   "source": [
    "# Show the reverse complement of the sequence\n",
    "print str(sv.flip().sequence)"
   ]
  },
  {
   "cell_type": "code",
   "execution_count": 10,
   "metadata": {
    "collapsed": false,
    "scrolled": true
   },
   "outputs": [
    {
     "name": "stdout",
     "output_type": "stream",
     "text": [
      "                                .\n",
      "                                .\n",
      "                                .\n",
      "           1:245822860      44 T│ \n",
      "           1:245822861      45 A│ \n",
      "           1:245822862      45 C│ \n",
      "                             1  ├───╮  44\n",
      "           1:245822863       0 C│   │T 44\n",
      "                             0  ├───╯  44\n",
      "           1:245822864      44 G│ \n",
      "           1:245822865      44 G│ \n",
      "           1:245822866      43 G│ \n",
      "                                .\n",
      "                                .\n",
      "                                .\n",
      "           1:245823566      31 G│ \n",
      "           1:245823567      31 T│ \n",
      "           1:245823568      31 C│ \n",
      "                             0  ├───╮  31  CTGAGGATCTAAGTACAGGG...[3865]\n",
      "                                │   ╰──────────────────────────┄ 1:245823631 ╮\n",
      "           1:245823569       0 G│ \n",
      "           1:245823570       0 T│ \n",
      "           1:245823571       0 G│ \n",
      "                                .\n",
      "                                .\n",
      "                                .\n",
      "           1:245823627       0 G│ \n",
      "           1:245823628       0 T│ \n",
      "           1:245823629       0 T│ \n",
      "           1:245823630       0 C│ \n",
      "                                │   ╭──────────────────────────┄ 1:245823568 ╯\n",
      "                             1  ├───╯  29  CTGAGGATCTAAGTACAGGG...[3865]\n",
      "           1:245823631      30 T│ \n",
      "           1:245823632      30 T│ \n",
      "                                .\n",
      "                                .\n",
      "                                .\n",
      "           1:245824138      37 G│ \n",
      "           1:245824139      37 A│ \n",
      "           1:245824140      37 C│ \n",
      "                             0  ├───╮  37\n",
      "           1:245824141       0 G│   │A 37\n",
      "                             0  ├───╯  36\n",
      "           1:245824142      36 G│ \n",
      "           1:245824143      37 G│ \n",
      "           1:245824144      37 G│ \n",
      "                                .\n",
      "                                .\n",
      "                                .\n",
      "           1:245824425      31 A│ \n",
      "           1:245824426      31 T│ \n",
      "           1:245824427      30 T│ \n",
      "                             0  ├───╮  30\n",
      "           1:245824428       0 A│   │G 31\n",
      "                             1  ├───╯  31\n",
      "           1:245824429      32 T│ \n",
      "           1:245824430      32 T│ \n",
      "           1:245824431      32 T│ \n",
      "                                .\n",
      "                                .\n",
      "                                .\n"
     ]
    }
   ],
   "source": [
    "# ELIMINATE THIS CODE\n",
    "\n",
    "# Now let's examine an insertion in NA12878 (Mother) validated by Evan Eichler of U of W\n",
    "grch37_coords = find_variants(bg, grch37, \"8\", 88268339, 88269142)\n",
    "\n",
    "# This is a 2.457 Kbase insertion in place of a 63 bp deleteion in grch37_coords:\n",
    "visualize(v.variants, v.coverage, v.ref_range)"
   ]
  },
  {
   "cell_type": "code",
   "execution_count": 16,
   "metadata": {
    "collapsed": false
   },
   "outputs": [
    {
     "name": "stdout",
     "output_type": "stream",
     "text": [
      "                                .\n",
      "                                .\n",
      "                                .\n",
      "           8:88268934       39 T│ \n",
      "           8:88268935       40 T│ \n",
      "           8:88268936       41 G│ \n",
      "                            25  ├───╮  16  CTAGTGCCATAAATATTTAA...[2457]\n",
      "                                │   ╰──────────────────────────┄ 8:88269000 ╮\n",
      "           8:88268937       24 G│ \n",
      "           8:88268938       25 G│ \n",
      "           8:88268939       25 A│ \n",
      "                                .\n",
      "                                .\n",
      "                                .\n",
      "           8:88268996       22 T│ \n",
      "           8:88268997       21 T│ \n",
      "           8:88268998       20 T│ \n",
      "           8:88268999       20 C│ \n",
      "                                │   ╭──────────────────────────┄ 8:88268936 ╯\n",
      "                            20  ├───╯  15  CTAGTGCCATAAATATTTAA...[2457]\n",
      "           8:88269000       35 C│ \n",
      "           8:88269001       36 C│ \n",
      "                                .\n",
      "                                .\n",
      "                                .\n"
     ]
    }
   ],
   "source": [
    "# Now let's look at the Maternal Grandfather, MGFather\n",
    "# Import the graph genome\n",
    "bg = new_graph(\"/mnt/NA12891_S1.gbwt\")\n",
    "\n",
    "# Visualizing MGFather the insertion has identical location and sequence, but it is heterozygous\n",
    "for v in grch37_coords:\n",
    "    visualize(v.variants, v.coverage, v.ref_range)"
   ]
  },
  {
   "cell_type": "code",
   "execution_count": 12,
   "metadata": {
    "collapsed": false
   },
   "outputs": [
    {
     "name": "stdout",
     "output_type": "stream",
     "text": [
      "                                .\n",
      "                                .\n",
      "                                .\n",
      "           8:88268934       38 T│ \n",
      "           8:88268935       39 T│ \n",
      "           8:88268936       38 G│ \n",
      "                            17  ├───╮  21  CTAGTGCCATAAATATTTAA...[2457]\n",
      "                                │   ╰──────────────────────────┄ 8:88269000 ╮\n",
      "           8:88268937       17 G│ \n",
      "           8:88268938       17 G│ \n",
      "           8:88268939       17 A│ \n",
      "                                .\n",
      "                                .\n",
      "                                .\n",
      "           8:88268996       19 T│ \n",
      "           8:88268997       20 T│ \n",
      "           8:88268998       19 T│ \n",
      "           8:88268999       19 C│ \n",
      "                                │   ╭──────────────────────────┄ 8:88268936 ╯\n",
      "                            19  ├───╯  36  CTAGTGCCATAAATATTTAA...[2457]\n",
      "           8:88269000       55 C│ \n",
      "           8:88269001       55 C│ \n",
      "                                .\n",
      "                                .\n",
      "                                .\n"
     ]
    }
   ],
   "source": [
    "# Import the graph genome of the MGMother\n",
    "bg = new_graph(\"/mnt/NA12892_S1.gbwt\")\n",
    "\n",
    "# Insertion in NA12892 (MGMother) validated by Eichler\n",
    "grch37_coords = find_variants(bg, grch37, \"8\", 88268339, 88269142)\n",
    "\n",
    "# Visualizing MGMother: the insertion has identical location and sequence, and is heterozygous\n",
    "for v in grch37_coords:\n",
    "    visualize(v.variants, v.coverage, v.ref_range)"
   ]
  },
  {
   "cell_type": "markdown",
   "metadata": {},
   "source": [
    "##Demonstration 2 of Real-Time Assembly and Visualization of A Structural Variant  -- a deletion in NA12878 and how it was inherited (validated by Evan Eichler at U of W) "
   ]
  },
  {
   "cell_type": "code",
   "execution_count": 14,
   "metadata": {
    "collapsed": false
   },
   "outputs": [
    {
     "name": "stdout",
     "output_type": "stream",
     "text": [
      "                                .\n",
      "                                .\n",
      "                                .\n",
      "           5:12811015       45 A│ \n",
      "           5:12811016       45 A│ \n",
      "           5:12811017       45 A│ \n",
      "                            23  ├───╮  22  \n",
      "                                │   ╰──────┄ 5:12820524 ╮\n",
      "           5:12811018       23 T│ \n",
      "           5:12811019       23 G│ \n",
      "           5:12811020       22 A│ \n",
      "                                .\n",
      "                                .\n",
      "                                .\n",
      "           5:12814976       20 G│ \n",
      "           5:12814977       19 T│ \n",
      "           5:12814978       20 A│ \n",
      "                             0  ├───╮  20\n",
      "           5:12814979        0 G│   │C 20\n",
      "                             0  ├───╯  20\n",
      "           5:12814980       20 T│ \n",
      "           5:12814981       20 C│ \n",
      "           5:12814982       21 A│ \n",
      "                                .\n",
      "                                .\n",
      "                                .\n",
      "           5:12819195       22 T│ \n",
      "           5:12819196       22 T│ \n",
      "           5:12819197       22 G│ \n",
      "                             0  ├───╮  22\n",
      "           5:12819198        0 C│   │T 22\n",
      "                             0  ├───╯  22\n",
      "           5:12819199       22 A│ \n",
      "           5:12819200       23 T│ \n",
      "           5:12819201       22 T│ \n",
      "                                .\n",
      "                                .\n",
      "                                .\n",
      "           5:12820520       18 T│ \n",
      "           5:12820521       19 T│ \n",
      "           5:12820522       19 T│ \n",
      "           5:12820523       18 T│ \n",
      "                                │   ╭──────┄ 5:12811017 ╯\n",
      "                            18  ├───╯  22  \n",
      "           5:12820524       40 T│ \n",
      "           5:12820525       41 G│ \n",
      "                                .\n",
      "                                .\n",
      "                                .\n",
      "           5:12820532       42 T│ \n",
      "           5:12820533       42 A│ \n",
      "           5:12820534       41 G│ \n",
      "                            20  ├───╮  21\n",
      "           5:12820535       20 T│   │G 20\n",
      "                            20  ├───╯  19\n",
      "           5:12820536       39 A│ \n",
      "           5:12820537       39 G│ \n",
      "           5:12820538       38 A│ \n",
      "                                .\n",
      "                                .\n",
      "                                .\n"
     ]
    }
   ],
   "source": [
    "# Import the graph genome of the mother\n",
    "bg = new_graph(\"/mnt/NA12878_S1.gbwt\")\n",
    "\n",
    "# Deletion in NA12878 (mother) validated by Eichler\n",
    "grch37_coords = find_variants(bg, grch37, \"5\", 12810916, 12820623)\n",
    "\n",
    "# Let's see it -- there is about a 9.5 Kbase deletion in one strand, and two SNPs in the other\n",
    "for v in grch37_coords:\n",
    "    visualize(v.variants, v.coverage, v.ref_range)"
   ]
  },
  {
   "cell_type": "code",
   "execution_count": 15,
   "metadata": {
    "collapsed": false
   },
   "outputs": [
    {
     "name": "stdout",
     "output_type": "stream",
     "text": [
      "                                .\n",
      "                                .\n",
      "                                .\n",
      "           5:12811015       31 A│ \n",
      "           5:12811016       31 A│ \n",
      "           5:12811017       31 A│ \n",
      "                             0  ├───╮  31  \n",
      "                                │   ╰──────┄ 5:12820524 ╮\n",
      "           5:12811018        0 T│ \n",
      "           5:12811019        0 G│ \n",
      "           5:12811020        0 A│ \n",
      "                                .\n",
      "                                .\n",
      "                                .\n",
      "           5:12820520        0 T│ \n",
      "           5:12820521        0 T│ \n",
      "           5:12820522        0 T│ \n",
      "           5:12820523        0 T│ \n",
      "                                │   ╭──────┄ 5:12811017 ╯\n",
      "                             0  ├───╯  31  \n",
      "           5:12820524       31 T│ \n",
      "           5:12820525       31 G│ \n",
      "                                .\n",
      "                                .\n",
      "                                .\n",
      "           5:12820532       28 T│ \n",
      "           5:12820533       27 A│ \n",
      "           5:12820534       27 G│ \n",
      "                             0  ├───╮  27\n",
      "           5:12820535        0 T│   │G 27\n",
      "                             0  ├───╯  27\n",
      "           5:12820536       27 A│ \n",
      "           5:12820537       27 G│ \n",
      "           5:12820538       27 A│ \n",
      "                                .\n",
      "                                .\n",
      "                                .\n"
     ]
    }
   ],
   "source": [
    "# Import the graph genome of the gfather\n",
    "bg = new_graph(\"/mnt/NA12891_S1.gbwt\")\n",
    "\n",
    "# Deletion in NA12891 (gfather) validated by Eichler\n",
    "grch37_coords = find_variants(bg, grch37, \"5\", 12810916, 12820623)\n",
    "\n",
    "# Let's see it -- in the gfather the deletion has identical location and sequence, but it is homozygous\n",
    "for v in grch37_coords:\n",
    "    visualize(v.variants, v.coverage, v.ref_range)"
   ]
  },
  {
   "cell_type": "code",
   "execution_count": 16,
   "metadata": {
    "collapsed": false
   },
   "outputs": [
    {
     "name": "stdout",
     "output_type": "stream",
     "text": [
      "CTTTGGGAGGCCGAGGTGGGTGGGTCACCTGAGGTCAGAAGTTTGAGACCTGTCTGGCCAATATGGTGAAACCCCATCTCTCCTAAATATACATTTAACTCAAAAAAAGTTAAAATTATAGTCAAACACTAACACTACCCTGTAGAATATAATTAATTACTGAAATAAGCACTATGAAAACATTGTCCCTT\n"
     ]
    }
   ],
   "source": [
    "print v.variants[1].assembly_sequence"
   ]
  },
  {
   "cell_type": "code",
   "execution_count": 20,
   "metadata": {
    "collapsed": false,
    "scrolled": true
   },
   "outputs": [
    {
     "name": "stdout",
     "output_type": "stream",
     "text": [
      "                                .\n",
      "                                .\n",
      "                                .\n",
      "           5:12814976       41 G│ \n",
      "           5:12814977       41 T│ \n",
      "           5:12814978       41 A│ \n",
      "                             1  ├───╮  40\n",
      "           5:12814979        0 G│   │C 40\n",
      "                             1  ├───╯  40\n",
      "           5:12814980       41 T│ \n",
      "           5:12814981       42 C│ \n",
      "           5:12814982       42 A│ \n",
      "                                .\n",
      "                                .\n",
      "                                .\n",
      "           5:12819195       34 T│ \n",
      "           5:12819196       34 T│ \n",
      "           5:12819197       34 G│ \n",
      "                             0  ├───╮  34\n",
      "           5:12819198        0 C│   │T 35\n",
      "                             1  ├───╯  35\n",
      "           5:12819199       36 A│ \n",
      "           5:12819200       35 T│ \n",
      "           5:12819201       35 T│ \n",
      "                                .\n",
      "                                .\n",
      "                                .\n"
     ]
    }
   ],
   "source": [
    "# Import the graph genome of the gmother\n",
    "bg = new_graph(\"/mnt/NA12892_S1.gbwt\")\n",
    "\n",
    "# SNPs in NA12892 (gmother) validated by Eichler\n",
    "grch37_coords = find_variants(bg, grch37, \"5\", 12810916, 12820623)\n",
    "\n",
    "# Let's see it -- the gmother is homozygous in the SNPs\n",
    "for v in grch37_coords:\n",
    "    visualize(v.variants, v.coverage, v.ref_range)"
   ]
  },
  {
   "cell_type": "markdown",
   "metadata": {},
   "source": [
    "<img src=\"Demo1Slide7.jpg\">"
   ]
  },
  {
   "cell_type": "markdown",
   "metadata": {},
   "source": [
    "##Demonstration of Querying for a sequence in an individual -- is the insertion or deletion found in NA12878 found in one of our Qatari samples, and where does it occur? This is like the search for an SNP below."
   ]
  },
  {
   "cell_type": "code",
   "execution_count": null,
   "metadata": {
    "collapsed": true
   },
   "outputs": [],
   "source": [
    "\"\"\"\n",
    "    Search a population for a set of SNPs.\n",
    "\"\"\"\n",
    "import libspiral\n",
    "from biograph import *\n",
    "import glob\n",
    "\n",
    "# Load the cohort biograph, two references, and all the sample ID's\n",
    "bg = new_graph(\"/mnt/cohort_125.gbwt\")\n",
    "\n",
    "ref37 = reference(\"/reference/human_g1k_v37\")\n",
    "ref38 = reference(\"/reference/homo_sapiens_GCA_000001405.19_GRCh38.p4\")\n",
    "\n",
    "# The biograph files are named for the sample they contain\n",
    "sample_names = [('.'.join(x.split('/')[2].split('.')[:-1])) for x in glob.glob(\"/mnt/*.bitmap\")]\n",
    "samples = {}\n",
    "for sn in sample_names:\n",
    "    samples[sn] = bg.load_readset(\"/mnt/\" + sn + \".bitmap\")\n",
    "    \n",
    "# Load SNPs and put into lists\n",
    "with open(\"drug_response_snps\", \"rb\") as f:\n",
    "    data = f.read()\n",
    "snps = [x.split('\\t') for x in data.split('\\n')[:-1]]\n",
    "\n",
    "# Define a function to compute coverage snp for a sample\n",
    "def coverage(bg, ref, readset, snp, base, rlen = 100):\n",
    "    seq = ref.make_range(snp[0], int(snp[2])-rlen, int(snp[2])+rlen+1, True).sequence\n",
    "    seq[rlen] = base\n",
    "    return bg.seq_coverage(seq, readset)[rlen]\n",
    "\n",
    "# Single individual, single allele coverage\n",
    "coverage(bg, ref38, samples['NA12878_S1'], snps[0], 'C')"
   ]
  },
  {
   "cell_type": "markdown",
   "metadata": {},
   "source": [
    "##Demonstration of determining what reads provide evidence for a variant. Take the genome and variant above and show the coverage rising and falling around the anchors. This is like the example below."
   ]
  },
  {
   "cell_type": "code",
   "execution_count": null,
   "metadata": {
    "collapsed": true
   },
   "outputs": [],
   "source": [
    "\"\"\"\n",
    "    Simple SV lookups and assembly coverage reporting with BioGraph\n",
    "\"\"\"\n",
    "import libspiral\n",
    "from biograph import *\n",
    "\n",
    "# Import a reference\n",
    "ref37 = reference(\"/reference/human_g1k_v37\")\n",
    "\n",
    "# Load 125 individuals\n",
    "bg = new_graph(\"/mnt/cohort_125.gbwt\")\n",
    "\n",
    "# Choose between individuals in a merged BioGraph using readsets\n",
    "na12877 = bg.load_readset(\"/mnt/NA12877_S1.bitmap\") \n",
    "na12878 = bg.load_readset(\"/mnt/NA12878_S1.bitmap\") \n",
    "na12879 = bg.load_readset(\"/mnt/NA12879_S1.bitmap\") \n",
    "na12880 = bg.load_readset(\"/mnt/NA12880_S1.bitmap\") \n",
    "\n",
    "# Coverage is a list of numbers representing the depth of coverage\n",
    "# for each base in the sequence\n",
    "bg.seq_coverage(v.assembly_sequence, na12879)[10:30]"
   ]
  },
  {
   "cell_type": "code",
   "execution_count": null,
   "metadata": {
    "collapsed": true
   },
   "outputs": [],
   "source": [
    "# Let's plot the coverage for each individual\n",
    "\n",
    "%matplotlib inline\n",
    "import numpy as np\n",
    "import matplotlib.mlab as mlab\n",
    "import matplotlib.pyplot as plt\n",
    "\n",
    "plt.figure()\n",
    "\n",
    "fig, ax = plt.subplots(figsize=(14,5))\n",
    "\n",
    "line1 = plt.plot(coverage77, color='orange', linewidth=2)\n",
    "line2 = plt.plot(coverage78, color='lightgreen', linewidth=2)\n",
    "line3 = plt.plot(coverage79, color='darkgray', linewidth=2)\n",
    "line4 = plt.plot(coverage80, color='lightblue', linewidth=2)\n",
    "\n",
    "plt.xlabel('Position')\n",
    "plt.ylabel('Coverage')\n",
    "plt.title('Read coverage of variant assembly by position'\n",
    ")\n",
    "plt.grid(True)\n",
    "\n",
    "ax.legend((line1[0], line2[0], line3[0], line4[0]), \n",
    "          ('NA12877', 'NA12878', 'NA12879', 'NA12880'))\n",
    "\n",
    "plt.show()"
   ]
  },
  {
   "cell_type": "markdown",
   "metadata": {},
   "source": [
    "##Demonstration of Querying for a sequence in a set of genomes -- In our entire cohort, which genomes have the insertion/deletion? At what position relative to reference 37 does it occur? "
   ]
  },
  {
   "cell_type": "code",
   "execution_count": null,
   "metadata": {
    "collapsed": true
   },
   "outputs": [],
   "source": [
    "# Now, for a single SNP, let's examine the allele breakdown for all individuals in the cohort\n",
    "snp = snps[0]\n",
    "for name, sample in samples.iteritems():\n",
    "    if name[0].islower():\n",
    "        continue # Skip references\n",
    "    out = \"%12s: \" % (name,)\n",
    "    for allele in snp[4].split('/'):\n",
    "        out += \"%s=%2d \" % (\n",
    "            allele, \n",
    "            coverage(bg, ref38, sample, snp, allele)\n",
    "        )\n",
    "    print out"
   ]
  },
  {
   "cell_type": "markdown",
   "metadata": {},
   "source": [
    "##Demonstration of Querying for a sequence in a set of genomes -- Given a table of SNP's and SV's. In our entire cohort, which genomes have variants? At what position relative to reference 37 does each variant occur? How large is it? See the examples above."
   ]
  },
  {
   "cell_type": "markdown",
   "metadata": {},
   "source": [
    "##Demonstration of Querying for a sequence in a set of genomes -- In a specified region, for the entire cohort, what  variations occur with what frequencies?   (Result is a histogram)"
   ]
  },
  {
   "cell_type": "markdown",
   "metadata": {},
   "source": [
    "##Demonstrate that we can change the reference genome. Demonstrate that an SV based on human reference 37 in one of the genome samples is not an SV in human reference 38 (because the SV is included in the reference)."
   ]
  },
  {
   "cell_type": "markdown",
   "metadata": {},
   "source": [
    "<img src=\"Demo1Slide8.jpg\">"
   ]
  },
  {
   "cell_type": "markdown",
   "metadata": {},
   "source": [
    "<img src=\"Demo1Slide9.jpg\">"
   ]
  },
  {
   "cell_type": "markdown",
   "metadata": {},
   "source": [
    "<img src=\"Demo1Slide10.jpg\">"
   ]
  },
  {
   "cell_type": "markdown",
   "metadata": {},
   "source": [
    "<img src=\"Demo1Slide11.jpg\">"
   ]
  },
  {
   "cell_type": "markdown",
   "metadata": {},
   "source": [
    "<img src=\"Demo1Slide12.jpg\">"
   ]
  },
  {
   "cell_type": "markdown",
   "metadata": {},
   "source": [
    "<img src=\"Demo1Slide13.jpg\">"
   ]
  },
  {
   "cell_type": "markdown",
   "metadata": {},
   "source": [
    "<img src=\"Demo1Slide14.jpg\">"
   ]
  },
  {
   "cell_type": "markdown",
   "metadata": {},
   "source": [
    "<img src=\"Demo1Slide15.jpg\">"
   ]
  },
  {
   "cell_type": "markdown",
   "metadata": {},
   "source": [
    "<img src=\"Demo1Slide16.jpg\">"
   ]
  }
 ],
 "metadata": {
  "celltoolbar": "Raw Cell Format",
  "kernelspec": {
   "display_name": "Python 2",
   "language": "python",
   "name": "python2"
  },
  "language_info": {
   "codemirror_mode": {
    "name": "ipython",
    "version": 2
   },
   "file_extension": ".py",
   "mimetype": "text/x-python",
   "name": "python",
   "nbconvert_exporter": "python",
   "pygments_lexer": "ipython2",
   "version": "2.7.6"
  }
 },
 "nbformat": 4,
 "nbformat_minor": 0
}
