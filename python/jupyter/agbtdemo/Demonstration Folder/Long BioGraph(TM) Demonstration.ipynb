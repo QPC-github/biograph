{
 "cells": [
  {
   "cell_type": "markdown",
   "metadata": {},
   "source": [
    "<img src=\"Demo1Slide1.JPG\">"
   ]
  },
  {
   "cell_type": "markdown",
   "metadata": {},
   "source": [
    "<img src=\"Demo1Slide2.JPG\">"
   ]
  },
  {
   "cell_type": "markdown",
   "metadata": {},
   "source": [
    "<img src=\"Demo1Slide3.JPG\">"
   ]
  },
  {
   "cell_type": "markdown",
   "metadata": {},
   "source": [
    "<img src=\"Demo1Slide4.JPG\">"
   ]
  },
  {
   "cell_type": "markdown",
   "metadata": {
    "collapsed": false
   },
   "source": [
    "<img src=\"Demo1Slide5.JPG\">"
   ]
  },
  {
   "cell_type": "markdown",
   "metadata": {},
   "source": [
    "<img src=\"Demo1Slide6.JPG\">"
   ]
  },
  {
   "cell_type": "markdown",
   "metadata": {},
   "source": [
    "<img src=\"Demo1Insert2.JPG\">"
   ]
  },
  {
   "cell_type": "markdown",
   "metadata": {},
   "source": [
    "<img src=\"Demo1Slide7.JPG\">"
   ]
  },
  {
   "cell_type": "markdown",
   "metadata": {},
   "source": [
    "## Here is an excerpt from the demonstration file directory. "
   ]
  },
  {
   "cell_type": "markdown",
   "metadata": {
    "collapsed": false
   },
   "source": [
    "<img src=\"Demo1Insert3.JPG\">"
   ]
  },
  {
   "cell_type": "markdown",
   "metadata": {},
   "source": [
    "cohort_125.seqset includes all of the sequence data from 17 \"platinum\" genomes taken from the CEPH/Utah family and 108 publicly available genomes of Qataris from the Sequence Read Archive (SRA). \n",
    "\n",
    "In the form of BAM files this would require around 13 terabytes of storage, but as a \n",
    "\"Biograph Database\" it only requires about 0.3 TB of storage. The \".seqset\" file which holds the \"merged graph\" for 125 genomes requires 114GB of storage. The \".readset\" file which holds the individual index for each genome requires about 2GB per genome.\n",
    "**Biograph databases reduce genome storage requirements by a factor of over 30!**  \n",
    "The precise level of storage compression possible depends on the number of genomes stored together in \n",
    "one database and their heterogeneity. This extremely high level of compression is possible because the \n",
    "database uses a \"merged graph structure,\" conceptually illustrated in Slides 6 and 7. \n",
    "\n",
    "The merged graph contains every sequence that occurs in at least one of the merged genomes. When a genome is added to a merged graph, all that needs to be recorded are the new, unique sequences it contains. Each individual genome can then be reconstructed from an \"individual index\" that enumerates the exact series of sequences from the merged graph that makes up the individual. \n",
    "\n",
    "The very high level of compression is possible because there is enormous redundancy in a group of human genomes. The sequence information in an isolated human genome is almost as unpredictable as a random sequence of A's, T's, C's, and G's, and, therefore, does not lend itself to high lossless compression. However, the sequence information in multiple human genomes is 99.9% redundant, permitting much higher compression. The larger the set of genomes combined in a graph, the higher the compression, since only a limited number (estimated between 20 and 40 million) \n",
    "of de novo or inherited variations exist in the entire human population.\n",
    "\n",
    "Very high speed query is enabled by the compact search structure, which enables it to be fully loaded into high speed RAM memory."
   ]
  },
  {
   "cell_type": "markdown",
   "metadata": {},
   "source": [
    "## Demonstration of BioGraph query speed"
   ]
  },
  {
   "cell_type": "code",
   "execution_count": 8,
   "metadata": {
    "collapsed": false,
    "scrolled": false
   },
   "outputs": [
    {
     "ename": "KeyboardInterrupt",
     "evalue": "",
     "output_type": "error",
     "traceback": [
      "\u001b[1;31m---------------------------------------------------------------------------\u001b[0m",
      "\u001b[1;31mKeyboardInterrupt\u001b[0m                         Traceback (most recent call last)",
      "\u001b[1;32m<ipython-input-8-671286bb01f9>\u001b[0m in \u001b[0;36m<module>\u001b[1;34m()\u001b[0m\n\u001b[0;32m      3\u001b[0m \u001b[1;33m\u001b[0m\u001b[0m\n\u001b[0;32m      4\u001b[0m \u001b[0mmax_results\u001b[0m \u001b[1;33m=\u001b[0m \u001b[1;36m20\u001b[0m\u001b[1;33m\u001b[0m\u001b[0m\n\u001b[1;32m----> 5\u001b[1;33m \u001b[0msample\u001b[0m \u001b[1;33m=\u001b[0m \u001b[0mraw_input\u001b[0m\u001b[1;33m(\u001b[0m\u001b[1;34m'Which graph? '\u001b[0m\u001b[1;33m)\u001b[0m\u001b[1;33m\u001b[0m\u001b[0m\n\u001b[0m\u001b[0;32m      6\u001b[0m \u001b[1;33m\u001b[0m\u001b[0m\n\u001b[0;32m      7\u001b[0m \u001b[0mmy_graph\u001b[0m \u001b[1;33m=\u001b[0m \u001b[0mseqset\u001b[0m\u001b[1;33m(\u001b[0m\u001b[1;34m'/mnt/{0}.gbwt'\u001b[0m\u001b[1;33m.\u001b[0m\u001b[0mformat\u001b[0m\u001b[1;33m(\u001b[0m\u001b[0msample\u001b[0m\u001b[1;33m)\u001b[0m\u001b[1;33m)\u001b[0m\u001b[1;33m\u001b[0m\u001b[0m\n",
      "\u001b[1;32m/usr/local/lib/python2.7/dist-packages/ipykernel/kernelbase.pyc\u001b[0m in \u001b[0;36mraw_input\u001b[1;34m(self, prompt)\u001b[0m\n\u001b[0;32m    675\u001b[0m             \u001b[0mself\u001b[0m\u001b[1;33m.\u001b[0m\u001b[0m_parent_ident\u001b[0m\u001b[1;33m,\u001b[0m\u001b[1;33m\u001b[0m\u001b[0m\n\u001b[0;32m    676\u001b[0m             \u001b[0mself\u001b[0m\u001b[1;33m.\u001b[0m\u001b[0m_parent_header\u001b[0m\u001b[1;33m,\u001b[0m\u001b[1;33m\u001b[0m\u001b[0m\n\u001b[1;32m--> 677\u001b[1;33m             \u001b[0mpassword\u001b[0m\u001b[1;33m=\u001b[0m\u001b[0mFalse\u001b[0m\u001b[1;33m,\u001b[0m\u001b[1;33m\u001b[0m\u001b[0m\n\u001b[0m\u001b[0;32m    678\u001b[0m         )\n\u001b[0;32m    679\u001b[0m \u001b[1;33m\u001b[0m\u001b[0m\n",
      "\u001b[1;32m/usr/local/lib/python2.7/dist-packages/ipykernel/kernelbase.pyc\u001b[0m in \u001b[0;36m_input_request\u001b[1;34m(self, prompt, ident, parent, password)\u001b[0m\n\u001b[0;32m    705\u001b[0m             \u001b[1;32mexcept\u001b[0m \u001b[0mKeyboardInterrupt\u001b[0m\u001b[1;33m:\u001b[0m\u001b[1;33m\u001b[0m\u001b[0m\n\u001b[0;32m    706\u001b[0m                 \u001b[1;31m# re-raise KeyboardInterrupt, to truncate traceback\u001b[0m\u001b[1;33m\u001b[0m\u001b[1;33m\u001b[0m\u001b[0m\n\u001b[1;32m--> 707\u001b[1;33m                 \u001b[1;32mraise\u001b[0m \u001b[0mKeyboardInterrupt\u001b[0m\u001b[1;33m\u001b[0m\u001b[0m\n\u001b[0m\u001b[0;32m    708\u001b[0m             \u001b[1;32melse\u001b[0m\u001b[1;33m:\u001b[0m\u001b[1;33m\u001b[0m\u001b[0m\n\u001b[0;32m    709\u001b[0m                 \u001b[1;32mbreak\u001b[0m\u001b[1;33m\u001b[0m\u001b[0m\n",
      "\u001b[1;31mKeyboardInterrupt\u001b[0m: "
     ]
    }
   ],
   "source": [
    "from libspiral import seqset\n",
    "import time\n",
    "\n",
    "max_results = 20\n",
    "sample = raw_input('Which graph? ')\n",
    "\n",
    "my_graph = seqset('/mnt/{0}.gbwt'.format(sample))\n",
    "\n",
    "while True:\n",
    "    sequence = raw_input('What sequence? ')\n",
    "    if sequence == '':\n",
    "        break\n",
    "    new_ctx = my_graph.find(sequence)\n",
    "    if(new_ctx.valid):\n",
    "        count = new_ctx.end - new_ctx.begin\n",
    "        start = time.time()\n",
    "        print 'Found {0} entries\\n'.format(count)\n",
    "        if count > max_results:\n",
    "            print 'Showing the first {0} matches'.format(max_results)\n",
    "            count = max_results\n",
    "        for i in range(new_ctx.begin, new_ctx.begin + count):\n",
    "            print my_graph.entry(i).sequence\n",
    "        print 'Query time: {0:.5f} seconds'.format(time.time() - start)\n",
    "        print\n",
    "    else:\n",
    "        print 'No entries found.'"
   ]
  },
  {
   "cell_type": "markdown",
   "metadata": {},
   "source": [
    "## The examples that follow make much of use of the CEPH 1463 Pedigree, a Utah family of Northern European Ancestry from the Cornell Institute for Medical Research, http://bit.ly/1Kc2q9m"
   ]
  },
  {
   "cell_type": "markdown",
   "metadata": {},
   "source": [
    "<img src=\"Demo1Insert1.JPG\">"
   ]
  },
  {
   "cell_type": "markdown",
   "metadata": {},
   "source": [
    "## Demonstration 1 of Real-Time Assembly and Visualization of A Structural Variant  -- an insertion in NA12878 and how it was inherited (validated by Evan Eichler at U of W) "
   ]
  },
  {
   "cell_type": "code",
   "execution_count": null,
   "metadata": {
    "collapsed": false,
    "scrolled": false
   },
   "outputs": [],
   "source": [
    "# Import the Biograph library and API\n",
    "from biograph import new_graph, reference, find_variants, visualize\n",
    "\n",
    "# Import the graph genome of Mother\n",
    "bg = new_graph(\"/mnt/NA12878_S1.gbwt\")\n",
    "\n",
    "# Import a human reference\n",
    "grch37 = reference(\"/reference/human_g1k_v37/\")\n",
    "\n",
    "# Now let's examine an insertion in NA12878 (Mother) validated by Evan Eichler of U of W\n",
    "grch37_coords = find_variants(bg, grch37, \"8\", 88268339, 88269142)\n",
    "\n",
    "# This is a homozygous 2.457 Kbase insertion in place of a 63 bp deleteion in grch37_coords:\n",
    "for v in grch37_coords:\n",
    "    visualize(v.variants, v.coverage, v.ref_range)"
   ]
  },
  {
   "cell_type": "code",
   "execution_count": null,
   "metadata": {
    "collapsed": false
   },
   "outputs": [],
   "source": [
    "# Here are examples of Python operations we can perform on it\n",
    "\n",
    "# List all of the variants in this range (there is only 1)\n",
    "grch37_coords[0].variants"
   ]
  },
  {
   "cell_type": "code",
   "execution_count": null,
   "metadata": {
    "collapsed": false,
    "scrolled": true
   },
   "outputs": [],
   "source": [
    "# Identify that the insertion is a structural variant, - -\n",
    "sv = grch37_coords[0].variants[0]  # which variant index should we use?\n",
    "print sv.is_structural, sv.left_forward, sv.right_forward"
   ]
  },
  {
   "cell_type": "code",
   "execution_count": null,
   "metadata": {
    "collapsed": false,
    "scrolled": false
   },
   "outputs": [],
   "source": [
    "# Show the reverse complement of the sequence\n",
    "print str(sv.flip().sequence)"
   ]
  },
  {
   "cell_type": "code",
   "execution_count": null,
   "metadata": {
    "collapsed": false
   },
   "outputs": [],
   "source": [
    "# Now let's look at the Maternal Grandfather, MGFather\n",
    "# Import the graph genome\n",
    "bg = new_graph(\"/mnt/NA12891_S1.gbwt\")\n",
    "\n",
    "# Visualizing MGFather the insertion has identical location and sequence and it is homozygous\n",
    "for v in grch37_coords:\n",
    "    visualize(v.variants, v.coverage, v.ref_range)"
   ]
  },
  {
   "cell_type": "code",
   "execution_count": null,
   "metadata": {
    "collapsed": false
   },
   "outputs": [],
   "source": [
    "# Import the graph genome of the MGMother\n",
    "bg = new_graph(\"/mnt/NA12892_S1.gbwt\")\n",
    "\n",
    "# Insertion in NA12892 (MGMother) validated by Eichler\n",
    "grch37_coords = find_variants(bg, grch37, \"8\", 88268339, 88269142)\n",
    "\n",
    "# Visualizing MGMother: the insertion has identical location and sequence, and is heterozygous\n",
    "for v in grch37_coords:\n",
    "    visualize(v.variants, v.coverage, v.ref_range)"
   ]
  },
  {
   "cell_type": "markdown",
   "metadata": {},
   "source": [
    "## Demonstration 2 of Real-Time Assembly and Visualization of A Structural Variant  -- a deletion in NA12878 and how it was inherited (validated by Evan Eichler at U of W) "
   ]
  },
  {
   "cell_type": "code",
   "execution_count": null,
   "metadata": {
    "collapsed": false
   },
   "outputs": [],
   "source": [
    "# Import the graph genome of Mother\n",
    "bg = new_graph(\"/mnt/NA12878_S1.gbwt\")\n",
    "\n",
    "# Deletion in NA12878 (Mother) validated by Eichler\n",
    "grch37_coords = find_variants(bg, grch37, \"5\", 12810916, 12820623)\n",
    "\n",
    "# Let's see it -- there is about a 9.5 Kbase deletion in one strand, and two SNPs in the other\n",
    "for v in grch37_coords:\n",
    "    visualize(v.variants, v.coverage, v.ref_range)"
   ]
  },
  {
   "cell_type": "code",
   "execution_count": null,
   "metadata": {
    "collapsed": false
   },
   "outputs": [],
   "source": [
    "# Here are examples of Python operations we can perform on it\n",
    "\n",
    "# List all of the variants in this range (there is only 1)\n",
    "grch37_coords[0].variants"
   ]
  },
  {
   "cell_type": "code",
   "execution_count": null,
   "metadata": {
    "collapsed": false,
    "scrolled": true
   },
   "outputs": [],
   "source": [
    "# Identify that the insertion is a structural variant, - -\n",
    "sv = grch37_coords[0].variants[1]\n",
    "print sv.is_structural, sv.left_forward, sv.right_forward"
   ]
  },
  {
   "cell_type": "code",
   "execution_count": null,
   "metadata": {
    "collapsed": false,
    "scrolled": true
   },
   "outputs": [],
   "source": [
    "# Show the reverse complement of the sequence (there is no sequence, because this is a deletion)\n",
    "print str(sv.flip().sequence)"
   ]
  },
  {
   "cell_type": "code",
   "execution_count": null,
   "metadata": {
    "collapsed": false
   },
   "outputs": [],
   "source": [
    "# Import the graph genome of the MGFather\n",
    "bg = new_graph(\"/mnt/NA12891_S1.gbwt\")\n",
    "\n",
    "# Deletion in NA12891 (gfather) validated by Eichler\n",
    "grch37_coords = find_variants(bg, grch37, \"5\", 12810916, 12820623)\n",
    "\n",
    "# Let's see it -- in the gfather the deletion has identical location and sequence, but it is homozygous\n",
    "for v in grch37_coords:\n",
    "    visualize(v.variants, v.coverage, v.ref_range)"
   ]
  },
  {
   "cell_type": "code",
   "execution_count": null,
   "metadata": {
    "collapsed": false,
    "scrolled": false
   },
   "outputs": [],
   "source": [
    "# Import the graph genome of the MGMother\n",
    "bg = new_graph(\"/mnt/NA12892_S1.gbwt\")\n",
    "\n",
    "# SNPs in NA12892 (gmother) validated by Eichler\n",
    "grch37_coords = find_variants(bg, grch37, \"5\", 12810916, 12820623)\n",
    "\n",
    "# Let's see it -- the gmother is homozygous in the SNPs\n",
    "for v in grch37_coords:\n",
    "    visualize(v.variants, v.coverage, v.ref_range)"
   ]
  },
  {
   "cell_type": "markdown",
   "metadata": {},
   "source": [
    "<img src=\"Demo1Slide8.JPG\">"
   ]
  },
  {
   "cell_type": "markdown",
   "metadata": {},
   "source": [
    "## Demonstration of Querying for a sequence in an individual -- is the insertion or deletion found in NA12878 found in one of our Qatari samples, and where does it occur? This is like the search for a SNP below."
   ]
  },
  {
   "cell_type": "code",
   "execution_count": null,
   "metadata": {
    "collapsed": false
   },
   "outputs": [],
   "source": [
    "# ROB -- HELP!\n",
    "\"\"\"\n",
    "    Search a population for a set of SNPs.\n",
    "\"\"\"\n",
    "import libspiral\n",
    "from biograph import *\n",
    "import glob\n",
    "\n",
    "# Load the cohort biograph, two references, and all the sample ID's\n",
    "bg = new_graph(\"/mnt/cohort_125.gbwt\")\n",
    "\n",
    "ref37 = reference(\"/reference/human_g1k_v37\")\n",
    "ref38 = reference(\"/reference/homo_sapiens_GCA_000001405.19_GRCh38.p4\")\n",
    "\n",
    "# The biograph files are named for the sample they contain\n",
    "sample_names = [('.'.join(x.split('/')[2].split('.')[:-1])) for x in glob.glob(\"/mnt/*.bitmap\")]\n",
    "samples = {}\n",
    "for sn in sample_names:\n",
    "    samples[sn] = bg.load_readset(\"/mnt/\" + sn + \".bitmap\")\n",
    "    \n",
    "# Load SNPs and put into lists\n",
    "with open(\"drug_response_snps\", \"rb\") as f:\n",
    "    data = f.read()\n",
    "snps = [x.split('\\t') for x in data.split('\\n')[:-1]]\n",
    "\n",
    "# Define a function to compute coverage snp for a sample\n",
    "def coverage(bg, ref, readset, snp, base, rlen = 100):\n",
    "    seq = ref.make_range(snp[0], int(snp[2])-rlen, int(snp[2])+rlen+1, True).sequence\n",
    "    seq[rlen] = base\n",
    "    return bg.seq_coverage(seq, readset)[rlen]\n",
    "\n",
    "# Single individual, single allele coverage\n",
    "coverage(bg, ref38, samples['NA12878_S1'], snps[0], 'C')"
   ]
  },
  {
   "cell_type": "markdown",
   "metadata": {},
   "source": [
    "## Demonstration of determining what reads provide evidence for a variant. Take the genome and variant above and show the coverage rising and falling around the anchors. This is like the example below."
   ]
  },
  {
   "cell_type": "code",
   "execution_count": null,
   "metadata": {
    "collapsed": false
   },
   "outputs": [],
   "source": [
    "# ROB -- HELP!\n",
    "\n",
    "\"\"\"\n",
    "    Simple SV lookups and assembly coverage reporting with BioGraph\n",
    "\"\"\"\n",
    "import libspiral\n",
    "from biograph import *\n",
    "\n",
    "# Import a reference\n",
    "ref37 = reference(\"/reference/human_g1k_v37\")\n",
    "\n",
    "# Load 125 individuals\n",
    "bg = new_graph(\"/mnt/cohort_125.gbwt\")\n",
    "\n",
    "# Choose between individuals in a merged BioGraph using readsets\n",
    "na12877 = bg.load_readset(\"/mnt/NA12877_S1.bitmap\") \n",
    "na12878 = bg.load_readset(\"/mnt/NA12878_S1.bitmap\") \n",
    "na12879 = bg.load_readset(\"/mnt/NA12879_S1.bitmap\") \n",
    "na12880 = bg.load_readset(\"/mnt/NA12880_S1.bitmap\") \n",
    "\n",
    "# Pick a region of interest\n",
    "chromosome = \"2\"\n",
    "start = 100000\n",
    "end = 200000\n",
    "\n",
    "# Find variants in the region of interest\n",
    "vars = find_variants(bg, ref37, chromosome, start, end, readset=na12878)\n",
    "\n",
    "v = vars[0].variants[11]\n",
    "\n",
    "# Compute coverage for the assembly in each individual\n",
    "coverage77 = bg.seq_coverage(v.assembly_sequence, na12877)\n",
    "coverage78 = bg.seq_coverage(v.assembly_sequence, na12878)\n",
    "coverage79 = bg.seq_coverage(v.assembly_sequence, na12879)\n",
    "coverage80 = bg.seq_coverage(v.assembly_sequence, na12880)\n",
    "\n",
    "# Coverage is a list of numbers representing the depth of coverage\n",
    "# for each base in the sequence\n",
    "bg.seq_coverage(v.assembly_sequence, na12879)[10:30]"
   ]
  },
  {
   "cell_type": "code",
   "execution_count": null,
   "metadata": {
    "collapsed": false
   },
   "outputs": [],
   "source": [
    "# Let's plot the coverage for each individual\n",
    "\n",
    "%matplotlib inline\n",
    "import numpy as np\n",
    "import matplotlib.mlab as mlab\n",
    "import matplotlib.pyplot as plt\n",
    "\n",
    "plt.figure()\n",
    "\n",
    "fig, ax = plt.subplots(figsize=(14,5))\n",
    "\n",
    "line1 = plt.plot(coverage77, color='orange', linewidth=2)\n",
    "# line2 = plt.plot(coverage78, color='lightgreen', linewidth=2)\n",
    "# line3 = plt.plot(coverage79, color='darkgray', linewidth=2)\n",
    "# line4 = plt.plot(coverage80, color='lightblue', linewidth=2)\n",
    "\n",
    "plt.xlabel('Position')\n",
    "plt.ylabel('Coverage')\n",
    "plt.title('Read coverage of variant assembly by position'\n",
    ")\n",
    "plt.grid(True)\n",
    "\n",
    "# ax.legend(line1[0], 'NA12877')\n",
    "          \n",
    "plt.show()"
   ]
  },
  {
   "cell_type": "markdown",
   "metadata": {},
   "source": [
    "## Huge EXTRA CREDIT. Analogous to the Baylor work, demonstrate using these tools to crisply identify break ends and the exact sequence of SV's sloppily identified by variant callers."
   ]
  },
  {
   "cell_type": "markdown",
   "metadata": {},
   "source": [
    "## Demonstration of Querying for a sequence in a set of genomes -- In our entire cohort, which genomes have the insertion/deletion? At what position relative to reference 37 does it occur? "
   ]
  },
  {
   "cell_type": "code",
   "execution_count": null,
   "metadata": {
    "collapsed": false
   },
   "outputs": [],
   "source": [
    "# ROB -- HELP!\n",
    "\n",
    "# Now, for a single SNP, let's examine the allele breakdown for all individuals in the cohort\n",
    "snp = snps[0]\n",
    "for name, sample in samples.iteritems():\n",
    "    if name[0].islower():\n",
    "        continue # Skip references\n",
    "    out = \"%12s: \" % (name,)\n",
    "    for allele in snp[4].split('/'):\n",
    "        out += \"%s=%2d \" % (\n",
    "            allele, \n",
    "            coverage(bg, ref38, sample, snp, allele)\n",
    "        )\n",
    "    print out"
   ]
  },
  {
   "cell_type": "markdown",
   "metadata": {},
   "source": [
    "## Demonstration of Querying for a sequence in a set of genomes -- Given a table of SNP's and SV's. In our entire cohort, which genomes have certain variants? At what position relative to reference 37 does each variant occur? How large is it? See the SV examples above. Ideally the input to this would be an SQLite table of SNPs and SVs and the output would be a table relating variants and individuals to frequencies of occurence."
   ]
  },
  {
   "cell_type": "markdown",
   "metadata": {},
   "source": [
    "## Demonstration of Querying for a sequence in a set of genomes -- In a specified region, for the entire cohort, what  variations occur with what frequencies?   (Result is a histogram) In this case, instead of looking for a specific table of SNPs or variants we're comparing the individuals to a reference."
   ]
  },
  {
   "cell_type": "markdown",
   "metadata": {},
   "source": [
    "## Huge EXTRA CREDIT. Do the above, but in addition to, or instead of a reference genome, compare the individuals to a set of healthy individuals. Related EXTRA CREDIT: Look up a variant that may be a rare de novo variant in a table of healthy or \"normal\" individual to determine if it is de novo or rare."
   ]
  },
  {
   "cell_type": "markdown",
   "metadata": {},
   "source": [
    "## Demonstrate that we can change the reference genome. Demonstrate that an SV based on human reference 37 in one of the genome samples is not an SV in human reference 38 (because the SV is included in the reference). This is like the example below."
   ]
  },
  {
   "cell_type": "code",
   "execution_count": null,
   "metadata": {
    "collapsed": false
   },
   "outputs": [],
   "source": [
    "\"\"\"\n",
    "    Switch between multiple references.\n",
    "\"\"\"\n",
    "from biograph import new_graph, reference, find_variants, visualize\n",
    "\n",
    "# Import data\n",
    "bg = new_graph(\"/mnt/NA12878_S1.gbwt\")\n",
    "\n",
    "# Import two references\n",
    "grch37 = reference(\"/reference/human_g1k_v37/\")\n",
    "grch38 = reference(\"/reference/homo_sapiens_GCA_000001405.19_GRCh38.p4/\")\n",
    "\n",
    "# Find variants for both reference coordinate systems\n",
    "grch37_coords = find_variants(bg, grch37, \"1\", 245822567, 245824567)\n",
    "\n",
    "# The equivalent locus in GRCh38\n",
    "# http://www.ncbi.nlm.nih.gov/nuccore/KI270759.1\n",
    "grch38_coords = find_variants(bg, grch38, \"KI270759.1\", 356442, 360442)\n",
    "\n",
    "# Let's see GRCh37\n",
    "for v in grch37_coords:\n",
    "    visualize(v.variants, v.coverage, v.ref_range)"
   ]
  },
  {
   "cell_type": "markdown",
   "metadata": {},
   "source": [
    "# Huge EXTRA CREDIT. Illustrate comparison of two sets of data to find alleles that are common in one and uncommon in the other, e.g. early onset Alzheimers vs. others"
   ]
  },
  {
   "cell_type": "markdown",
   "metadata": {},
   "source": [
    "<img src=\"Demo1Slide9.JPG\">"
   ]
  },
  {
   "cell_type": "markdown",
   "metadata": {},
   "source": [
    "<img src=\"Demo1Slide10.JPG\">"
   ]
  },
  {
   "cell_type": "markdown",
   "metadata": {},
   "source": [
    "<img src=\"Demo1Slide11.JPG\">"
   ]
  },
  {
   "cell_type": "markdown",
   "metadata": {},
   "source": [
    "<img src=\"Demo1Slide12.JPG\">"
   ]
  },
  {
   "cell_type": "markdown",
   "metadata": {},
   "source": [
    "<img src=\"Demo1Slide13.JPG\">"
   ]
  },
  {
   "cell_type": "markdown",
   "metadata": {},
   "source": [
    "<img src=\"Demo1Slide14.JPG\">"
   ]
  },
  {
   "cell_type": "markdown",
   "metadata": {},
   "source": [
    "<img src=\"Demo1Slide15.JPG\">"
   ]
  },
  {
   "cell_type": "markdown",
   "metadata": {},
   "source": [
    "<img src=\"Demo1Slide17.JPG\">"
   ]
  }
 ],
 "metadata": {
  "celltoolbar": "Raw Cell Format",
  "kernelspec": {
   "display_name": "Python 2",
   "language": "python",
   "name": "python2"
  },
  "language_info": {
   "codemirror_mode": {
    "name": "ipython",
    "version": 2
   },
   "file_extension": ".py",
   "mimetype": "text/x-python",
   "name": "python",
   "nbconvert_exporter": "python",
   "pygments_lexer": "ipython2",
   "version": "2.7.6"
  }
 },
 "nbformat": 4,
 "nbformat_minor": 0
}
