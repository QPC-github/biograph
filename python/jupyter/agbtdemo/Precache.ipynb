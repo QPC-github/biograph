{
 "cells": [
  {
   "cell_type": "code",
   "execution_count": 1,
   "metadata": {
    "collapsed": false,
    "scrolled": false
   },
   "outputs": [],
   "source": [
    "\"\"\"\n",
    "    Preload data into memory\n",
    "\"\"\"\n",
    "from biograph import new_graph, reference\n",
    "import glob"
   ]
  },
  {
   "cell_type": "code",
   "execution_count": 2,
   "metadata": {
    "collapsed": false
   },
   "outputs": [],
   "source": [
    "# Import the graphs\n",
    "graph_names = [('.'.join(x.split('/')[2].split('.')[:-1])) for x in glob.glob(\"/mnt/*.gbwt\")]\n",
    "graphs = {}\n",
    "for gr in graph_names:\n",
    "    graphs[gr] = new_graph(\"/mnt/\" + gr + \".gbwt\")"
   ]
  },
  {
   "cell_type": "code",
   "execution_count": 3,
   "metadata": {
    "collapsed": false
   },
   "outputs": [],
   "source": [
    "# Import the bitmaps\n",
    "sample_names = [('.'.join(x.split('/')[2].split('.')[:-1])) for x in glob.glob(\"/mnt/*.bitmap\")]\n",
    "samples = {}\n",
    "for sn in sample_names:\n",
    "    samples[sn] = graphs['cohort_125'].load_readset(\"/mnt/\" + sn + \".bitmap\")"
   ]
  },
  {
   "cell_type": "code",
   "execution_count": 4,
   "metadata": {
    "collapsed": true
   },
   "outputs": [],
   "source": [
    "# Import the references\n",
    "grch37 = reference(\"/reference/human_g1k_v37/\")\n",
    "grch38 = reference(\"/reference/homo_sapiens_GCA_000001405.19_GRCh38.p4/\")"
   ]
  }
 ],
 "metadata": {
  "celltoolbar": "Raw Cell Format",
  "kernelspec": {
   "display_name": "Python 2",
   "language": "python",
   "name": "python2"
  },
  "language_info": {
   "codemirror_mode": {
    "name": "ipython",
    "version": 2
   },
   "file_extension": ".py",
   "mimetype": "text/x-python",
   "name": "python",
   "nbconvert_exporter": "python",
   "pygments_lexer": "ipython2",
   "version": "2.7.6"
  }
 },
 "nbformat": 4,
 "nbformat_minor": 0
}
