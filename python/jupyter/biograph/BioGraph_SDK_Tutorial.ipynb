{
 "cells": [
  {
   "cell_type": "markdown",
   "metadata": {},
   "source": [
    "# Introduction\n",
    "\n",
    "The BioGraph format is a compressed index of sequencing data that holds a rapidly querable representation of reads. The BioGraph has two main components. The Seqset and the Readmap. Briefly, the Seqset is the compressed index of every kmer from the foward and reverse complement of all reads in the sequencing experiment. Each of these kmers is called a SeqsetEntry or simply an entry. The Readmap is a lookup of what entries correspond to original input reads and keep information such as the read's length or if the read has a mate-pair. \n",
    "\n",
    "This tutorial is an introduction to basic queries and functionality of the BioGraphSDK.\n",
    "\n",
    "# Setup\n",
    "\n",
    "To follow along with this tutorial, the BioGraphSDK should have been installed and the `bgtools install_tests` have been run. For information on how to do this, see **Spiral Genetics’ BioGraph Toolkit and SDK User Guide** in the _Installation_ section\n",
    "\n",
    "# About the Data\n",
    "\n",
    "A handful of SNPs, indels, and SVs were randomly simulated in the \"J02459.1 Enterobacteria\n",
    "phage lambda, complete genome\". These variants were then given genotypes mocking a family\n",
    "trio. The sample genomes for the proband, mother, and father can be found in\n",
    "`references/samples/` as well a vcf in `variants/family.vcf`.\n",
    "For each sample, 150bp paired-end reads were simulated using [mason](http://www.seqan.de/apps/mason/).\n",
    "\n",
    "For the examples, we use the lambdaToyData. Point to the benchmark data or the results from a run of `bgtools install_tests` to follow along. \n",
    "\n",
    "# Opening a BioGraph\n",
    "\n",
    "To start, let's look at the single sample proband_lambda.bg by opening it as a `BioGraph` object and looking at some of its metadata.\n",
    "Update the `LAMBDA_PATH` variable to point to the root directory where converted lambdaToyData exists."
   ]
  },
  {
   "cell_type": "code",
   "execution_count": 1,
   "metadata": {},
   "outputs": [
    {
     "name": "stdout",
     "output_type": "stream",
     "text": [
      "BioGraph Version 4.0.1-dev\n",
      "AccessionId: proband\n",
      "BioGraphId: 52f41046-0e66-9b4a-b5a9-00a1a8029aa5\n",
      "Sample Info {'proband': '47b43dbb0306fb5da00bca9c33b2fb3de9db7bf4'}\n"
     ]
    }
   ],
   "source": [
    "LAMBDA_PATH = \"/scratch/lambda/lambdaToyData/benchmark\"\n",
    "import os\n",
    "import biograph as bgsdk\n",
    "#Load the BioGraph\n",
    "my_bg = bgsdk.BioGraph(os.path.join(LAMBDA_PATH, \"proband_lambda.bg\"))\n",
    "ref = bgsdk.Reference(os.path.join(LAMBDA_PATH, \"ref_lambda\"))\n",
    "\n",
    "print(\"BioGraph Version\", my_bg.metadata.version)\n",
    "print(\"AccessionId:\", my_bg.metadata.accession_id)\n",
    "print(\"BioGraphId:\", my_bg.metadata.biograph_id)\n",
    "print(\"Sample Info\", my_bg.metadata.samples)"
   ]
  },
  {
   "cell_type": "markdown",
   "metadata": {},
   "source": [
    "AccessionId is a user-specified sample identifier for the data.\n",
    "BioGraphId is an internal sha1 that's used to identify the sample for merging.\n",
    "Sample Info is a dictionary holding Key/Value of AccesionId to BioGraphId.\n",
    "We also looked at a couple propeties of the reads contained within the BioGraph.\n",
    "\n",
    "The AccessionIds are most useful for BioGraphs comprising multiple, merged samples. We'll cover details about merged BioGraphs in a later section."
   ]
  },
  {
   "cell_type": "markdown",
   "metadata": {},
   "source": [
    "# Seqsets and Readmaps\n",
    "\n",
    "BioGraphs contain two main data structures: Seqsets and Readmaps.  A readmap lists information about all reads that were seen.  A Seqset contains a list of all sequences and subsequences of bases present in any readmap.\n",
    "\n",
    "The Seqset data structure is designed for efficient searching of arbitrary sequences, and effecient traversal of overlapping sequences.\n",
    "\n",
    "The Readmap data structure tracks which Seqset entries have reads that support them, and associated data about those reads such as pairing data."
   ]
  },
  {
   "cell_type": "markdown",
   "metadata": {},
   "source": [
    "# Using a Seqset\n",
    "\n",
    "You can use the \"find\" method to look up a seqset entry by sequence, and the \"sequence\" method to look up the sequence associated with a seqset entry.  However, try to avoid using these methods in performance critical code paths; it is much more efficient to use the seqset traversal methods such as \"push_front\" and \"pop_front\".  In fact, \"find\" uses \"push_front\" internally, and \"sequence\" uses \"pop_front\" internally.\n"
   ]
  },
  {
   "cell_type": "code",
   "execution_count": 2,
   "metadata": {},
   "outputs": [
    {
     "name": "stdout",
     "output_type": "stream",
     "text": [
      "This seqset has 97340 entries\n",
      "Sequence GTAATCTTTTAATTTTAAATAAGTTA is present in the seqset\n",
      "Sequence GTAATCTTTTAATCTTAAATAAGTTA is not present in the seqset\n"
     ]
    }
   ],
   "source": [
    "# Look up a seqset entry by sequence.\n",
    "seqset = my_bg.seqset\n",
    "print(\"This seqset has %d entries\" % (seqset.size()))\n",
    "query_seq = bgsdk.Sequence(\"GTAATCTTTTAAT\" + \"T\" + \"TTAAATAAGTTA\")\n",
    "missing_query_seq = bgsdk.Sequence(\"GTAATCTTTTAAT\" + \"C\" + \"TTAAATAAGTTA\")\n",
    "for seq in [query_seq, missing_query_seq]:\n",
    "    entry = seqset.find(seq)\n",
    "    if entry:\n",
    "        print(\"Sequence %s is present in the seqset\" % (entry.sequence()))\n",
    "    else:\n",
    "        print(\"Sequence %s is not present in the seqset\" % (seq))"
   ]
  },
  {
   "cell_type": "markdown",
   "metadata": {},
   "source": [
    "However, it is much more efficient to use the seqset traversal primitives to find neighboring entries if you're not looking up a whole sequence of bases from scratch. "
   ]
  },
  {
   "cell_type": "code",
   "execution_count": 3,
   "metadata": {},
   "outputs": [
    {
     "name": "stdout",
     "output_type": "stream",
     "text": [
      "TAATCTTTTAATTTTAAATAAGTTA exists in the seqset\n",
      "GTAATCTTTTAATTTTAAATAAGTTA exists in the seqset\n",
      "AGTAATCTTTTAATTTTAAATAAGTTA exists in the seqset\n",
      "TAGTAATCTTTTAATTTTAAATAAGTTA does not exist in the seqset\n"
     ]
    }
   ],
   "source": [
    "seq = bgsdk.Sequence(\"AATCTTTTAATTTTAAATAAGTTA\")\n",
    "entry = seqset.find(seq)\n",
    "for base in \"TGATC\":\n",
    "    seq = base + seq\n",
    "    entry = entry.push_front(base)\n",
    "    if entry:\n",
    "        print(\"%s exists in the seqset\" % (seq))\n",
    "    else:\n",
    "        print(\"%s does not exist in the seqset\" % (seq))\n",
    "        break"
   ]
  },
  {
   "cell_type": "markdown",
   "metadata": {},
   "source": [
    "# Using a Readmap"
   ]
  },
  {
   "cell_type": "markdown",
   "metadata": {},
   "source": [
    "If your BioGraph only contains a single sample, you will not have to specify the accession ID when opening the readmap.  However, BioGraphs can contain multiple samples; see the section on Merged BioGraphs for details."
   ]
  },
  {
   "cell_type": "code",
   "execution_count": 4,
   "metadata": {},
   "outputs": [
    {
     "name": "stdout",
     "output_type": "stream",
     "text": [
      "Readmap contains 48956 reads and 7235142 bases\n",
      "\tPaired\tUnpaired\n",
      "Reads\t39974\t8982\n",
      "Bases\t5908084\t1327058\n",
      "Including both forward and reverse direction reads, readmap contains 97912 entries\n"
     ]
    }
   ],
   "source": [
    "my_rm = my_bg.open_readmap()\n",
    "\n",
    "# Print general statistics about the readmap\n",
    "print(\"Readmap contains %d reads and %d bases\" % (my_rm.get_read_count(), my_rm.get_num_bases()))\n",
    "p = my_rm.get_pair_stats()\n",
    "print(\"\\tPaired\\tUnpaired\")\n",
    "print(\"Reads\\t{p.paired_reads}\\t{p.unpaired_reads}\".format(p=p))\n",
    "print(\"Bases\\t{p.paired_bases}\\t{p.unpaired_bases}\".format(p=p))\n",
    "print(\"Including both forward and reverse direction reads, readmap contains %d entries\" % (my_rm.size()))"
   ]
  },
  {
   "cell_type": "markdown",
   "metadata": {},
   "source": [
    "# Looking up reads\n",
    "\n",
    "If you've found a seqset entry and you'd like to see what reads relate to it, there are two methods available.\n",
    "\n",
    "One method lets you find all reads that are entirely contained within a seqset entry, and the other lets you find all reads that start with a given seqset entry and are entirely contained within it.\n",
    "\n",
    "Once you have a specific read, you can use \"get_seqset_entry\" to translate it back to its seqset entry."
   ]
  },
  {
   "cell_type": "code",
   "execution_count": 5,
   "metadata": {},
   "outputs": [
    {
     "name": "stdout",
     "output_type": "stream",
     "text": [
      "Original sequence:\n",
      "AAAGAAGATTTCCAATAATCAGAACAAGTCGGCTCCTGTTTAGTTACGAGCGACATTGCTCCGTGTATTCACTCGTTGGAATGAATACACAGTGCAGTGTTTATTCTGTTATTTATGCCAAAAATAAAGGCCACTATCAGGCAGCTTTGT\n",
      "\n",
      "Found a read of length 126.  This is how it appeared in the input data:\n",
      "AAAGAAGATTTCCAATAATCAGAACAAGTCGGCTCCTGTTTAGTTACGAGCGACATTGCTCCGTGTATTCACTCGTTGGAATGAATACACAGTGCAGTGTTTATTCTGTTATTTATGCCAAAAATA\n",
      "  The preceding read was not part of a pair, however its reverse complement is: TATTTTTGGCATAAATAACAGAATAAACACTGCACTGTGTATTCATTCCAACGAGTGAATACACGGAGCAATGTCGCTCGTAACTAAACAGGAGCCGACTTGTTCTGATTATTGGAAATCTTCTTT\n",
      "\n",
      "Found a read of length 150.  This is how it appeared in the input data:\n",
      "AAAGAAGATTTCCAATAATCAGAACAAGTCGGCTCCTGTTTAGTTACGAGCGACATTGCTCCGTGTATTCACTCGTTGGAATGAATACACAGTGCAGTGTTTATTCTGTTATTTATGCCAAAAATAAAGGCCACTATCAGGCAGCTTTGT\n",
      "  The preceding read has a mate: ACGAGTGGATCCATTTCTATACTCATCAAACTGTAGGGGTTGTAATAGTTTATCCGATTTCTCGCTGTAGGGGTACACGAGAACCACCGAGCCTGATGTGGTTAAAAGACAGGCACAATCTTTACTACCGCAATCCACTATTTAAGGTGA\n",
      "\n",
      "Found a read of length 150.  It appeared in the input data as its reverse complement:\n",
      "ACAAAGCTGCCTGATAGTGGCCTTTATTTTTGGCATAAATAACAGAATAAACACTGCACTGTGTATTCATTCCAACGAGTGAATACACGGAGCAATGTCGCTCGTAACTAAACAGGAGCCGACTTGTTCTGATTATTGGAAATCTTCTTT\n",
      "  The preceding read was not part of a pair, however its reverse complement is: ACAAAGCTGCCTGATAGTGGCCTTTATTTTTGGCATAAATAACAGAATAAACACTGCACTGTGTATTCATTCCAACGAGTGAATACACGGAGCAATGTCGCTCGTAACTAAACAGGAGCCGACTTGTTCTGATTATTGGAAATCTTCTTT\n",
      "\n"
     ]
    }
   ],
   "source": [
    "# Find all reads that start with the given seqset entry and are entirely contained within it\n",
    "query_seq = bgsdk.Sequence(\"AAAGAAGATTTCCAATAATCAGAACAAGTCGGCTCCTGTTTAGTTACGAGCGACATTGCTCCGTGTATTCACTCGTTGGAATGAATACACAGTGCAGTGTTTATTCTGTTATTTATGCCAAAAATAAAGGCCACTATCAGGCAGCTTTGT\")\n",
    "print(\"Original sequence:\")\n",
    "print(query_seq)\n",
    "print(\"\")\n",
    "entry = seqset.find(query_seq)\n",
    "for read in my_rm.get_prefix_reads(entry):\n",
    "    if read.is_original_orientation():\n",
    "        print(\"Found a read of length %d.  This is how it appeared in the input data:\" % (len(read)))\n",
    "        print(read.get_seqset_entry().sequence())\n",
    "    else:\n",
    "        print(\"Found a read of length %d.  It appeared in the input data as its reverse complement:\" % (len(read)))\n",
    "        print(read.get_seqset_entry().sequence().rev_comp())\n",
    "    if read.has_mate():\n",
    "        print(\"  The preceding read has a mate: %s\" % (read.get_mate().get_seqset_entry().sequence()))\n",
    "    else:\n",
    "        print(\"  The preceding read was not part of a pair, however its reverse complement is: %s\" % (read.get_rev_comp().get_seqset_entry().sequence()))\n",
    "    print(\"\")"
   ]
  },
  {
   "cell_type": "code",
   "execution_count": 6,
   "metadata": {},
   "outputs": [
    {
     "name": "stdout",
     "output_type": "stream",
     "text": [
      "           CTTCCCTCTCCCCCAAATAAAAAGGCCTGCGATTACCAGCAGGCCTGTTATTAGCTCAGTAATGTAGATGGTCATCTTTTAACTCCATATACCGCCAATACCCGTTTCATCGCGGCACTCTGGCGACACTCCTTAAAAAC\n",
      "\n",
      "           CTTCCCTCTCCCCCAAATAAAAAGGCCTGCGATTACCAGCAGGCCTGTTATTAGCTCAGTAATGTAGATGGTCATCTTTTAACTCCATATACCGCCAATACCCGTTTCATCGCGGCACTCTGGCGACACTCCTTAAAAACCAGGTTCGTG\n",
      "         GACTTCCCTCTCCCCCAAATAAAAAGGCCTGCGATTACCAGCAGGCCTGTTATTAGCTCAGTAATGTAGATGGTCATCTTTTAACTCCATATACCGCCAATACCCGTTTCATCGCGGCACTCTGGCGACACTCCTTAAAAACCAGGTTCG\n",
      "        TGACTTCCCTCTCCCCCAAATAAAAAGGCCTGCGATTACCAGCAGGCCTGTTATTAGCTCAGTAATGTAGATGGTCATCTTTTAACTCCATATACCGCCAATACCCGTTTCATCGCGGCACTCTGGCGACACTCCTTAAAAACCAGGTTC\n",
      "       ATGACTTCCCTCTCCCCCAAATAAAAAGGCCTGCGATTACCAGCAGGCCTGTTATTAGCTCAGTAATGTAGATGGTCATCTTTTAACTCCATATACCGCCAATACCCGTTTCATCGCGGCACTCTGGCGACACTCCTTAAAAACCAGGTT\n",
      "      CATGACTTCCCTCTCCCCCAAATAAAAAGGCCTGCGATTACCAGCAGGCCTGTTATTAGCTCAGTAATGTAGATGGTCATCTTTTAACTCCATATACCGCCAATACCCGTTTCATCGCGGCACTCTGGCGACACTCCTTAAAAACCAG\n",
      "      CATGACTTCCCTCTCCCCCAAATAAAAAGGCCTGCGATTACCAGCAGGCCTGTTATTAGCTCAGTAATGTAGATGGTCATCTTTTAACTCCATATACCGCCAATACCCGTTTCATCGCGGCACTCTGGCGACACTCCTTAAAAACCAGGT\n",
      "      CATGACTTCCCTCTCCCCCAAATAAAAAGGCCTGCGATTACCAGCAGGCCTGTTATTAGCTCAGTAATGTAGATGGTCATCTTTTAACTCCATATACCGCCAATACCCGTTTCATCGCGGCACTCTGGCGACACTCCTTAAAAACCAGGT\n",
      "   TTTCATGACTTCCCTCTCCCCCAAATAAAAAGGCCTGCGATTACCAGCAGGCCTGTTATTAGCTCAGTAATGTAGATGGTCATCTTTTAACTCCATATACCGCCAATACCCGTTTCATCGCGGCACTCTGGCGACACTCCTTAAAAACCA\n",
      " TTTTTCATGACTTCCCTCTCCCCCAAATAAAAAGGCCTGCGATTACCAGCAGGCCTGTTATTAGCTCAGTAATGTAGATGGTCATCTTTTAACTCCATATACCGCCAATACCCGTTTCATCGCGGCACTCTGGCGACACTCCTTAAAAAC\n"
     ]
    }
   ],
   "source": [
    "# Find all reads that contain a given seqset entry anywhere in the read.\n",
    "query_seq = bgsdk.Sequence(\"CTTCCCTCTCCCCCAAATAAAAAGGCCTGCGATTACCAGCAGGCCTGTTATTAGCTCAGTAATGTAGATGGTCATCTTTTAACTCCATATACCGCCAATACCCGTTTCATCGCGGCACTCTGGCGACACTCCTTAAAAAC\")\n",
    "display_offset = 11\n",
    "print(\"%s%s\" % (\" \"*display_offset, query_seq))\n",
    "print(\"\")\n",
    "entry = seqset.find(query_seq)\n",
    "for (offset, read) in my_rm.get_reads_containing(entry):\n",
    "    print(\"%s%s\" % (\" \"*(display_offset - offset), read.get_seqset_entry().sequence()))"
   ]
  },
  {
   "cell_type": "markdown",
   "metadata": {},
   "source": [
    "# Merged BioGraphs\n",
    "\n",
    "Merged BioGraphs can have multiple samples present in the BioGraph.  In this case, the seqset will contain the union of all sequences contained in any input sample, and there will be a separate readmap for each sample.\n",
    "\n",
    "For these examples, we'll use the `family_lambda.bg` and take a look at all the properties. "
   ]
  },
  {
   "cell_type": "code",
   "execution_count": 7,
   "metadata": {},
   "outputs": [
    {
     "name": "stdout",
     "output_type": "stream",
     "text": [
      "AccessionId: family\n",
      "BioGraphId: 3f64b88d-e1b5-f29d-1569-256e95595e6d\n",
      "Number of Samples 3\n",
      "-- Opening Sample mother --\n",
      "   Number of Reads: 48964\n",
      "   Number of Bases: 7235912\n",
      "-- Opening Sample father --\n",
      "   Number of Reads: 48930\n",
      "   Number of Bases: 7228335\n",
      "-- Opening Sample proband --\n",
      "   Number of Reads: 48956\n",
      "   Number of Bases: 7235142\n"
     ]
    }
   ],
   "source": [
    "my_bg = bgsdk.BioGraph(os.path.join(LAMBDA_PATH, \"family_lambda.bg\"))\n",
    "print(\"AccessionId:\", my_bg.metadata.accession_id)\n",
    "print(\"BioGraphId:\", my_bg.metadata.biograph_id)\n",
    "print(\"Number of Samples\", len(my_bg.metadata.samples))\n",
    "for sample in my_bg.metadata.samples:\n",
    "    print(\"-- Opening Sample\", sample, \"--\")\n",
    "    readmap = my_bg.open_readmap(sample)\n",
    "    print(\"   Number of Reads:\", readmap.get_read_count())\n",
    "    print(\"   Number of Bases:\", readmap.get_num_bases())"
   ]
  },
  {
   "cell_type": "markdown",
   "metadata": {},
   "source": [
    "Once you open a specific readmap, you can use all the same seqset and readmap calls in a merged BioGraph as you can use in a BioGraph with only one sample."
   ]
  },
  {
   "cell_type": "markdown",
   "metadata": {},
   "source": [
    "# Using a Reference\n",
    "\n",
    "Since BioGraph files are reference agnostic, there is no information about a reference inside of it. Instead, information between the BioGraph and a Reference are pieced together on the fly. For example, let's use the lambda reference to find all of the reads that contain a portion of its chromosome."
   ]
  },
  {
   "cell_type": "code",
   "execution_count": 8,
   "metadata": {},
   "outputs": [
    {
     "name": "stdout",
     "output_type": "stream",
     "text": [
      "Looking for reads containing lambda:19575-19600 (TAAATTCTGATTAGCCAGGTAACAC)\n",
      "119 matching reads found in mother\n",
      "107 matching reads found in father\n",
      "114 matching reads found in proband\n"
     ]
    }
   ],
   "source": [
    "my_ref = bgsdk.Reference(os.path.join(LAMBDA_PATH, \"ref_lambda\"))\n",
    "ref_range = my_ref.make_range(\"lambda\", 19575, 19600)\n",
    "print(\"Looking for reads containing %s:%d-%d (%s)\" % (ref_range.chromosome, \n",
    "                                                      ref_range.start, \n",
    "                                                      ref_range.end, \n",
    "                                                      ref_range.sequence))\n",
    "entry = my_bg.seqset.find(ref_range.sequence)\n",
    "for sample in my_bg.metadata.samples:\n",
    "    readmap = my_bg.open_readmap(sample)\n",
    "    reads = readmap.get_reads_containing(entry)\n",
    "    print(\"%d matching reads found in %s\" % (len(list(reads)), sample))"
   ]
  },
  {
   "cell_type": "markdown",
   "metadata": {},
   "source": [
    "Additionally, we can query the Reference for locations where a sequence exists. Note that this is more of a mapping than a proper alignment. This means that we report all of the places in the reference a sequence exactly matches to the direct strand. There currently is no method to do a 'fuzzy' match like what's needed for traditional alignment operations."
   ]
  },
  {
   "cell_type": "code",
   "execution_count": 9,
   "metadata": {},
   "outputs": [
    {
     "name": "stdout",
     "output_type": "stream",
     "text": [
      "2 matches to reference found.\n",
      "chrom start end\n",
      "lambda 12589 12598\n",
      "lambda 537 546\n"
     ]
    }
   ],
   "source": [
    "lookup = my_ref.find(\"CGTGCTGTC\")\n",
    "print(lookup.matches, \"matches to reference found.\")\n",
    "print(\"chrom start end\")\n",
    "for i in range(lookup.matches):\n",
    "    mat = lookup.get_match(i)\n",
    "    print(mat.chromosome, mat.start, mat.end)"
   ]
  },
  {
   "cell_type": "code",
   "execution_count": null,
   "metadata": {},
   "outputs": [],
   "source": []
  }
 ],
 "metadata": {
  "kernelspec": {
   "display_name": "Python 3",
   "language": "python",
   "name": "python3"
  },
  "language_info": {
   "codemirror_mode": {
    "name": "ipython",
    "version": 3
   },
   "file_extension": ".py",
   "mimetype": "text/x-python",
   "name": "python",
   "nbconvert_exporter": "python",
   "pygments_lexer": "ipython3",
   "version": "3.7.4"
  }
 },
 "nbformat": 4,
 "nbformat_minor": 1
}
