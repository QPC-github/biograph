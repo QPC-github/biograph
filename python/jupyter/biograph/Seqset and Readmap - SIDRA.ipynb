{
 "cells": [
  {
   "cell_type": "code",
   "execution_count": 2,
   "metadata": {
    "collapsed": true
   },
   "outputs": [],
   "source": [
    "LAMBDA_PATH = \"/share/datasets/lambdaToyData/benchmark\"\n",
    "import os\n",
    "import biograph as bgsdk\n",
    "#Load the BioGraph\n",
    "my_bg = bgsdk.BioGraph(os.path.join(LAMBDA_PATH, \"proband_lambda.bg\"))\n",
    "ref = bgsdk.Reference(os.path.join(LAMBDA_PATH, \"ref_lambda\"))"
   ]
  },
  {
   "cell_type": "code",
   "execution_count": 5,
   "metadata": {
    "collapsed": false
   },
   "outputs": [
    {
     "name": "stdout",
     "output_type": "stream",
     "text": [
      "A [0-24335)\n",
      "C [24335-48482)\n",
      "G [48482-72628)\n",
      "T [72628-96964)\n",
      "AA [0-7041)\n",
      "AC [7041-12374)\n",
      "AG [12374-17651)\n",
      "AT [17651-24335)\n",
      "CA [24335-31336)\n",
      "CC [31336-37010)\n",
      "CG [37010-43204)\n",
      "CT [43204-48482)\n",
      "GA [48482-54425)\n",
      "GC [54425-61621)\n",
      "GG [61621-67295)\n",
      "GT [67295-72628)\n",
      "TA [72628-76978)\n",
      "TC [76978-82921)\n",
      "TG [82921-89923)\n",
      "TT [89923-96964)\n"
     ]
    }
   ],
   "source": [
    "#JBD\n",
    "\n",
    "for i in ['A', 'C', 'G', 'T']:\n",
    "    print i, my_bg.entry_search(i)[0]\n",
    "\n",
    "print\n",
    "for i in ['A', 'C', 'G', 'T']:\n",
    "    for j in ['A', 'C', 'G', 'T']:\n",
    "        print i+j, my_bg.entry_search(i+j)[0]"
   ]
  },
  {
   "cell_type": "code",
   "execution_count": 7,
   "metadata": {
    "collapsed": false
   },
   "outputs": [
    {
     "name": "stdout",
     "output_type": "stream",
     "text": [
      "A [0-24335)\n",
      "AA [0-7041)\n",
      "AC [24335-31336)\n",
      "AG [48482-54425)\n",
      "AT [72628-76978)\n",
      "C [24335-48482)\n",
      "CA [7041-12374)\n",
      "CC [31336-37010)\n",
      "CG [54425-61621)\n",
      "CT [76978-82921)\n",
      "G [48482-72628)\n",
      "GA [12374-17651)\n",
      "GC [37010-43204)\n",
      "GG [61621-67295)\n",
      "GT [82921-89923)\n",
      "T [72628-96964)\n",
      "TA [17651-24335)\n",
      "TC [43204-48482)\n",
      "TG [67295-72628)\n",
      "TT [89923-96964)\n"
     ]
    }
   ],
   "source": [
    "for i in ['A', 'C', 'G', 'T']:\n",
    "    x = my_bg.entry_search(i)[0]\n",
    "    print i, x\n",
    "    for j in ['A', 'C', 'G', 'T']:\n",
    "        print i + j, x.push_front(j)"
   ]
  },
  {
   "cell_type": "code",
   "execution_count": 11,
   "metadata": {
    "collapsed": false
   },
   "outputs": [
    {
     "name": "stdout",
     "output_type": "stream",
     "text": [
      "['__class__', '__delattr__', '__dict__', '__doc__', '__eq__', '__format__', '__getattribute__', '__hash__', '__init__', '__module__', '__ne__', '__new__', '__reduce__', '__reduce_ex__', '__repr__', '__setattr__', '__sizeof__', '__str__', '__subclasshook__', '__weakref__', 'end', 'find_overlaps', 'find_reads', 'front', 'matches', 'next_kmer', 'pop_back', 'pop_front', 'push_front', 'push_front_drop', 'sequence', 'start', 'valid']\n",
      "Help on method push_front_drop:\n",
      "\n",
      "push_front_drop(...) method of biograph.sdk.SeqsetEntry instance\n",
      "    push_front_drop(base, min_ctx=0)\n",
      "    \n",
      "    Add a dna base to the front, dropping as many bases as needed to make a valid result.\n",
      "\n"
     ]
    }
   ],
   "source": [
    "print dir(x)\n",
    "help(x.push_front_drop)"
   ]
  },
  {
   "cell_type": "code",
   "execution_count": 18,
   "metadata": {
    "collapsed": false
   },
   "outputs": [
    {
     "name": "stdout",
     "output_type": "stream",
     "text": [
      "AAAA [0-813)\n",
      "AAAC [813-1328)\n",
      "GAAAA [48482-48702)\n"
     ]
    }
   ],
   "source": [
    "x = my_bg.entry_search(\"AAAA\")[0]\n",
    "y = x.next_kmer()\n",
    "print x.sequence, x\n",
    "print y.sequence, y\n",
    "y = x.push_front_drop(\"G\")\n",
    "print y.sequence, y"
   ]
  },
  {
   "cell_type": "code",
   "execution_count": 23,
   "metadata": {
    "collapsed": false
   },
   "outputs": [
    {
     "name": "stdout",
     "output_type": "stream",
     "text": [
      "[<biograph.sdk.ReadmapEntry object at 0x7fb37ac8e5a0>]\n",
      "has_mate True\n",
      "readlen  150\n",
      "readfwd  False\n",
      "readmate <biograph.sdk.ReadmapEntry object at 0x7fb37ac8af30>\n"
     ]
    }
   ],
   "source": [
    "query_seq = bgsdk.Sequence(\"TACTGAAAGAATGGGCATGAGCACCGATAACAACCG\")\n",
    "entry = my_bg.entry_search(query_seq)[0]\n",
    "reads = my_bg.entry_to_reads(entry)\n",
    "print reads\n",
    "read = reads[0]\n",
    "print 'has_mate', read.has_mate\n",
    "print 'readlen ', read.readlength\n",
    "print 'readfwd ', read.forward\n",
    "print 'readmate', read.mate # << Has a mate"
   ]
  },
  {
   "cell_type": "code",
   "execution_count": 24,
   "metadata": {
    "collapsed": false
   },
   "outputs": [
    {
     "name": "stdout",
     "output_type": "stream",
     "text": [
      "[23700-23701)\n",
      "ATTGGTTCACACGGACACACCATCACCGTTAACGCTGCGGGTAACGCGGAAAACACCGTCAAAAACATTGCATTTAACTATATTGTGAGGCTTGCATAATGGCATTCAGAATGAGTGAACAACCACGGACCATAAAAATTTATAATCTGC\n"
     ]
    }
   ],
   "source": [
    "mate = my_bg.read_to_entry(read.mate)\n",
    "print mate\n",
    "print mate.sequence"
   ]
  },
  {
   "cell_type": "code",
   "execution_count": 38,
   "metadata": {
    "collapsed": false
   },
   "outputs": [
    {
     "name": "stdout",
     "output_type": "stream",
     "text": [
      "Help on method find_overlaps:\n",
      "\n",
      "find_overlaps(...) method of biograph.sdk.SeqsetEntry instance\n",
      "    find_overlaps(min_overlap, max_reads, readmap)\n",
      "    \n",
      "    Find all the reads that end with this sequence or a prefix of\n",
      "    this sequence at least min_overlap in size.  Find up to max_reads reads.\n",
      "    If multiple output reads would overlap each other, return on the 'best'\n",
      "    (most overlapping) read for each potential assembly.\n",
      "\n",
      "TATTGGTTCACACGGACACACCATCACCGTTAACGCTGCGGGTAACGCGGAAAACACCGTCAAAAACATTGCATTTAACTATATTGTGAGGCTTGCATAATGGCATTCAGAATGAGTGAACAACCACGGACCATAAAAATTTATAATCTG\n"
     ]
    }
   ],
   "source": [
    "help(mate.find_overlaps)\n",
    "ovls = mate.find_overlaps(110, 10, my_bg.readmap)\n",
    "print ovls[0].sequence"
   ]
  },
  {
   "cell_type": "code",
   "execution_count": null,
   "metadata": {
    "collapsed": true
   },
   "outputs": [],
   "source": [
    "#ATTGGTTCACACGGACACACCATCACCGTTAACGCTGCGGGTAACGCGGAAAACACCGTCAAAAACATTGCATTTAACTATATTGTGAGGCTTGCATAATGGCATTCAGAATGAGTGAACAACCACGGACCATAAAAATTTATAATCTG"
   ]
  }
 ],
 "metadata": {
  "kernelspec": {
   "display_name": "Python 2",
   "language": "python",
   "name": "python2"
  },
  "language_info": {
   "codemirror_mode": {
    "name": "ipython",
    "version": 2
   },
   "file_extension": ".py",
   "mimetype": "text/x-python",
   "name": "python",
   "nbconvert_exporter": "python",
   "pygments_lexer": "ipython2",
   "version": "2.7.6"
  }
 },
 "nbformat": 4,
 "nbformat_minor": 0
}
