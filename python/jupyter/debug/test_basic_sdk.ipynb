{
 "cells": [
  {
   "cell_type": "code",
   "execution_count": 9,
   "metadata": {
    "collapsed": false
   },
   "outputs": [],
   "source": [
    "# sdk.py test_basic_sdk()\n",
    "from biograph import seqset, readmap, reference, find_variants, find_ranges\n",
    "\n",
    "na12878 = seqset(\"/share/seqset/biograph/NA12878_S1.seqset\")\n",
    "rm = readmap(\"/share/seqset/biograph/NA12878_S1.readmap\")\n",
    "grch37 = reference(\"/reference/human_g1k_v37/\")"
   ]
  },
  {
   "cell_type": "code",
   "execution_count": 2,
   "metadata": {
    "collapsed": false
   },
   "outputs": [
    {
     "data": {
      "text/plain": [
       "25"
      ]
     },
     "execution_count": 2,
     "metadata": {},
     "output_type": "execute_result"
    }
   ],
   "source": [
    "na12878_vs_grch37 = find_variants(na12878, grch37, \"2\", 1837400, 1973400, rm)"
   ]
  },
  {
   "cell_type": "code",
   "execution_count": 12,
   "metadata": {
    "collapsed": false
   },
   "outputs": [
    {
     "name": "stdout",
     "output_type": "stream",
     "text": [
      "25\n",
      "19\n",
      "19\n",
      "16\n",
      "11\n"
     ]
    }
   ],
   "source": [
    "# 25 variants in this range\n",
    "# self.assertEqual(len(na12878_vs_grch37[0].variants), 25)\n",
    "print len(na12878_vs_grch37[0].variants)\n",
    "\n",
    "# # 19 supporting reads for this sequence\n",
    "reads = na12878.find('CTGTTACCACAGTCTTAATAACATTGCCCTTTGCTAATTTT').find_reads(100, readmap(''))\n",
    "# self.assertEqual(len(reads), 19)\n",
    "print len(reads)\n",
    "# # reverse complement, should be the same\n",
    "reads = na12878.find('AAAATTAGCAAAGGGCAATGTTATTAAGACTGTGGTAACAG').find_reads(100, readmap(''))\n",
    "# self.assertEqual(len(reads), 19)\n",
    "print len(reads)\n",
    "\n",
    "# # 16 contigs in chr 7\n",
    "# self.assertEqual(len(find_ranges(grch37, 7, 1, 1000000000)), 16)\n",
    "print len(find_ranges(grch37, 7, 1, 1000000000))\n",
    "# # 11 contigs in chr 21\n",
    "# self.assertEqual(len(find_ranges(grch37, 21, 1, 1000000000)), 11)\n",
    "print len(find_ranges(grch37, 21, 1, 1000000000))"
   ]
  }
 ],
 "metadata": {
  "kernelspec": {
   "display_name": "Python 2",
   "language": "python",
   "name": "python2"
  },
  "language_info": {
   "codemirror_mode": {
    "name": "ipython",
    "version": 2
   },
   "file_extension": ".py",
   "mimetype": "text/x-python",
   "name": "python",
   "nbconvert_exporter": "python",
   "pygments_lexer": "ipython2",
   "version": "2.7.6"
  }
 },
 "nbformat": 4,
 "nbformat_minor": 0
}
