{
 "cells": [
  {
   "cell_type": "code",
   "execution_count": 1,
   "metadata": {
    "collapsed": false,
    "scrolled": false
   },
   "outputs": [],
   "source": [
    "\"\"\"\n",
    "    Show a simple visualization of variants to reference.\n",
    "\"\"\"\n",
    "from biograph import seqset, readmap, reference, find_variants, visualize, sequence"
   ]
  },
  {
   "cell_type": "code",
   "execution_count": 2,
   "metadata": {
    "collapsed": false,
    "scrolled": true
   },
   "outputs": [],
   "source": [
    "# Import the seqset.\n",
    "na12878 = seqset(\"/datasets/biograph/NA12878_S1.seqset\")\n",
    "\n",
    "# The readmap is optional, but provides more precise coverage.\n",
    "na12878_rm = readmap(\"/datasets/biograph/NA12878_S1.readmap\")"
   ]
  },
  {
   "cell_type": "code",
   "execution_count": 3,
   "metadata": {
    "collapsed": true
   },
   "outputs": [],
   "source": [
    "# Import a reference\n",
    "grch37 = reference(\"/reference/human_g1k_v37/\")"
   ]
  },
  {
   "cell_type": "code",
   "execution_count": 16,
   "metadata": {
    "collapsed": false
   },
   "outputs": [
    {
     "data": {
      "text/plain": [
       "libspiral.sequence('ATGTCTGCTCCTGTATCTACCAAACCTTTAAAGTTCTTTCCCTGAATAGT')"
      ]
     },
     "execution_count": 16,
     "metadata": {},
     "output_type": "execute_result"
    }
   ],
   "source": [
    "r = grch37.make_range('1', 832318-25, 832318+25, True)\n",
    "r.sequence"
   ]
  },
  {
   "cell_type": "code",
   "execution_count": 22,
   "metadata": {
    "collapsed": false
   },
   "outputs": [
    {
     "data": {
      "text/plain": [
       "14"
      ]
     },
     "execution_count": 22,
     "metadata": {},
     "output_type": "execute_result"
    }
   ],
   "source": [
    "len(na12878.find('ATGTCTGCTCCTGTATCTACCAAAACTTTAAATTTCTTTCCCTGAATAGT').find_reads(100, na12878_rm))"
   ]
  },
  {
   "cell_type": "code",
   "execution_count": 19,
   "metadata": {
    "collapsed": false,
    "scrolled": true
   },
   "outputs": [
    {
     "data": {
      "text/plain": [
       "libspiral.sequence('ATGTCTGCTCCTGTATCTACCAAACCTTTAAATTTCTTTCCCTGAATAGT')"
      ]
     },
     "execution_count": 19,
     "metadata": {},
     "output_type": "execute_result"
    }
   ],
   "source": [
    "na12878.find_near(sequence('ATGTCTGCTCCTGTATCTACCAAACCTTTAAAGTTCTTTCCCTGAATAGT'), 1, 100)[0].sequence\n"
   ]
  },
  {
   "cell_type": "code",
   "execution_count": 28,
   "metadata": {
    "collapsed": false,
    "scrolled": true
   },
   "outputs": [],
   "source": [
    "# Find variants\n",
    "na12878_vs_grch37 = find_variants(na12878, grch37, \"1\", 860461-500, 860461+500, na12878_rm, min_overlap=70)"
   ]
  },
  {
   "cell_type": "code",
   "execution_count": 29,
   "metadata": {
    "collapsed": false,
    "scrolled": false
   },
   "outputs": [
    {
     "name": "stdout",
     "output_type": "stream",
     "text": [
      "                                .\n",
      "                                .\n",
      "                                .\n",
      "           1:860413         28 C│ \n",
      "           1:860414         28 T│ \n",
      "           1:860415         28 C│ \n",
      "                             0  ├───╮  28\n",
      "           1:860416          0 G│   │A 29\n",
      "                             0  ├───╯  29\n",
      "           1:860417         29 G│ \n",
      "           1:860418         29 C│ \n",
      "           1:860419         29 C│ \n",
      "                                .\n",
      "                                .\n",
      "                                .\n",
      "           1:860458         29 C│ \n",
      "           1:860459         29 C│ \n",
      "           1:860460         28 C│ \n",
      "                             0  ├───╮  28\n",
      "           1:860461          0 G│   │A 28\n",
      "                             0  ├───╯  28\n",
      "           1:860462         28 C│ \n",
      "           1:860463         28 C│ \n",
      "           1:860464         28 G│ \n",
      "                                .\n",
      "                                .\n",
      "                                .\n",
      "           1:860518         25 C│ \n",
      "           1:860519         25 A│ \n",
      "           1:860520         25 G│ \n",
      "                             0  ├───╮  25\n",
      "           1:860521          0 C│   │A 26\n",
      "                             0  ├───╯  26\n",
      "           1:860522         26 T│ \n",
      "           1:860523         27 T│ \n",
      "           1:860524         27 G│ \n",
      "                                .\n",
      "                                .\n",
      "                                .\n",
      "           1:860685         22 G│ \n",
      "           1:860686         22 G│ \n",
      "           1:860687         20 C│ \n",
      "                             0  ├───╮  20\n",
      "           1:860688          0 G│   │A 20\n",
      "                             0  ├───╯  20\n",
      "           1:860689         20 C│ \n",
      "           1:860690         21 A│ \n",
      "           1:860691         20 C│ \n",
      "                                .\n",
      "                                .\n",
      "                                .\n",
      "           1:860775         26 C│ \n",
      "           1:860776         26 A│ \n",
      "           1:860777         26 C│ \n",
      "                             0  ├───╮  26\n",
      "           1:860778          0 A│   │G 26\n",
      "                             0  ├───╯  26\n",
      "           1:860779         26 C│ \n",
      "           1:860780         26 A│ \n",
      "           1:860781         26 A│ \n",
      "                                .\n",
      "                                .\n",
      "                                .\n",
      "           1:860786         27 T│ \n",
      "           1:860787         27 T│ \n",
      "           1:860788         27 T│ \n",
      "                             0  ├───╮  27\n",
      "           1:860789          0 T│   │C 27\n",
      "           1:860790          0 G│   │     \n",
      "           1:860791          0 G│   │     \n",
      "           1:860792          0 C│   │     \n",
      "           1:860793          0 G│   │     \n",
      "           1:860794          0 C│   │     \n",
      "           1:860795          0 C│   │     \n",
      "           1:860796          0 T│   │     \n",
      "           1:860797          0 G│   │     \n",
      "           1:860798          0 C│   │     \n",
      "           1:860799          0 G│   │     \n",
      "                             0  ├───╯  27\n",
      "           1:860800         27 G│ \n",
      "           1:860801         26 G│ \n",
      "           1:860802         26 C│ \n",
      "                                .\n",
      "                                .\n",
      "                                .\n",
      "           1:860851         22 G│ \n",
      "           1:860852         22 G│ \n",
      "           1:860853         22 G│ \n",
      "                             0  ├───╮  22\n",
      "           1:860854          0 T│   │C 21\n",
      "                             1  ├───╯  21\n",
      "           1:860855         22 G│ \n",
      "           1:860856         21 C│ \n",
      "           1:860857         23 G│ \n",
      "                                .\n",
      "                                .\n",
      "                                .\n"
     ]
    }
   ],
   "source": [
    "# Let's see them\n",
    "for assembly in na12878_vs_grch37:\n",
    "    visualize(assembly)"
   ]
  },
  {
   "cell_type": "code",
   "execution_count": 6,
   "metadata": {
    "collapsed": false
   },
   "outputs": [
    {
     "data": {
      "text/plain": [
       "[<libspiral.variant 1:245824428_1:1>,\n",
       " <libspiral.variant 1:245822863_1:1>,\n",
       " <libspiral.variant 1:245823631-_3865_1:245823568->,\n",
       " <libspiral.variant 1:245824141_1:1>]"
      ]
     },
     "execution_count": 6,
     "metadata": {},
     "output_type": "execute_result"
    }
   ],
   "source": [
    "# List all of the variants\n",
    "na12878_vs_grch37[0].variants"
   ]
  },
  {
   "cell_type": "code",
   "execution_count": 7,
   "metadata": {
    "collapsed": false,
    "scrolled": true
   },
   "outputs": [
    {
     "name": "stdout",
     "output_type": "stream",
     "text": [
      "True False False\n"
     ]
    }
   ],
   "source": [
    "# The large deletion is a structural variant with both breakends in the reverse direction\n",
    "sv = na12878_vs_grch37[0].variants[2]\n",
    "print sv.is_structural, sv.left_forward, sv.right_forward"
   ]
  },
  {
   "cell_type": "code",
   "execution_count": 8,
   "metadata": {
    "collapsed": false,
    "scrolled": false
   },
   "outputs": [
    {
     "name": "stdout",
     "output_type": "stream",
     "text": [
      "CTGAGGATCTAAGTACAGGGGAGTTCTGGGCATGCATTAGTGCTCTAAGGAGAGGCCTTCGCTGGTTAATGTCCCCAGGTTTGGGTTGGTAGCCTACCATTTGGTATCATACTGAGCTCCCTAATTTTGAGCTACATCTAGAAGACCACGTGCCTGGTGCCAAGAAGGACACTTAGACTATGTGTGGATGGAGCTTCATCAGCTGTTCTAATGAACGTTTTGCAAAAGACCATTGTGAGTGAGATGGGAGTTTCTCTGTTTTCAAGCCCAGGGCCCTGCCTGCTGGTGTGTCCCTCTTCTGAGTCATTCAGCCTTGACCCACTCTAGGGAACCGGAGGAATCCACAGCCCAGAGCTCTCCCATGGTGGCCTGTTTGACAGTCACATTCTGAAAAAGCAAACCTCTTGGCTTGATTTCTTGCTGGAATAATGAAACCCAGCTCGGCCCCTGCTTGATAATTGCCTTTGGGAAAAAGGTAATAGCCACCTTGAAACACCATTCAGTTGGACCTTTCCAAAAGCCACGGGTTTTTCTTCACCAAAGTCCTTCATTTGAGCCTATAATCTGTGAATGGAAAGAAGCGATGATGCCTCTAAAAGCCTTTTGGTTGGAGTCAGAGTCACCCTTTGAGCACTGAGTTCTCTTTCCAGGGACCTCTCCCATGTGGTCTTGGAGCCATGGGTGTTGTACAAAAGCAACAGGCCTAGCAGAGCTACCAGTGTGTGAGCGTTTGCTGTGTGAGCCCAGGCTTTCCACAGGACGAAGATTCTCTCACCAGAGTGTGAGCATTTGCAGTGTGAGCCCAGGCTCTCTACAGGACGAAGATTCTCTTACCAGCATGTGAACATTTGCAGTGTGAGCCCAGGCTCTCTACAGGACGAAGATTCTCTCACCAGAGTGTGAGCATTTGCTAGTGTGAGCCCAGGCTCTCTACAGGACGAAGATTCTCTTACCAGCATGTGAGCATTTGCAGTGTGAGCCCAGGCTCTCCACAGGACAAAGATTCTCTTTTCACCCTCACGTCAACCTCACGTCAAGATGGGAGATAAAGAATAGCAAAATAGGGCTGGGTGTAAGCTCTGGATAGCTTCTTCGGGTATCCAGGGATAGATGCTGTGATTACTCCTATTTTATAGATGAAGAAACAGATGAAAGGAGCCCACGTCCCATGCACGATACTGGCAAGCTAGGATTCAAACACAGTGGGGCTCCAGCACCTTCCCTTTCAGTCCCCACATTAGCCTCTGGCTGAGGTGTGGGGAAAAGCTCACAGATCAGACTGGGGGGACCTGAGTTCCAGCCCCAGCTCCTCGCGGGCTGCCTGTGTGACCTGAGAGCCCCGAGGCTCCATCTGTGAAATGCAGAGGGGGTGGCAGACAGCTCGTCACGAGGAGTGAATGAGATCCTGCAGATGAAGGTATTTGGTATACTGAAGAGCTCTGAGAATGATGAAAATGATGTGCAAGTCTCTTCCAGGACTTTTTGTGTGCCTTTCGTAGTGTAATACAGACCCCGGCACATGGGTGTTCACACTTAGGGTATGACCAGCCTCACAGCTAAGTTGCTTAGCATATGGTACCAGCGAACCCAAGTTTGTAAACCAGAACTTCCCATTGCTTTCTTGATTGTCAAGTTTGACCCTGGCCAGCATCCTCTGATACACTGAAAATACACTCTGTGTGTCCAGAAGCAGCTGAGCTTTTGTCTCAGGCCAACCTCACATTCAACCCACTATCCTCCGTCTTGTTCCTCCACGAGGAAAGGGACGTGAATGCCTATAGGCCATCAGAGATGCAGGTGAAACAAACCTCAGTGCATCATTGCACGGGGCCAGATGGGGGGGCCGGTGTTTCCCTGCGGAATCCGGAGGACAGCTGTGCCAGCCACGTGTCCAGGCCCAGGATCCACAATAGGAAAGGGGTTGCTGATGCATTTCAAACTATCTCTAAAGTTGTGAGTGTATATGGCAAAATCCCATCCTACCAAGCCTTCTTGCTATATACATTTGAGTAGAAAATGACATGAGCCAGAAGCTCCAAAGCCTGAGATCCAGAGCATAAACTCCTGCTGTCATGTTGAGGCTGGGGCAGTCCAGTCGCAAGCAGTGCTCCAAAGGAATGCAGTAGGCTGTTCTCATCTTGCCGTAAAGAAATACCCGAGGCTGGGTAATTTCTAAGGAGAAAGGTTTATTTTTGGCTCACAGTTCCACAGGCTGTACGGGAAGCATGGTGCCGGCATCTGCTTCTGGTGAGGCCTCAGGAAGCTTATAATCAAGATGGAAGGTGAAGGGGGAGCAGGTGTGTTACATGGCAACAGAGGGTGCAAGAGAGAGAGAAGGGGGAGGTCCCAGACTCTTTGAAATAGCTGGATCTCATGTGAACTAATAGAGCGAGAACTCACTCATCAACAGGGGATGGCTCTAAGCCATTCAGGAGGGATCTTCCCCCAGGATCCAGCCACCTCCCGCCAGGCCCCCCCTCCAACACTGGGAATCACATTTCAACCTGAGCTTTGGAGGGTATGAACATCCAAACCATATTGGGCTCTATCGTTTTTGAGATTTTACTCACTGGGCGACAACGTAGAGCACCCACCGCTGGGCTGATATGATTTGTTCCCGTTTCCTGGGCAACCAGGTGCGCAGGGCCACGAGATGAGCCTCTTGTGACAACTAAGCCACCTTGATGATGGCTTTAACTCGGGGCCTGGAAGTCAGACTCCCATGCTTTGAGGATATTTTTTGTGGTGGTGTCATTTGTTATGAGGGTTATTCTTTTTTCTCTTGGTACTTCCCAGCCTCATTACTTCTCTGTGCCAAACTGTGCCAGGAAATCACTGACTTTATCATCATGATCATCATCATCATCACCATCACTCAAACTTTGGTAGTGCAGTGCAGTGCCTGCTAGCGCCAAGCTCTAGACTCGGTTCTTTATATATACTCAGTCATCGCATGTTCATGGCAGTCTCATGGGACCAGCACTACAAATGTGTCTAAGGAGGTTTCCTCGAAATCTCCTTTGTCACAGTGGCCTGGAGCATGCAGAAGCAGGTAACAGAAATACCAGCAGCCACTCCTGACTCATCACTGATAGTGGAACTGGTAAGGGACAAACTTGTAAATGAGCAAAGTTAGATTTCTGGGCCTCCTCACCACCTCCCCACTTAGTGCTGTGTCCCCACCCCACAGGTACCCGGTACCTTTGTGCTCTCCAAGAATGCCCCATACTGCCACTTTCCACCCCCATCCTCCTGCCTGTACCTTGTTGCAAATCCCCAACGCCCTGGGCCTCAGTTGACTCTGTACCTACCCCAAAAGGCATCTTTCCTGCAGGTGCTCCTTCCCACGAAGCCCTGTGGTAAGGTCATGTGCTGTCTTCGGTCAAATCAAAACTCCAGTATCTGATAAGAGTCTAAAGATATATGAGAGTTCCCACTATTCCCAACCTTGTCAATATTTGTATTGTTTGATTTTTAAAGTTTTTGGCCATTAGGTGAATATTTAATGGTATGTCATTGTAATTTTAATTTGCAATTTTCCTGATGACTGCTAAGGTTGAGTATCTTTTCATGTTTATTATTCTCTGTATAGTTCTTGTTCATGTCTTTTGCCTGCTTTTCTGTACAGTTGCTTAGCTTTTTGTTAATTGATTCATAGGAATTCTTTGTAAACTCTGGATACCTTCTGCAGGCACCACTCATTGAGACCCCACTGACCAGGAACGATCTTTCAGTCATTTAAGTGACTCTGTGTGGAGTTGTCTCTGGGTTCTCTAGCCCTGCGCTGTTACCACAGTCTTAATAACATTGCCCTTTGCTAATTTTCTTTACGGCATGTTCATTTGCCATTTATTAATTTCTGTTG\n"
     ]
    }
   ],
   "source": [
    "# Since both breakends are in the reverse direction, show the reverse complement of the sequence\n",
    "print sv.flip().sequence"
   ]
  },
  {
   "cell_type": "markdown",
   "metadata": {
    "collapsed": false
   },
   "source": [
    "What is this sequence? We could <a href=\"http://blast.ncbi.nlm.nih.gov/Blast.cgi\">BLAST</a> it to find out <a href=\"http://www.ncbi.nlm.nih.gov/nucleotide/568815500?report=genbank&log$=nuclalign&blast_rank=1&RID=K493Z58P014\">what it really is</a>.\n",
    "\n",
    "...or see the <a href='Multiple%20references.ipynb'>Multiple references</a> demonstration.\n"
   ]
  }
 ],
 "metadata": {
  "celltoolbar": "Raw Cell Format",
  "kernelspec": {
   "display_name": "Python 2",
   "language": "python",
   "name": "python2"
  },
  "language_info": {
   "codemirror_mode": {
    "name": "ipython",
    "version": 2
   },
   "file_extension": ".py",
   "mimetype": "text/x-python",
   "name": "python",
   "nbconvert_exporter": "python",
   "pygments_lexer": "ipython2",
   "version": "2.7.6"
  }
 },
 "nbformat": 4,
 "nbformat_minor": 0
}
