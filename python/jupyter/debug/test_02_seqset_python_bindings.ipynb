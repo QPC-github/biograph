{
 "cells": [
  {
   "cell_type": "code",
   "execution_count": 3,
   "metadata": {
    "collapsed": false
   },
   "outputs": [],
   "source": [
    "# seqset.py test_02_seqset_python_bindings\n",
    "seqset = '/share/seqset/biograph/NA12878_S1.seqset'\n",
    "ref = '/reference/human_g1k_v37'\n",
    "\n",
    "from biograph import seqset, reference, find_variants\n",
    "bgr = seqset(seqset)\n",
    "ref = reference(ref)"
   ]
  },
  {
   "cell_type": "code",
   "execution_count": 6,
   "metadata": {
    "collapsed": false
   },
   "outputs": [
    {
     "name": "stdout",
     "output_type": "stream",
     "text": [
      "84\n",
      "338\n",
      "4\n",
      "1:[245822863-245822864)\n",
      "False\n",
      "T\n",
      "A\n",
      "44\n"
     ]
    }
   ],
   "source": [
    "# 84 scaffolds, 338 supercontigs in human_g1k_v37\n",
    "# self.assertEqual(len(ref.scaffolds), 84)\n",
    "# self.assertEqual(len(ref.supercontigs), 338)\n",
    "print len(ref.scaffolds)\n",
    "print len(ref.supercontigs)\n",
    "\n",
    "results = find_variants(bgr, ref, \"1\", 245822567, 245824567)[0]\n",
    "\n",
    "# self.assertEqual(len(results.variants), 4, 'Should have found 4 variants, found {0}'.format(len(results.variants)))\n",
    "print len(results.variants)\n",
    "\n",
    "vvv = results.variants[1]\n",
    "# self.assertEqual(str(vvv.range), '1:[245822863-245822864)')\n",
    "print str(vvv.range)\n",
    "# self.assertEqual(vvv.is_structural, False)\n",
    "print vvv.is_structural\n",
    "# self.assertEqual(str(vvv.sequence), 'T')\n",
    "print vvv.sequence\n",
    "# self.assertEqual(str(vvv.flip().sequence), 'A')\n",
    "print vvv.flip().sequence\n",
    "# self.assertEqual(vvv.min_depth, 44)\n",
    "print vvv.min_depth\n",
    "\n",
    "# refrange = ref.make_range(\"2\", 100000, 200003, False)\n",
    "# self.assertEqual(refrange.start, 100000)\n",
    "# self.assertEqual(refrange.end, 200003)\n",
    "# self.assertEqual(refrange.size, 100003)\n",
    "# self.assertEqual(refrange.scaffold, \"2\")\n",
    "\n",
    "# with self.assertRaises(RuntimeError):\n",
    "#     refrange = ref.make_range(\"20\", 1, 177954, True)\n",
    "\n",
    "# # should NOT raise\n",
    "# refrange = ref.make_range(\"20\", 1, 177954, False)\n",
    "\n",
    "# refrange = ref.make_range(\"20\", 60127, 60137, True)\n",
    "# self.assertEqual(str(refrange.sequence), 'CACCATGGAC')"
   ]
  },
  {
   "cell_type": "code",
   "execution_count": null,
   "metadata": {
    "collapsed": true
   },
   "outputs": [],
   "source": []
  }
 ],
 "metadata": {
  "kernelspec": {
   "display_name": "Python 2",
   "language": "python",
   "name": "python2"
  },
  "language_info": {
   "codemirror_mode": {
    "name": "ipython",
    "version": 2
   },
   "file_extension": ".py",
   "mimetype": "text/x-python",
   "name": "python",
   "nbconvert_exporter": "python",
   "pygments_lexer": "ipython2",
   "version": "2.7.6"
  }
 },
 "nbformat": 4,
 "nbformat_minor": 0
}
