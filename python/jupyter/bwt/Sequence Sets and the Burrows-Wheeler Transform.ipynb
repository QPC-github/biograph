{
 "cells": [
  {
   "cell_type": "markdown",
   "metadata": {},
   "source": [
    "Sequence sets and the Burrows-Wheeler Transform\n",
    "=====\n",
    "\n",
    "The <a href=\"https://en.wikipedia.org/wiki/Burrows%E2%80%93Wheeler_transform\">Burrows-Wheeler Transform</a> (**BWT**) is traditionally used to improve the compressibility of large texts. For bioinformatics applications, it allows for very rapid searches of arbitrarily long strings for substring $W$ in $O(\\ |W|\\ )$ time. The BWT is generally applicable to strings of symbols that have a well-defined unique position for each symbol, such as genomes and chromosomes.\n",
    "\n",
    "Every possible substring of the original string of symbols can be represented by a range of BWT entries.\n",
    "\n",
    "[figure]\n",
    "\n",
    "Spiral's sequence set format extends the BWT to support multiple strings with ambiguous position. The memory efficiency of BWT representation is leveraged, making the sequence set extremely compact. This makes it suitable for searching for substrings and overlaps in large numbers of similar strings (such as sequencing reads).\n",
    "\n",
    "Every possible substring of every original string, as well as sequences that overlap two or more original strings, can be represented by a range of sequence set entries.\n",
    "\n",
    "[figure]"
   ]
  },
  {
   "cell_type": "markdown",
   "metadata": {},
   "source": [
    "Conventions\n",
    "-----\n",
    "\n",
    "Terminology and definitions used here are similar to <a href=\"http://bioinformatics.oxfordjournals.org/content/25/14/1754\">doi:10.1093/bioinformatics/btp324</a>, _Fast and accurate short read alignment with Burrows–Wheeler transform_ by Heng Li and Richard Durbin, with some important differences.\n",
    "\n",
    "We use common programming conventions relating to sets:\n",
    " * The first element of a sequence is always the 0th element\n",
    " * Ranges are represented as <a href=\"http://mathworld.wolfram.com/Half-ClosedInterval.html\">half-closed intervals</a>, and use the notation [start, end)\n",
    " \n",
    "For example this range of integers:\n",
    "\n",
    "> 2, 3, 4, 5, 6\n",
    "\n",
    "...is represented by the interval [2,7). The value at index 2 is 4. There are five items in the list, equivalent to _end - start = 7 - 2 = 5_."
   ]
  },
  {
   "cell_type": "markdown",
   "metadata": {},
   "source": [
    "Definitions\n",
    "-----\n",
    "\n",
    "For an alphabet of symbols $\\Sigma = [ A, C, G, T ] $\n",
    "\n",
    "$\\alpha = $ one symbol of alphabet $\\Sigma$\n",
    "\n",
    "${X}$ = source string $\\alpha_{0}\\alpha_{1}\\ldots\\alpha_{n-1}$\n",
    "\n",
    "$\\$ =$ end of string\n",
    "\n",
    "${n}$ = number of symbols in ${X}$\n",
    "\n",
    "${i} = 0,1,\\ldots,{n-1}$\n",
    "\n",
    "${X}[i] = \\alpha_i$\n",
    "\n",
    "${X}[i,j+1) = \\alpha_i\\ldots\\alpha_j$ (substring)\n",
    "\n",
    "${X_i} = X[i,n)$ (suffix)\n",
    "\n",
    "$X[n] = \\$$ (string terminator)\n",
    "\n",
    "$S(i) = i$ th lexicographically smallest suffix (aka index into X where suffix starts)\n",
    "\n",
    "$B$ is the BWT string: list of symbols that precede the first symbol in the sorted suffix list\n",
    "\n",
    ">$B[i] = \\$$ when $S(i) = 0$\n",
    "\n",
    ">$B[i] = X[S(i) - 1]$\n",
    "\n",
    "$W =$ a potential substring of $X$\n",
    "\n",
    "Bounds:\n",
    "\n",
    ">$\\underline{R}(W) = min\\{k:W $ is the prefix of $X_{S(k)}\\}$\n",
    "\n",
    ">$\\overline{R}(W) = max\\{k:W $ is the prefix of $X_{S(k)}\\}$\n",
    "\n",
    "For empty string $W = \\$$:\n",
    "\n",
    ">$\\underline{R}(W) = 0$\n",
    "\n",
    ">$\\overline{R}(W) = n - 1$\n",
    "\n",
    "_Note that Li and Durbin define $\\underline{R}(W) = 1$ for empty string W, but this requires off-by-one fix-ups later._\n",
    "\n",
    "Set of positions of all occurrences of $W$ in $X$:\n",
    "\n",
    ">$\\{S(k):\\underline{R}(W) <= k <= \\overline{R}(W)\\}$\n",
    "\n",
    "Is W a substring of X?\n",
    "\n",
    "> If $\\underline{R}(W) > \\overline{R}(W)$ then $W$ is not a substring of $X$.\n",
    "\n",
    "> If $\\underline{R}(W) = \\overline{R}(W)$ then $W$ matches exactly one BWT entry.\n",
    "\n",
    "> If $\\underline{R}(W) < \\overline{R}(W)$ then $W$ matches all BWT entries between (inclusive).\n",
    "\n",
    "$SA$ interval $= \\big[\\ \\underline{R}(W), \\overline{R}(W)\\ \\big] =$ the range of BWT entries that match $W$ (inclusive). \n",
    "\n",
    "When using half-closed intervals, _end - start = number of matches_:\n",
    "\n",
    "$SA$ interval $= \\big[\\ \\underline{R}(W), \\overline{R}(W) + 1\\ \\big)$ (exclusive)\n",
    "\n",
    "Backward search in $O(\\ |W|\\ )$ time:\n",
    "\n",
    ">$C(\\alpha) =$ the number of symbols in $X[0,n-1)$ that are lexicographically smaller than $\\alpha$\n",
    "\n",
    ">$O(\\alpha,i) =$ # of occurrences of $\\alpha$ in $B[0,i]$ (inclusive)\n",
    "\n",
    "If $W$ is a substring of $X$:\n",
    "\n",
    ">$\\underline{R}(\\alpha{W}) = C(\\alpha) + O(\\alpha,\\underline{R}(W)-1)+1$\n",
    "\n",
    ">$\\overline{R}(\\alpha{W}) = C(\\alpha) + O(\\alpha, \\overline{R}(W))$"
   ]
  },
  {
   "cell_type": "markdown",
   "metadata": {},
   "source": [
    "An example BWT implementation\n",
    "-----\n",
    "\n",
    "The following code demonstrates a simple (but inefficient) method for implementing and querying the BWT. It is intended to illustrate the general BWT approach. Real implementations use vastly more efficient methods for BWT production and search."
   ]
  },
  {
   "cell_type": "code",
   "execution_count": 52,
   "metadata": {
    "collapsed": false
   },
   "outputs": [
    {
     "name": "stdout",
     "output_type": "stream",
     "text": [
      "# suffix\n",
      "0 $\n",
      "1 AC$\n",
      "2 ATTGCTAC$\n",
      "3 C$\n",
      "4 CTAC$\n",
      "5 GCTAC$\n",
      "6 TAC$\n",
      "7 TGCTAC$\n",
      "8 TTGCTAC$\n"
     ]
    }
   ],
   "source": [
    "# For string X\n",
    "X = \"ATTGCTAC$\"\n",
    "\n",
    "# Sort all suffixes\n",
    "suffixes = sorted([X[i:] for i in range(len(X))])\n",
    "\n",
    "print \"# suffix\"\n",
    "for i, suffix in enumerate(suffixes):\n",
    "    print \"{i} {suffix}\".format(i=i, suffix=suffix)"
   ]
  },
  {
   "cell_type": "code",
   "execution_count": 45,
   "metadata": {
    "collapsed": false
   },
   "outputs": [
    {
     "name": "stdout",
     "output_type": "stream",
     "text": [
      "[8, 6, 0, 7, 4, 3, 5, 2, 1]\n"
     ]
    }
   ],
   "source": [
    "# Calculate S\n",
    "S = []\n",
    "for suffix in suffixes:\n",
    "    S.append(X.find(suffix))\n",
    "    \n",
    "print S"
   ]
  },
  {
   "cell_type": "code",
   "execution_count": 46,
   "metadata": {
    "collapsed": false
   },
   "outputs": [
    {
     "name": "stdout",
     "output_type": "stream",
     "text": [
      "A: []\n",
      "C: ['A', 'A']\n",
      "G: ['A', 'C', 'A', 'C']\n",
      "T: ['A', 'G', 'C', 'A', 'C']\n",
      "\n",
      "{'A': 0, 'C': 2, 'T': 5, 'G': 4}\n"
     ]
    }
   ],
   "source": [
    "# C(a) =  # of symbols in X[0,n−1) that are lexicographically smaller than a.\n",
    "\n",
    "# Precalculate the C(a) table. This lets us look up C(a) without knowing B.\n",
    "Ca = {}\n",
    "\n",
    "# all unique symbols in X except for $\n",
    "symbols = ''.join(sorted(list(set(X)))[1:])\n",
    "\n",
    "for symbol in symbols:\n",
    "    smaller = [x for x in X[:-1] if x < symbol]\n",
    "    print symbol + ': ' + str(smaller)\n",
    "    Ca[symbol] = len(smaller)\n",
    "\n",
    "print '\\n', Ca"
   ]
  },
  {
   "cell_type": "code",
   "execution_count": 47,
   "metadata": {
    "collapsed": false
   },
   "outputs": [
    {
     "name": "stdout",
     "output_type": "stream",
     "text": [
      "CT$AGTCTA\n",
      "9\n"
     ]
    }
   ],
   "source": [
    "# B: X[S(i)-1]\n",
    "def B(i):\n",
    "    return X[S[i]-1]\n",
    "\n",
    "# n == |X| == |B| == |S|\n",
    "n = len(X)\n",
    "\n",
    "# String representation of B\n",
    "B_str = ''.join([B(i) for i in range(n)])\n",
    "\n",
    "print B_str\n",
    "print n"
   ]
  },
  {
   "cell_type": "code",
   "execution_count": 48,
   "metadata": {
    "collapsed": false,
    "scrolled": true
   },
   "outputs": [],
   "source": [
    "# O(a,i): number of occurrences of a in B up to index i (inclusive)\n",
    "def O(a, i):\n",
    "    count = 0\n",
    "    for base in B_str[:i+1]:\n",
    "        if base == a:\n",
    "            count += 1\n",
    "    return count\n",
    "\n",
    "# r('$') == 0\n",
    "r_cache = {'': 0}\n",
    "\n",
    "# r underbar: lower limit of substring W in BWT\n",
    "def r(w):\n",
    "    # Precache all substrings.\n",
    "    for aW in [w[i:] for i in range(len(w))][::-1]:\n",
    "        if(not aW in r_cache):\n",
    "            a = aW[0]\n",
    "            W = aW[1:]\n",
    "            r_cache[aW] = Ca[a] + O(a, r(W) - 1) + 1\n",
    "    return r_cache[w]\n",
    "\n",
    "# by definition, R('$') == n - 1\n",
    "R_cache = {'': n - 1}\n",
    "\n",
    "# R overbar: upper limit of substring W in BWT\n",
    "def R(w):\n",
    "    for aW in [w[i:] for i in range(len(w))][::-1]:\n",
    "        if(not aW in R_cache):\n",
    "            a = aW[0]\n",
    "            W = aW[1:]\n",
    "            R_cache[aW] = Ca[a] + O(a, R(W))\n",
    "    return R_cache[w]\n",
    "\n",
    "# SA value: compute [i,j) for W\n",
    "def calc_SA(w):\n",
    "    return [r(w), R(w)]\n",
    "\n",
    "# Print calc_SA[i,j] in [inclusive, exclusive) format\n",
    "def SA(W):\n",
    "    i, j = calc_SA(W)\n",
    "    return \"'{}': [{}, {})\".format(W, i, j + 1)"
   ]
  },
  {
   "cell_type": "code",
   "execution_count": 49,
   "metadata": {
    "collapsed": false,
    "scrolled": true
   },
   "outputs": [
    {
     "name": "stdout",
     "output_type": "stream",
     "text": [
      "# suffix\n",
      "0 $\n",
      "1 AC$\n",
      "2 ATTGCTAC$\n",
      "3 C$\n",
      "4 CTAC$\n",
      "5 GCTAC$\n",
      "6 TAC$\n",
      "7 TGCTAC$\n",
      "8 TTGCTAC$\n",
      "\n",
      "B = CT$AGTCTA\n",
      "\n",
      "A: 'A': [1, 3)\n",
      "C: 'C': [3, 5)\n",
      "G: 'G': [5, 6)\n",
      "T: 'T': [6, 9)\n",
      "\n",
      "SA('GCT') = 'GCT': [5, 6)\n",
      "SA('GA') = 'GA': [5, 5)\n",
      "SA('T') = 'T': [6, 9)\n",
      "SA('') = '': [0, 9)\n"
     ]
    }
   ],
   "source": [
    "# Let's find SA values for some substrings\n",
    "print \"# suffix\"\n",
    "for i, suffix in enumerate(suffixes):\n",
    "    print \"{i} {suffix}\".format(i=i, suffix=suffix)\n",
    "\n",
    "print \"\\nB = \" + B_str + \"\\n\"\n",
    "\n",
    "for symbol in symbols:\n",
    "    print symbol + ':', SA(symbol)\n",
    "\n",
    "queries = [\n",
    "    'GCT', # exactly one match\n",
    "    'GA',  # not in X\n",
    "    'T',   # more than one match\n",
    "    '',    # empty string, full range\n",
    "]\n",
    "\n",
    "print\n",
    "for q in queries:\n",
    "    print \"SA('\" + q + \"') = \" + str(SA(q))"
   ]
  },
  {
   "cell_type": "code",
   "execution_count": 40,
   "metadata": {
    "collapsed": false
   },
   "outputs": [
    {
     "name": "stdout",
     "output_type": "stream",
     "text": [
      "ATTGCTAC$\n",
      "\n",
      "A is found at:\n",
      " 6 (A)\n",
      " 0 (A)\n",
      "\n",
      "TG is found at:\n",
      " 2 (TG)\n",
      "\n",
      "TAC is found at:\n",
      " 5 (TAC)\n"
     ]
    }
   ],
   "source": [
    "# Turn BWT entry numbers back into indexes in X by looking them up in S\n",
    "def find_it(query):\n",
    "    begin, end = calc_SA(query)\n",
    "\n",
    "    print '\\n{} is found at:'.format(query)\n",
    "    for i in range(begin, end + 1):\n",
    "        print ' {} ({})'.format(S[i], X[S[i]:S[i]+len(query)])\n",
    "        \n",
    "print X\n",
    "\n",
    "find_it('A')\n",
    "find_it('TG')\n",
    "find_it('TAC')"
   ]
  },
  {
   "cell_type": "markdown",
   "metadata": {},
   "source": [
    "The Biograph sequence set format\n",
    "-----"
   ]
  },
  {
   "cell_type": "code",
   "execution_count": null,
   "metadata": {
    "collapsed": true
   },
   "outputs": [],
   "source": []
  }
 ],
 "metadata": {
  "kernelspec": {
   "display_name": "Python 2",
   "language": "python",
   "name": "python2"
  },
  "language_info": {
   "codemirror_mode": {
    "name": "ipython",
    "version": 2
   },
   "file_extension": ".py",
   "mimetype": "text/x-python",
   "name": "python",
   "nbconvert_exporter": "python",
   "pygments_lexer": "ipython2",
   "version": "2.7.6"
  }
 },
 "nbformat": 4,
 "nbformat_minor": 0
}
