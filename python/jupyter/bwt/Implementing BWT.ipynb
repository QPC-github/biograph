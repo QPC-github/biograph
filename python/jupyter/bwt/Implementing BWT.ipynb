{
 "cells": [
  {
   "cell_type": "markdown",
   "metadata": {},
   "source": [
    "The BWT\n",
    "-------\n",
    "\n",
    "Follow along at doi:10.1093/bioinformatics/btp324, _Fast and accurate short read alignment with Burrows–Wheeler transform_ by Heng Li and Richard Durbin.\n",
    "\n",
    "But note that a couple of their definitions seem to be incorrect. Adjustments will be noted.\n",
    "\n",
    "For an alphabet of symbols:\n",
    "\n",
    "$\\Sigma = [ A, C, G, T ] $\n",
    "\n",
    "$\\alpha = $ one symbol of alphabet $\\Sigma$\n",
    "\n",
    "${X}$ = source string $\\alpha_{0}\\alpha_{1}\\ldots\\alpha_{n-1}$\n",
    "\n",
    "$\\$ =$ end of string\n",
    "\n",
    "${n}$ = number of symbols in ${X}$\n",
    "\n",
    "${X}[i] = \\alpha_i$\n",
    "\n",
    "${i} = 0,1,\\ldots,{n-1}$\n",
    "\n",
    "${X}[i,j] = \\alpha_i\\ldots\\alpha_j$ (substring)\n",
    "\n",
    "${X_i} = X[i,n-1]$ (suffix)\n",
    "\n",
    "$S(i) = i$ th lexicographically smallest suffix (aka index into X where suffix starts)\n",
    "\n",
    "$B$ is the BWT string: list of symbols that precede the first symbol in the sorted suffix list\n",
    "\n",
    ">$B[i] = \\$$ when $S(i) = 0$\n",
    "\n",
    ">$B[i] = X[S(i) - 1]$\n",
    "\n",
    "$W =$ a potential substring of $X$\n",
    "\n",
    "Bounds:\n",
    "\n",
    ">$\\underline{R}(W) = min\\{k:W $ is the prefix of $X_{S(k)}\\}$\n",
    "\n",
    ">$\\overline{R}(W) = max\\{k:W $ is the prefix of $X_{S(k)}\\}$\n",
    "\n",
    "For empty string $W = \\$$:\n",
    "\n",
    ">$\\underline{R}(W) = 0$\n",
    "\n",
    ">$\\overline{R}(W) = n - 1$\n",
    "\n",
    "(Note that Li and Durbin define $\\underline{R}(W) = 1$ for empty string W to eliminate the need to define $O(\\alpha, -1)$, but this leads to off-by-one errors later.)\n",
    "\n",
    "Set of positions of all occurrences of $W$ in $X$:\n",
    "\n",
    ">$\\{S(k):\\underline{R}(W) <= k <= \\overline{R}(W)\\}$\n",
    "\n",
    "Is W a substring of X?\n",
    "\n",
    "> If $\\underline{R}(W) > \\overline{R}(W)$ then $W$ is not a substring of $X$.\n",
    "\n",
    "> If $\\underline{R}(W) = \\overline{R}(W)$ then $W$ matches exactly one BWT entry.\n",
    "\n",
    "> If $\\underline{R}(W) < \\overline{R}(W)$ then $W$ matches all BWT entries between (inclusive).\n",
    "\n",
    "$SA$ interval $= [ \\underline{R}(W), \\overline{R}(W) ]$\n",
    "\n",
    "Backward search in $O(|W|)$ time:\n",
    "\n",
    ">$C(\\alpha) =$ # of symbols in $X[0,n-1)$ (exclusive!) that are lexicographically smaller than $\\alpha$\n",
    "\n",
    ">$O(\\alpha,i) =$ # of occurrences of $\\alpha$ in $B[0,i]$ (inclusive!)\n",
    "\n",
    "By Spiral's definition:\n",
    "\n",
    ">$O(\\alpha, -1) = 0$\n",
    "\n",
    "If $W$ is a substring of $X$:\n",
    "\n",
    ">$\\underline{R}(\\alpha{W}) = C(\\alpha) + O(\\alpha,\\underline{R}(W)-1) + 1$\n",
    "\n",
    ">$\\overline{R}(\\alpha{W}) = C(\\alpha) + O(\\alpha, \\overline{R}(W))$\n"
   ]
  },
  {
   "cell_type": "code",
   "execution_count": 93,
   "metadata": {
    "collapsed": false
   },
   "outputs": [
    {
     "name": "stdout",
     "output_type": "stream",
     "text": [
      "# suffix\n",
      "0 $\n",
      "1 AC$\n",
      "2 ATTGCTAC$\n",
      "3 C$\n",
      "4 CTAC$\n",
      "5 GCTAC$\n",
      "6 TAC$\n",
      "7 TGCTAC$\n",
      "8 TTGCTAC$\n"
     ]
    }
   ],
   "source": [
    "# For string X\n",
    "X = \"ATTGCTAC$\"\n",
    "\n",
    "# Calculate all suffixes\n",
    "suffixes = sorted([X[i:] for i in range(len(X))])\n",
    "\n",
    "print \"# suffix\"\n",
    "for i, suffix in enumerate(suffixes):\n",
    "    print \"{i} {suffix}\".format(i=i, suffix=suffix)"
   ]
  },
  {
   "cell_type": "code",
   "execution_count": 94,
   "metadata": {
    "collapsed": false
   },
   "outputs": [
    {
     "name": "stdout",
     "output_type": "stream",
     "text": [
      "[8, 6, 0, 7, 4, 3, 5, 2, 1]\n"
     ]
    }
   ],
   "source": [
    "# Calculate S\n",
    "S = []\n",
    "for suffix in suffixes:\n",
    "    S.append(X.find(suffix))\n",
    "    \n",
    "print S"
   ]
  },
  {
   "cell_type": "code",
   "execution_count": 95,
   "metadata": {
    "collapsed": false
   },
   "outputs": [
    {
     "name": "stdout",
     "output_type": "stream",
     "text": [
      "A: []\n",
      "C: ['A', 'A']\n",
      "G: ['A', 'C', 'A', 'C']\n",
      "T: ['A', 'G', 'C', 'A', 'C']\n",
      "\n",
      "{'A': 0, 'C': 2, 'T': 5, 'G': 4}\n"
     ]
    }
   ],
   "source": [
    "# C(a) =  # of symbols in X[0,n−1) that are lexicographically smaller than a.\n",
    "\n",
    "# Precalculate the C(a) table. This lets us look up C(a) without knowing B.\n",
    "Ca = {}\n",
    "\n",
    "# all unique symbols in X except for $\n",
    "symbols = ''.join(sorted(list(set(X)))[1:])\n",
    "\n",
    "for symbol in symbols:\n",
    "    print symbol + ': ' + str([x for x in X[:-1] if x < symbol])\n",
    "    Ca[symbol] = len([x for x in X[:-1] if x < symbol])\n",
    "\n",
    "print '\\n', Ca"
   ]
  },
  {
   "cell_type": "code",
   "execution_count": 96,
   "metadata": {
    "collapsed": false
   },
   "outputs": [
    {
     "name": "stdout",
     "output_type": "stream",
     "text": [
      "CT$AGTCTA\n",
      "9\n"
     ]
    }
   ],
   "source": [
    "# B: X[S(i)-1]\n",
    "def B(i):\n",
    "    return X[S[i]-1]\n",
    "\n",
    "# n == |X| == |B| == |S|\n",
    "n = len(X)\n",
    "\n",
    "# String representation of B\n",
    "B_str = ''.join([B(i) for i in range(n)])\n",
    "\n",
    "print B_str\n",
    "print n"
   ]
  },
  {
   "cell_type": "code",
   "execution_count": 97,
   "metadata": {
    "collapsed": false
   },
   "outputs": [],
   "source": [
    "# O(a,i): number of occurrences of a in B up to index i (inclusive)\n",
    "def O(a, i):\n",
    "    if i < 0:\n",
    "        return 0 # O(a, -1) == 0\n",
    "    count = 0\n",
    "    for base in B_str[:i+1]:\n",
    "        if base == a:\n",
    "            count += 1\n",
    "    return count\n",
    "\n",
    "# r underbar: first suffix that matches W (silly linear search)\n",
    "def r(w):\n",
    "    if not w:\n",
    "        return 0 # r('') == 0\n",
    "    for i, suffix in enumerate(suffixes):\n",
    "        if w == suffix[:len(w)]:\n",
    "            return i\n",
    "    return n\n",
    "\n",
    "# R overbar: last suffix that matches W (silly linear search)\n",
    "def R(w):\n",
    "    if not w:\n",
    "        return n - 1 # R('') = n - 1\n",
    "    for i, suffix in enumerate(suffixes[::-1]):\n",
    "        if w == suffix[:len(w)]:\n",
    "            return n - i - 1\n",
    "    return 1\n",
    "    \n",
    "# SA value: compute [i,j] for W\n",
    "def SA(w):\n",
    "    return [r(w), R(w)]"
   ]
  },
  {
   "cell_type": "code",
   "execution_count": 98,
   "metadata": {
    "collapsed": false,
    "scrolled": true
   },
   "outputs": [
    {
     "name": "stdout",
     "output_type": "stream",
     "text": [
      "# suffix\n",
      "0 $\n",
      "1 AC$\n",
      "2 ATTGCTAC$\n",
      "3 C$\n",
      "4 CTAC$\n",
      "5 GCTAC$\n",
      "6 TAC$\n",
      "7 TGCTAC$\n",
      "8 TTGCTAC$\n",
      "\n",
      "B = CT$AGTCTA\n",
      "\n",
      "A: [1, 2]\n",
      "C: [3, 4]\n",
      "G: [5, 5]\n",
      "T: [6, 8]\n",
      "SA('GCT') = [5, 5]\n",
      "SA('GC') = [5, 5]\n",
      "SA('GA') = [9, 1]\n",
      "SA('T') = [6, 8]\n",
      "SA('') = [0, 8]\n"
     ]
    }
   ],
   "source": [
    "# Let's find SA values for some substrings\n",
    "print \"# suffix\"\n",
    "for i, suffix in enumerate(suffixes):\n",
    "    print \"{i} {suffix}\".format(i=i, suffix=suffix)\n",
    "\n",
    "print \"\\nB = \" + B_str + \"\\n\"\n",
    "\n",
    "for symbol in symbols:\n",
    "    print symbol + ':', SA(symbol)\n",
    "\n",
    "queries = [\n",
    "    'GCT', # i == j, exactly one match\n",
    "    'GC', # i == j, exactly one match\n",
    "    'GA',  # i > j, not in X\n",
    "    'T',   # i < j, more than one match\n",
    "    '',    # empty string, full range\n",
    "]\n",
    "\n",
    "for q in queries:\n",
    "    print \"SA('\" + q + \"') = \" + str(SA(q))"
   ]
  },
  {
   "cell_type": "code",
   "execution_count": 99,
   "metadata": {
    "collapsed": false
   },
   "outputs": [
    {
     "name": "stdout",
     "output_type": "stream",
     "text": [
      "Bitcounts:\n",
      "\n",
      "0 {'A': 0, 'C': 1, 'T': 0, 'G': 0}\n",
      "1 {'A': 0, 'C': 1, 'T': 1, 'G': 0}\n",
      "2 {'A': 0, 'C': 1, 'T': 1, 'G': 0}\n",
      "3 {'A': 1, 'C': 1, 'T': 1, 'G': 0}\n",
      "4 {'A': 1, 'C': 1, 'T': 1, 'G': 1}\n",
      "5 {'A': 1, 'C': 1, 'T': 2, 'G': 1}\n",
      "6 {'A': 1, 'C': 2, 'T': 2, 'G': 1}\n",
      "7 {'A': 1, 'C': 2, 'T': 3, 'G': 1}\n",
      "8 {'A': 2, 'C': 2, 'T': 3, 'G': 1}\n"
     ]
    }
   ],
   "source": [
    "# Calculate bitcounts, saving start entry of each base\n",
    "from copy import deepcopy\n",
    "\n",
    "bitcounts = [{'A':0, 'C':0, 'G':0, 'T':0}]\n",
    "\n",
    "for i, f in enumerate(S):\n",
    "    prev = deepcopy(bitcounts[i])\n",
    "    this = {}\n",
    "    \n",
    "    for base in \"ACGT\":\n",
    "        this[base] = prev[base]\n",
    "        \n",
    "    if(f):\n",
    "        base = X[f - 1]\n",
    "        this[base] = this[base] + 1\n",
    "        \n",
    "    bitcounts.append(this)\n",
    "\n",
    "# Drop the placeholder bitcounts[0] row\n",
    "bitcounts = bitcounts[1:]\n",
    "\n",
    "print \"Bitcounts:\\n\"\n",
    "for i, b in enumerate(bitcounts):\n",
    "    print \"{i} {b}\".format(i=i, b=b)\n"
   ]
  },
  {
   "cell_type": "markdown",
   "metadata": {},
   "source": [
    "A little bit of bit math\n",
    "------------------------\n",
    "\n",
    "The whole point of this exercise is to quickly find the position(s) in $X$ where $W$ is an exact match (if any). One more simplification lets us calculate $O(\\alpha, i)$ with bitcount lookups:\n",
    "\n",
    ">$\\underline{R}(\\alpha{W}) = C(\\alpha) + O(\\alpha,\\underline{R}(W)-1) + 1$\n",
    "\n",
    ">$O(\\alpha,\\underline{R}(W)-1) = \\underline{R}(\\alpha{W}) - C(\\alpha) - 1$\n",
    "\n",
    "If $\\underline{R}(\\alpha{W})$ and $C(\\alpha)$ are known, then $\\underline{R}(W)-1$ becomes a lookup in the bitcount table.\n"
   ]
  },
  {
   "cell_type": "code",
   "execution_count": 100,
   "metadata": {
    "collapsed": false
   },
   "outputs": [
    {
     "name": "stdout",
     "output_type": "stream",
     "text": [
      "O(a,i) == fast_O(a,i)\n"
     ]
    }
   ],
   "source": [
    "# fast_O(a,i): lookup r(W) in the bitcounts table\n",
    "def fast_O(a, i):\n",
    "    if i < 0:\n",
    "        return 0\n",
    "    return bitcounts[i][a]\n",
    "\n",
    "# The two methods are equivalent\n",
    "for a in symbols:\n",
    "    for i in range(n):\n",
    "        if O(a, i) != fast_O(a, i):\n",
    "            raise RuntimeError(\"O({0},{1}) {2} != {3}\".format(a, i, O(a, i), fast_O(a, i)))\n",
    "\n",
    "print \"O(a,i) == fast_O(a,i)\""
   ]
  },
  {
   "cell_type": "code",
   "execution_count": 101,
   "metadata": {
    "collapsed": false
   },
   "outputs": [],
   "source": [
    "# r underbar: lower limit of substring W in BWT\n",
    "# by Spiral's definition, r('$') == 0\n",
    "r_cache = {'': 0}\n",
    "def fast_r(w):\n",
    "    # Precache all substrings. We're gonna need them.\n",
    "    for aW in [w[i:] for i in range(len(w))][::-1]:\n",
    "        if(not aW in r_cache):\n",
    "            a = aW[0]\n",
    "            W = aW[1:]\n",
    "            r_cache[aW] = Ca[a] + fast_O(a, fast_r(W) - 1) + 1\n",
    "    return r_cache[w]\n",
    "\n",
    "# R overbar: upper limit of substring W in BWT\n",
    "# by definition, $('$') == n - 1\n",
    "R_cache = {'': n - 1}\n",
    "def fast_R(w):\n",
    "    for aW in [w[i:] for i in range(len(w))][::-1]:\n",
    "        if(not aW in R_cache):\n",
    "            a = aW[0]\n",
    "            W = aW[1:]\n",
    "            R_cache[aW] = Ca[a] + fast_O(a, fast_R(W))\n",
    "    return R_cache[w]\n",
    "    \n",
    "# SA value: compute [i,j] for W\n",
    "def fast_SA(w):\n",
    "    return [fast_r(w), fast_R(w)]"
   ]
  },
  {
   "cell_type": "code",
   "execution_count": 102,
   "metadata": {
    "collapsed": false,
    "scrolled": false
   },
   "outputs": [
    {
     "name": "stdout",
     "output_type": "stream",
     "text": [
      "# suffix\n",
      "0 $\n",
      "1 AC$\n",
      "2 ATTGCTAC$\n",
      "3 C$\n",
      "4 CTAC$\n",
      "5 GCTAC$\n",
      "6 TAC$\n",
      "7 TGCTAC$\n",
      "8 TTGCTAC$\n",
      "\n",
      "A: [1, 2] [1, 2]\n",
      "C: [3, 4] [3, 4]\n",
      "G: [5, 5] [5, 5]\n",
      "T: [6, 8] [6, 8]\n",
      "\n",
      "SA('GCT') = [5, 5] [5, 5]\n",
      "SA('GA') = [9, 1] [5, 4]\n",
      "SA('T') = [6, 8] [6, 8]\n",
      "SA('') = [0, 8] [0, 8]\n"
     ]
    }
   ],
   "source": [
    "print \"# suffix\"\n",
    "for i, suffix in enumerate(suffixes):\n",
    "    print \"{i} {suffix}\".format(i=i, suffix=suffix)\n",
    "print\n",
    "\n",
    "for symbol in symbols:\n",
    "    print symbol + ':', SA(symbol), fast_SA(symbol)\n",
    "print \n",
    "\n",
    "queries = [\n",
    "    'GCT', # i == j, exactly one match\n",
    "    'GA',  # i > j, not in X\n",
    "    'T',   # i < j, more than one match\n",
    "    '',    # empty string, full range\n",
    "]\n",
    "\n",
    "for q in queries:\n",
    "    print \"SA('\" + q + \"') = \" + str(SA(q)) + ' ' + str(fast_SA(q))\n"
   ]
  },
  {
   "cell_type": "code",
   "execution_count": 124,
   "metadata": {
    "collapsed": false,
    "scrolled": true
   },
   "outputs": [
    {
     "name": "stdout",
     "output_type": "stream",
     "text": [
      "Century bits:\n",
      "\n",
      "# c o suffix\n",
      "0 0 0 $\n",
      "1 1 0 AC$\n",
      "2 1 1 ATTGCTAC$\n",
      "3 0 2 C$\n",
      "4 0 2 CTAC$\n",
      "5 1 2 GCTAC$\n",
      "6 0 3 TAC$\n",
      "7 0 3 TGCTAC$\n",
      "8 0 3 TTGCTAC$\n",
      "\n",
      "Century table:\n",
      "\n",
      "# pos\n",
      "0 6\n",
      "1 0\n",
      "2 3\n"
     ]
    }
   ],
   "source": [
    "# Century table: getting back to X\n",
    "\n",
    "# Keep a position entry every (mod) positions in the original sequence\n",
    "mod = 3\n",
    "\n",
    "# Also track the cumulative count of century bits (a la bitcount)\n",
    "centcount = [0]\n",
    "\n",
    "print \"Century bits:\\n\"\n",
    "print \"# c o suffix\"\n",
    "for i, s in enumerate(suffixes):\n",
    "    centbit = 0 if S[i]%mod else 1\n",
    "    centcount.append(centcount[-1] + centbit)\n",
    "    print \"{i} {m} {o} {s}\".format(i=i, m=centbit, o=centcount[i], s=s)\n",
    "\n",
    "century = []\n",
    "\n",
    "for i, f in enumerate(S):\n",
    "    if not S[i]%mod:\n",
    "        century.append(f)\n",
    "\n",
    "print \"\\nCentury table:\\n\"\n",
    "print \"# pos\"\n",
    "for i, c in enumerate(century):\n",
    "    print \"{i} {c}\".format(i=i, c=c)"
   ]
  },
  {
   "cell_type": "code",
   "execution_count": 125,
   "metadata": {
    "collapsed": false
   },
   "outputs": [],
   "source": [
    "def w_to_x(W):\n",
    "    (i, j) = fast_SA(W)\n",
    "\n",
    "    reply = []\n",
    "    \n",
    "    for k in range(i, j + 1):\n",
    "        e = k  # e is the bwt entry under examination \n",
    "        w = W  # we will be pushing bases to the front of w\n",
    "        d = 0  # distance from century entry (# of pushes)\n",
    "\n",
    "        # No need to store the full century table: if centcount goes up on the next entry,\n",
    "        # then this is a century entry.\n",
    "        while centcount[e + 1] - centcount[e] == 0:\n",
    "            w = B_str[e] + w\n",
    "            e = fast_r(w)\n",
    "            d += 1\n",
    "        reply.append(century[centcount[e]] + d)\n",
    "        \n",
    "    return sorted(reply)\n",
    "\n",
    "def find_me(W):\n",
    "    print '{}:'.format(W)\n",
    "    for pos in w_to_x(W):\n",
    "        if W != X[pos:pos + len(W)]:\n",
    "            raise RuntimeError(\"X[{}] {} != {}\".format(pos, X[pos:pos + len(W)], W))\n",
    "        print \"  X[{}] == {}\".format(pos, X[pos:pos + len(W)])\n"
   ]
  },
  {
   "cell_type": "code",
   "execution_count": 126,
   "metadata": {
    "collapsed": false,
    "scrolled": false
   },
   "outputs": [
    {
     "name": "stdout",
     "output_type": "stream",
     "text": [
      "X = ATTGCTAC$\n",
      "\n",
      "All symbols:\n",
      "A:\n",
      "  X[0] == A\n",
      "  X[6] == A\n",
      "\n",
      "C:\n",
      "  X[4] == C\n",
      "  X[7] == C\n",
      "\n",
      "G:\n",
      "  X[3] == G\n",
      "\n",
      "T:\n",
      "  X[1] == T\n",
      "  X[2] == T\n",
      "  X[5] == T\n",
      "\n",
      "Canned lookups:\n",
      "GCT:\n",
      "  X[3] == GCT\n",
      "\n",
      "AAA:\n",
      "\n",
      "TGCTAC:\n",
      "  X[2] == TGCTAC\n",
      "\n",
      "ATT:\n",
      "  X[0] == ATT\n",
      "\n",
      "TGCTA:\n",
      "  X[2] == TGCTA\n",
      "\n",
      "CTA:\n",
      "  X[4] == CTA\n",
      "\n",
      "CTTAGGAGAAC:\n",
      "\n",
      "AC:\n",
      "  X[6] == AC\n",
      "\n"
     ]
    }
   ],
   "source": [
    "print \"X = {}\\n\".format(X)\n",
    "\n",
    "print 'All symbols:'\n",
    "for base in symbols:\n",
    "    find_me(base)\n",
    "    print\n",
    "    \n",
    "queries = [\n",
    "    'GCT',\n",
    "    'AAA',\n",
    "    'TGCTAC',\n",
    "    'ATT',\n",
    "    'TGCTA',\n",
    "    'CTA',\n",
    "    'CTTAGGAGAAC',\n",
    "    'AC'\n",
    "]\n",
    "\n",
    "print 'Canned lookups:'\n",
    "for q in queries:\n",
    "    find_me(q)\n",
    "    print"
   ]
  },
  {
   "cell_type": "code",
   "execution_count": 127,
   "metadata": {
    "collapsed": false,
    "scrolled": true
   },
   "outputs": [
    {
     "name": "stdout",
     "output_type": "stream",
     "text": [
      "ATTGCTAC$\n",
      "GTAGCAAT$\n",
      "\n",
      "Query T:\n",
      "  X[1] >> T\n",
      "  X[2] >> T\n",
      "  X[5] >> T\n",
      "  R[7] == X[0] << T\n",
      "  R[1] == X[6] << T\n"
     ]
    }
   ],
   "source": [
    "def revcomp(seq):\n",
    "    flip = {\n",
    "        'A': 'T',\n",
    "        'C': 'G',\n",
    "        'G': 'C',\n",
    "        'T': 'A',\n",
    "        'N': 'N',\n",
    "        'a': 't',\n",
    "        'c': 'g',\n",
    "        'g': 'c',\n",
    "        't': 'a',\n",
    "        'n': 'n',\n",
    "        '$': ''\n",
    "    }\n",
    "\n",
    "    reply = ''\n",
    "    for c in seq:\n",
    "        reply += flip[c]\n",
    "\n",
    "    # Got a $? Leave a $.\n",
    "    if c == '$':\n",
    "        reply = '$' + reply\n",
    "\n",
    "    return reply[::-1]\n",
    "\n",
    "def find_me_twice(W):\n",
    "    print 'Query {}:'.format(W)\n",
    "    for pos in w_to_x(W):\n",
    "        if W != X[pos:pos + len(W)]:\n",
    "            raise RuntimeError(\"X[{}] {} != {}\".format(pos, X[pos:pos + len(W)], W))\n",
    "        print \"  X[{}] >> {}\".format(pos, X[pos:pos + len(W)])\n",
    "\n",
    "    for pos in w_to_x(revcomp(W)):\n",
    "        if revcomp(W) != X[pos:pos + len(W)]:\n",
    "            raise RuntimeError(\"X[{}] {} != {}\".format(pos, revcomp(W), X[pos:pos + len(W)]))\n",
    "\n",
    "        rpos = n - 1 - pos - len(W) # Position in reverse complement(X)\n",
    "        print \"  R[{}] == X[{}] << {}\".format(rpos, pos, revcomp(X)[rpos:rpos + len(W)])\n",
    "            \n",
    "print X\n",
    "print revcomp(X)\n",
    "print \n",
    "find_me_twice('T')"
   ]
  },
  {
   "cell_type": "code",
   "execution_count": 128,
   "metadata": {
    "collapsed": false
   },
   "outputs": [
    {
     "name": "stdout",
     "output_type": "stream",
     "text": [
      "10 random substring lookups:\n",
      "Query TTGCTA:\n",
      "  X[1] >> TTGCTA\n",
      "Query A:\n",
      "  X[0] >> A\n",
      "  X[6] >> A\n",
      "  R[6] == X[1] << A\n",
      "  R[5] == X[2] << A\n",
      "  R[2] == X[5] << A\n",
      "Query ATTG:\n",
      "  X[0] >> ATTG\n",
      "Query T:\n",
      "  X[1] >> T\n",
      "  X[2] >> T\n",
      "  X[5] >> T\n",
      "  R[7] == X[0] << T\n",
      "  R[1] == X[6] << T\n",
      "Query T:\n",
      "  X[1] >> T\n",
      "  X[2] >> T\n",
      "  X[5] >> T\n",
      "  R[7] == X[0] << T\n",
      "  R[1] == X[6] << T\n",
      "Query A:\n",
      "  X[0] >> A\n",
      "  X[6] >> A\n",
      "  R[6] == X[1] << A\n",
      "  R[5] == X[2] << A\n",
      "  R[2] == X[5] << A\n",
      "Query T:\n",
      "  X[1] >> T\n",
      "  X[2] >> T\n",
      "  X[5] >> T\n",
      "  R[7] == X[0] << T\n",
      "  R[1] == X[6] << T\n",
      "Query A:\n",
      "  X[0] >> A\n",
      "  X[6] >> A\n",
      "  R[6] == X[1] << A\n",
      "  R[5] == X[2] << A\n",
      "  R[2] == X[5] << A\n",
      "Query T:\n",
      "  X[1] >> T\n",
      "  X[2] >> T\n",
      "  X[5] >> T\n",
      "  R[7] == X[0] << T\n",
      "  R[1] == X[6] << T\n",
      "Query A:\n",
      "  X[0] >> A\n",
      "  X[6] >> A\n",
      "  R[6] == X[1] << A\n",
      "  R[5] == X[2] << A\n",
      "  R[2] == X[5] << A\n",
      "\n",
      "10 random 2-mer lookups:\n",
      "Query AT:\n",
      "  X[0] >> AT\n",
      "  R[6] == X[0] << AT\n",
      "Query AG:\n",
      "  R[2] == X[4] << AG\n",
      "Query AT:\n",
      "  X[0] >> AT\n",
      "  R[6] == X[0] << AT\n",
      "Query TC:\n",
      "Query GA:\n",
      "Query AT:\n",
      "  X[0] >> AT\n",
      "  R[6] == X[0] << AT\n",
      "Query CC:\n",
      "Query GG:\n",
      "Query TT:\n",
      "  X[1] >> TT\n",
      "Query GT:\n",
      "  R[0] == X[6] << GT\n",
      "\n",
      "10 random 3-mer lookups:\n",
      "Query ACG:\n",
      "Query GCT:\n",
      "  X[3] >> GCT\n",
      "Query ACG:\n",
      "Query TGT:\n",
      "Query TCC:\n",
      "Query CTA:\n",
      "  X[4] >> CTA\n",
      "Query TTC:\n",
      "Query CTC:\n",
      "Query TTC:\n",
      "Query TCT:\n"
     ]
    }
   ],
   "source": [
    "from random import randrange, choice\n",
    "runs = 10\n",
    "\n",
    "print '{} random substring lookups:'.format(runs)\n",
    "for i in range(runs):\n",
    "    r = randrange(0, n - 2)\n",
    "    cache = []\n",
    "    q = 'x'\n",
    "    while q not in cache:\n",
    "        q = X[r:randrange(r + 1, n - 1)]\n",
    "        cache.append(q)\n",
    "    find_me_twice(q)\n",
    "    \n",
    "print '\\n{} random 2-mer lookups:'.format(runs)\n",
    "for i in range(runs):\n",
    "    cache = []\n",
    "    q = 'x'\n",
    "    while q not in cache:\n",
    "        q = choice(symbols) + choice(symbols)\n",
    "        cache.append(q)\n",
    "    find_me_twice(q)\n",
    "\n",
    "print '\\n{} random 3-mer lookups:'.format(runs)\n",
    "for i in range(runs):\n",
    "    cache = []\n",
    "    q = 'x'\n",
    "    while q not in cache:\n",
    "        q = choice(symbols) + choice(symbols) + choice(symbols)\n",
    "        cache.append(q)\n",
    "    find_me_twice(q)"
   ]
  }
 ],
 "metadata": {
  "kernelspec": {
   "display_name": "Python 2",
   "language": "python",
   "name": "python2"
  },
  "language_info": {
   "codemirror_mode": {
    "name": "ipython",
    "version": 2
   },
   "file_extension": ".py",
   "mimetype": "text/x-python",
   "name": "python",
   "nbconvert_exporter": "python",
   "pygments_lexer": "ipython2",
   "version": "2.7.6"
  }
 },
 "nbformat": 4,
 "nbformat_minor": 0
}
